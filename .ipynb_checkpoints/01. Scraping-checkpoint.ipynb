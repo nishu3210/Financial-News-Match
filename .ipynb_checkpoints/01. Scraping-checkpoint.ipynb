{
 "cells": [
  {
   "cell_type": "code",
   "execution_count": 7,
   "metadata": {},
   "outputs": [],
   "source": [
    "import requests\n",
    "from bs4 import BeautifulSoup\n",
    "from newspaper import Article\n",
    "import nltk\n",
    "import pymongo"
   ]
  },
  {
   "cell_type": "code",
   "execution_count": 11,
   "metadata": {},
   "outputs": [],
   "source": [
    "import numpy as np"
   ]
  },
  {
   "cell_type": "code",
   "execution_count": 303,
   "metadata": {},
   "outputs": [
    {
     "name": "stderr",
     "output_type": "stream",
     "text": [
      "[nltk_data] Downloading package punkt to C:\\Users\\Nishant\n",
      "[nltk_data]     Jain\\AppData\\Roaming\\nltk_data...\n",
      "[nltk_data]   Unzipping tokenizers\\punkt.zip.\n"
     ]
    },
    {
     "data": {
      "text/plain": [
       "True"
      ]
     },
     "execution_count": 303,
     "metadata": {},
     "output_type": "execute_result"
    }
   ],
   "source": [
    "# nltk.download('punkt')"
   ]
  },
  {
   "cell_type": "code",
   "execution_count": 2,
   "metadata": {},
   "outputs": [],
   "source": [
    "url = \"https://www.moneycontrol.com/\"\n",
    "req1 = requests.get(url)"
   ]
  },
  {
   "cell_type": "code",
   "execution_count": 3,
   "metadata": {},
   "outputs": [],
   "source": [
    "mnc = req1.content"
   ]
  },
  {
   "cell_type": "code",
   "execution_count": 4,
   "metadata": {},
   "outputs": [],
   "source": [
    "soup_mnc = BeautifulSoup(mnc)"
   ]
  },
  {
   "cell_type": "code",
   "execution_count": 5,
   "metadata": {},
   "outputs": [],
   "source": [
    "mnc_links = soup_mnc.find_all('a')"
   ]
  },
  {
   "cell_type": "code",
   "execution_count": 8,
   "metadata": {},
   "outputs": [],
   "source": [
    "myclient = pymongo.MongoClient(\"mongodb://localhost:27017/\")\n",
    "mydb = myclient[\"moneycontrol\"]"
   ]
  },
  {
   "cell_type": "code",
   "execution_count": 14,
   "metadata": {},
   "outputs": [],
   "source": [
    "links = []\n",
    "valid = []\n",
    "for i in range(len(mnc_links)):\n",
    "    try:\n",
    "        link = mnc_links[i]['href']\n",
    "    except:\n",
    "        continue\n",
    "    if(link.startswith(\"https://www.moneycontrol.com/news\")):\n",
    "        if(len(link)>100):\n",
    "            links.append(link)\n",
    "            valid.append(i)"
   ]
  },
  {
   "cell_type": "code",
   "execution_count": 16,
   "metadata": {},
   "outputs": [],
   "source": [
    "_ ,unq_index = np.unique(links,return_index=True)"
   ]
  },
  {
   "cell_type": "code",
   "execution_count": 22,
   "metadata": {},
   "outputs": [],
   "source": [
    "unq_index.sort()"
   ]
  },
  {
   "cell_type": "code",
   "execution_count": 27,
   "metadata": {},
   "outputs": [
    {
     "data": {
      "text/plain": [
       "array([  0,   2,   3,   4,   5,   6,   7,   8,   9,  10,  11,  13,  14,\n",
       "        15,  16,  17,  25,  26,  27,  28,  29,  30,  31,  32,  33,  34,\n",
       "        35,  36,  49,  50,  51,  52,  53,  54,  55,  56,  57,  58,  59,\n",
       "        60,  63,  65,  70,  71,  72,  73,  75,  76,  77,  79,  80,  81,\n",
       "        83,  85,  88,  89,  91,  93,  95,  97,  99, 101, 103, 105, 107,\n",
       "       109, 111, 113, 115, 117, 119, 121, 123, 125, 127, 129, 131, 133,\n",
       "       135, 137, 141, 143, 145, 147, 149, 151, 153, 155, 157, 159, 161,\n",
       "       163, 165, 167, 169, 171, 173, 177, 179, 181, 183, 187, 189, 191,\n",
       "       193, 195, 197, 199, 201, 203, 205, 207, 209, 211, 213, 215, 217,\n",
       "       219, 221, 223, 225, 227, 229, 231, 233, 235, 237, 239, 241, 243,\n",
       "       245, 247, 249, 251, 253, 255, 257, 259, 261, 263, 264, 265, 266,\n",
       "       267, 268, 270, 272, 274, 278, 280, 287, 288, 291, 292, 295, 296,\n",
       "       298, 299, 302, 304, 305], dtype=int64)"
      ]
     },
     "execution_count": 27,
     "metadata": {},
     "output_type": "execute_result"
    }
   ],
   "source": [
    "unq_index"
   ]
  },
  {
   "cell_type": "code",
   "execution_count": 32,
   "metadata": {},
   "outputs": [],
   "source": [
    "links = np.array(links)[unq_index]\n",
    "valid = np.array(valid)[unq_index]\n",
    "# valid = valid[unq_index]"
   ]
  },
  {
   "cell_type": "markdown",
   "metadata": {},
   "source": [
    "#### Get Articles Data"
   ]
  },
  {
   "cell_type": "code",
   "execution_count": 35,
   "metadata": {},
   "outputs": [],
   "source": [
    "article = Article(links[0])\n",
    "    "
   ]
  },
  {
   "cell_type": "code",
   "execution_count": 36,
   "metadata": {},
   "outputs": [],
   "source": [
    "article.download()"
   ]
  },
  {
   "cell_type": "code",
   "execution_count": 37,
   "metadata": {},
   "outputs": [],
   "source": [
    "article.parse()"
   ]
  },
  {
   "cell_type": "code",
   "execution_count": 38,
   "metadata": {},
   "outputs": [
    {
     "data": {
      "text/plain": [
       "'AstraZeneca\\'s experimental COVID-19 vaccine was safe and produced an immune response in early-stage clinical trials in healthy volunteers, data showed on Monday.\\n\\nThe vaccine, called AZD1222 and under development by AstraZeneca and scientists at Britain\\'s Oxford University, did not prompt any serious side effects and elicited antibody and T-cell immune responses, according to trial results published in The Lancet medical journal.\\n\\n\"We hope this means the immune system will remember the virus, so that our vaccine will protect people for an extended period,\" study lead author Andrew Pollard of the University of Oxford said.\\n\\n\"However, we need more research before we can confirm the vaccine effectively protects against SARS-CoV-2 (COVID-19) infection, and for how long any protection lasts,\" he said.\\n\\nAlso Read: Hype or hope? Oxford COVID-19 vaccine trial data is expected today — what we know so far\\n\\nAstraZeneca\\'s is among the leading vaccine candidates against a pandemic that has claimed more than 600,000 lives, alongside others in mid and late-stage trials.\\n\\nThese include shots being developed by China\\'s Sinovac Biotech, another from state-owned Chinese firm Sinopharm, and one from the U.S. biotech firm Moderna.\\n\\nAstraZeneca has signed agreements with governments around the world to supply the vaccine should it prove effective and gain regulatory approval. The company has said it will not seek to profit from the vaccine during the pandemic.\\n\\nResearchers said the vaccine caused minor side effects more frequently than a control group, but some of these could be reduced by taking paracetamol, with no serious adverse events from the vaccine.'"
      ]
     },
     "execution_count": 38,
     "metadata": {},
     "output_type": "execute_result"
    }
   ],
   "source": [
    "article.text"
   ]
  },
  {
   "cell_type": "code",
   "execution_count": 44,
   "metadata": {},
   "outputs": [
    {
     "data": {
      "text/plain": [
       "'First human trial of Oxford-AstraZeneca COVID-19 vaccine shows promise, produces immune response'"
      ]
     },
     "execution_count": 44,
     "metadata": {},
     "output_type": "execute_result"
    }
   ],
   "source": [
    "article.title"
   ]
  },
  {
   "cell_type": "markdown",
   "metadata": {},
   "source": [
    "# Setting up Mongo DB"
   ]
  },
  {
   "cell_type": "code",
   "execution_count": 1,
   "metadata": {},
   "outputs": [],
   "source": [
    "import pymongo"
   ]
  },
  {
   "cell_type": "code",
   "execution_count": 4,
   "metadata": {},
   "outputs": [],
   "source": [
    "myclient = pymongo.MongoClient(\"mongodb://localhost:27017/\")\n",
    "\n",
    "mydb = myclient[\"mydatabase\"]"
   ]
  }
 ],
 "metadata": {
  "kernelspec": {
   "display_name": "Python 3",
   "language": "python",
   "name": "python3"
  },
  "language_info": {
   "codemirror_mode": {
    "name": "ipython",
    "version": 3
   },
   "file_extension": ".py",
   "mimetype": "text/x-python",
   "name": "python",
   "nbconvert_exporter": "python",
   "pygments_lexer": "ipython3",
   "version": "3.8.3"
  }
 },
 "nbformat": 4,
 "nbformat_minor": 4
}
