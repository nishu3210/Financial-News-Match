{
 "cells": [
  {
   "cell_type": "markdown",
   "metadata": {},
   "source": [
    "# Data Scraping"
   ]
  },
  {
   "cell_type": "code",
   "execution_count": 1,
   "metadata": {},
   "outputs": [],
   "source": [
    "import requests\n",
    "from bs4 import BeautifulSoup\n",
    "from newspaper import Article\n",
    "import nltk\n",
    "import pymongo\n",
    "import numpy as np\n",
    "import pandas as pd"
   ]
  },
  {
   "cell_type": "code",
   "execution_count": 2,
   "metadata": {},
   "outputs": [],
   "source": [
    "# !python -m nltk.downloader all"
   ]
  },
  {
   "cell_type": "markdown",
   "metadata": {},
   "source": [
    "#### Moneycontrol"
   ]
  },
  {
   "cell_type": "code",
   "execution_count": 3,
   "metadata": {},
   "outputs": [],
   "source": [
    "url = \"https://www.moneycontrol.com/\"\n",
    "req1 = requests.get(url)\n",
    "mnc = req1.content\n",
    "soup_mnc = BeautifulSoup(mnc)\n",
    "mnc_links = soup_mnc.find_all('a')"
   ]
  },
  {
   "cell_type": "code",
   "execution_count": 4,
   "metadata": {},
   "outputs": [],
   "source": [
    "links = []\n",
    "valid = []\n",
    "for i in range(len(mnc_links)):\n",
    "    try:\n",
    "        link = mnc_links[i]['href']\n",
    "    except:\n",
    "        continue\n",
    "    if(link.startswith(\"https://www.moneycontrol.com/news\")):\n",
    "        if(len(link)>100):\n",
    "            links.append(link)\n",
    "            valid.append(i)"
   ]
  },
  {
   "cell_type": "markdown",
   "metadata": {},
   "source": [
    "Keeping only unique links"
   ]
  },
  {
   "cell_type": "code",
   "execution_count": 5,
   "metadata": {},
   "outputs": [],
   "source": [
    "_ ,unq_index = np.unique(links,return_index=True)\n",
    "\n",
    "unq_index.sort()\n",
    "\n",
    "links = np.array(links)[unq_index]\n",
    "valid = np.array(valid)[unq_index]\n"
   ]
  },
  {
   "cell_type": "markdown",
   "metadata": {},
   "source": [
    "#### Get Articles Data Function using newspaper library"
   ]
  },
  {
   "cell_type": "code",
   "execution_count": 6,
   "metadata": {},
   "outputs": [],
   "source": [
    "def article_to_text(link):\n",
    "    article = Article(link)\n",
    "    article.download()\n",
    "    article.parse()\n",
    "    return [article.text, article.title]"
   ]
  },
  {
   "cell_type": "markdown",
   "metadata": {},
   "source": [
    "## Clean Data via NLP pipeline"
   ]
  },
  {
   "cell_type": "code",
   "execution_count": 7,
   "metadata": {},
   "outputs": [],
   "source": [
    "from nltk.corpus import stopwords\n",
    "from nltk.stem.porter import PorterStemmer\n",
    "porter = PorterStemmer()\n",
    "stop_words = set(stopwords.words('english'))\n",
    "from sklearn.feature_extraction.text import TfidfVectorizer\n",
    "from sklearn.metrics.pairwise import cosine_similarity"
   ]
  },
  {
   "cell_type": "code",
   "execution_count": 8,
   "metadata": {},
   "outputs": [],
   "source": [
    "def identity_tokenizer(text):\n",
    "    return text"
   ]
  },
  {
   "cell_type": "code",
   "execution_count": 9,
   "metadata": {},
   "outputs": [],
   "source": [
    "def tranform_text(text):\n",
    "    tokens = nltk.tokenize.word_tokenize(text)\n",
    "\n",
    "    words = [word for word in tokens if word.isalpha()]\n",
    "\n",
    "    words = [w for w in words if not w in stop_words]\n",
    "\n",
    "    stemmed = [porter.stem(word.lower()) for word in words]\n",
    "    return stemmed"
   ]
  },
  {
   "cell_type": "markdown",
   "metadata": {},
   "source": [
    "# Setting up Mongo DB"
   ]
  },
  {
   "cell_type": "markdown",
   "metadata": {},
   "source": [
    "## MoneyControl"
   ]
  },
  {
   "cell_type": "code",
   "execution_count": 10,
   "metadata": {},
   "outputs": [],
   "source": [
    "import pymongo"
   ]
  },
  {
   "cell_type": "code",
   "execution_count": 11,
   "metadata": {},
   "outputs": [],
   "source": [
    "myclient = pymongo.MongoClient(\"mongodb://localhost:27017/\")\n",
    "\n",
    "mydb = myclient[\"mydatabase\"]"
   ]
  },
  {
   "cell_type": "code",
   "execution_count": 12,
   "metadata": {},
   "outputs": [],
   "source": [
    "mycol = mydb[\"moneycontrol\"]\n",
    "mycol.drop()"
   ]
  },
  {
   "cell_type": "code",
   "execution_count": 13,
   "metadata": {},
   "outputs": [
    {
     "data": {
      "text/plain": [
       "'link_1'"
      ]
     },
     "execution_count": 13,
     "metadata": {},
     "output_type": "execute_result"
    }
   ],
   "source": [
    "mycol.create_index(\"link\", unique = True)"
   ]
  },
  {
   "cell_type": "code",
   "execution_count": 14,
   "metadata": {},
   "outputs": [],
   "source": [
    "id_mnc = []\n",
    "for link in links:\n",
    "    text, title = article_to_text(link)\n",
    "    article_dict = {\"link\":link,\"text\": text, \"title\": title}\n",
    "    x = mycol.insert_one(article_dict)\n",
    "    id_mnc.append(x.inserted_id)"
   ]
  },
  {
   "cell_type": "code",
   "execution_count": 16,
   "metadata": {},
   "outputs": [],
   "source": [
    "# To check if any articles have missing data\n",
    "# cursor = mycol.find({\"$where\": 'this.text.length < 700'})\n",
    "# for document in cursor: pprint(document)"
   ]
  },
  {
   "cell_type": "code",
   "execution_count": 31,
   "metadata": {},
   "outputs": [
    {
     "data": {
      "text/plain": [
       "162"
      ]
     },
     "execution_count": 31,
     "metadata": {},
     "output_type": "execute_result"
    }
   ],
   "source": [
    "mycol.estimated_document_count()"
   ]
  },
  {
   "cell_type": "markdown",
   "metadata": {},
   "source": [
    "## Economic Times"
   ]
  },
  {
   "cell_type": "code",
   "execution_count": 17,
   "metadata": {},
   "outputs": [],
   "source": [
    "url = \"https://economictimes.indiatimes.com/\"\n",
    "req2 = requests.get(url)"
   ]
  },
  {
   "cell_type": "code",
   "execution_count": 18,
   "metadata": {},
   "outputs": [],
   "source": [
    "et = req2.content\n",
    "\n",
    "soup_et = BeautifulSoup(et)\n",
    "\n",
    "et_links = soup_et.find_all('a')"
   ]
  },
  {
   "cell_type": "code",
   "execution_count": 20,
   "metadata": {},
   "outputs": [],
   "source": [
    "et_links_extracted = []\n",
    "et_valid = []\n",
    "for i in range(len(et_links)):\n",
    "    try:\n",
    "        link = et_links[i][\"data-ga-onclick\"]\n",
    "    except:\n",
    "        continue\n",
    "    if(link.endswith(\"href\")):\n",
    "        if(link[0].isnumeric()):\n",
    "            if(len(et_links[i]['href'])>75):\n",
    "                if(et_links[i]['href'].startswith(\"https\")):\n",
    "                    et_links_extracted.append(et_links[i]['href'])\n",
    "                else:\n",
    "                    et_links_extracted.append(\"https://economictimes.indiatimes.com\"+et_links[i]['href'])\n",
    "                et_valid.append(i)\n"
   ]
  },
  {
   "cell_type": "code",
   "execution_count": 21,
   "metadata": {},
   "outputs": [],
   "source": [
    "# pd.DataFrame(zip(et_links_extracted,et_valid))"
   ]
  },
  {
   "cell_type": "code",
   "execution_count": 22,
   "metadata": {},
   "outputs": [],
   "source": [
    "_ ,unq_index_et = np.unique(et_links_extracted,return_index=True)\n",
    "\n",
    "unq_index_et.sort()\n",
    "\n",
    "et_links_extracted = np.array(et_links_extracted)[unq_index_et]\n",
    "et_valid = np.array(et_valid)[unq_index_et]"
   ]
  },
  {
   "cell_type": "markdown",
   "metadata": {},
   "source": [
    "#### Store data in db"
   ]
  },
  {
   "cell_type": "code",
   "execution_count": 23,
   "metadata": {},
   "outputs": [],
   "source": [
    "etcol = mydb[\"et\"]\n",
    "etcol.drop()"
   ]
  },
  {
   "cell_type": "code",
   "execution_count": 24,
   "metadata": {},
   "outputs": [
    {
     "data": {
      "text/plain": [
       "'link_1'"
      ]
     },
     "execution_count": 24,
     "metadata": {},
     "output_type": "execute_result"
    }
   ],
   "source": [
    "etcol.create_index(\"link\", unique = True)"
   ]
  },
  {
   "cell_type": "code",
   "execution_count": 25,
   "metadata": {},
   "outputs": [],
   "source": [
    "def article_to_text_bs4(url):\n",
    "    html = requests.get(url)\n",
    "    soup = BeautifulSoup(html.content)\n",
    "    try:\n",
    "        text = soup.find(\"div\", class_=\"artText\").get_text(separator = \" \")\n",
    "    except:\n",
    "        try:\n",
    "            text = soup.find(\"section\").get_text(separator = \" \")\n",
    "        except:\n",
    "            raise ValueError()\n",
    "    return text"
   ]
  },
  {
   "cell_type": "code",
   "execution_count": 26,
   "metadata": {},
   "outputs": [],
   "source": [
    "id_et = []\n",
    "for link in et_links_extracted:\n",
    "    text, title = article_to_text(link)\n",
    "    article_dict = {\"link\":link,\"text\": text, \"title\": title}\n",
    "    x = etcol.insert_one(article_dict)\n",
    "    id_et.append(x.inserted_id)"
   ]
  },
  {
   "cell_type": "code",
   "execution_count": 27,
   "metadata": {},
   "outputs": [],
   "source": [
    "# cursor = etcol.find({})\n",
    "# for document in cursor: pprint(document)"
   ]
  },
  {
   "cell_type": "code",
   "execution_count": 32,
   "metadata": {},
   "outputs": [
    {
     "data": {
      "text/plain": [
       "164"
      ]
     },
     "execution_count": 32,
     "metadata": {},
     "output_type": "execute_result"
    }
   ],
   "source": [
    "etcol.estimated_document_count()"
   ]
  },
  {
   "cell_type": "code",
   "execution_count": 29,
   "metadata": {},
   "outputs": [],
   "source": [
    "cursor = etcol.find({\"$where\": 'this.text.length < 700'})\n",
    "id_change = []\n",
    "for document in cursor: \n",
    "#     pprint(document)\n",
    "    id_change.append(document[\"_id\"])"
   ]
  },
  {
   "cell_type": "code",
   "execution_count": 30,
   "metadata": {},
   "outputs": [],
   "source": [
    "for ID in id_change:\n",
    "    etcol.update_one({\"_id\": pymongo.collection.ObjectId(ID)}, \n",
    "                     {\"$set\":{\"text\": article_to_text_bs4(etcol.find({\"_id\": pymongo.collection.ObjectId(ID)})[0]['link'])}})"
   ]
  },
  {
   "cell_type": "code",
   "execution_count": 33,
   "metadata": {},
   "outputs": [],
   "source": [
    "# for ID in id_change:\n",
    "#     pprint(etcol.find({\"_id\": pymongo.collection.ObjectId(ID)})[0])"
   ]
  },
  {
   "cell_type": "markdown",
   "metadata": {},
   "source": [
    "### TFIDF"
   ]
  },
  {
   "cell_type": "markdown",
   "metadata": {},
   "source": [
    "#### Get MongoDB to DF"
   ]
  },
  {
   "cell_type": "code",
   "execution_count": 34,
   "metadata": {},
   "outputs": [],
   "source": [
    "cursor_mnc = mycol.find({}) \n",
    "mnc = pd.DataFrame(list(cursor_mnc))"
   ]
  },
  {
   "cell_type": "code",
   "execution_count": 36,
   "metadata": {},
   "outputs": [],
   "source": [
    "cursor_et = etcol.find({}) \n",
    "et = pd.DataFrame(list(cursor_et))"
   ]
  },
  {
   "cell_type": "markdown",
   "metadata": {},
   "source": [
    "#### Dictionary of docs"
   ]
  },
  {
   "cell_type": "code",
   "execution_count": 48,
   "metadata": {},
   "outputs": [],
   "source": [
    "mnc_text_list = mnc.text.to_list()\n",
    "et_text_list = et.text.to_list()\n",
    "combined_list = mnc_text_list + et_text_list"
   ]
  },
  {
   "cell_type": "code",
   "execution_count": 49,
   "metadata": {},
   "outputs": [
    {
     "data": {
      "text/plain": [
       "326"
      ]
     },
     "execution_count": 49,
     "metadata": {},
     "output_type": "execute_result"
    }
   ],
   "source": [
    "len(combined_list)"
   ]
  },
  {
   "cell_type": "code",
   "execution_count": 103,
   "metadata": {},
   "outputs": [],
   "source": [
    "combined_list_tokenized = [tranform_text(l) for l in combined_list]"
   ]
  },
  {
   "cell_type": "code",
   "execution_count": 109,
   "metadata": {},
   "outputs": [],
   "source": [
    "tfdf = TfidfVectorizer(tokenizer=identity_tokenizer,lowercase=False)  "
   ]
  },
  {
   "cell_type": "code",
   "execution_count": 110,
   "metadata": {},
   "outputs": [
    {
     "name": "stderr",
     "output_type": "stream",
     "text": [
      "C:\\anaconda\\envs\\NLP\\lib\\site-packages\\sklearn\\feature_extraction\\text.py:484: UserWarning: The parameter 'token_pattern' will not be used since 'tokenizer' is not None'\n",
      "  warnings.warn(\"The parameter 'token_pattern' will not be used\"\n"
     ]
    }
   ],
   "source": [
    "tfdf_vector = tfdf.fit(combined_list_tokenized)"
   ]
  },
  {
   "cell_type": "code",
   "execution_count": 377,
   "metadata": {},
   "outputs": [],
   "source": [
    "index=tfdf_vector.get_feature_names()"
   ]
  },
  {
   "cell_type": "code",
   "execution_count": 170,
   "metadata": {},
   "outputs": [],
   "source": [
    "def get_tfidf(text):\n",
    "    return tfdf_vector.transform([tranform_text(text)]).todense()"
   ]
  },
  {
   "cell_type": "code",
   "execution_count": 382,
   "metadata": {},
   "outputs": [
    {
     "data": {
      "text/plain": [
       "matrix([[0.02731861, 0.        , 0.        , ..., 0.        , 0.        ,\n",
       "         0.        ]])"
      ]
     },
     "execution_count": 382,
     "metadata": {},
     "output_type": "execute_result"
    }
   ],
   "source": [
    "get_tfidf(combined_list[0])"
   ]
  },
  {
   "cell_type": "code",
   "execution_count": 179,
   "metadata": {},
   "outputs": [],
   "source": [
    "mnc[\"tfidf\"] = mnc.text.apply(get_tfidf)"
   ]
  },
  {
   "cell_type": "code",
   "execution_count": 180,
   "metadata": {},
   "outputs": [],
   "source": [
    "et[\"tfidf\"] = et.text.apply(get_tfidf)"
   ]
  },
  {
   "cell_type": "markdown",
   "metadata": {},
   "source": [
    "### Cosine Similarity"
   ]
  },
  {
   "cell_type": "code",
   "execution_count": 222,
   "metadata": {},
   "outputs": [],
   "source": [
    "df_cos_sim = pd.DataFrame(index=et._id, columns=mnc._id)"
   ]
  },
  {
   "cell_type": "code",
   "execution_count": 225,
   "metadata": {},
   "outputs": [],
   "source": [
    "def mongo_id(string_id):\n",
    "    return pymongo.collection.ObjectId(string_id)"
   ]
  },
  {
   "cell_type": "code",
   "execution_count": 226,
   "metadata": {},
   "outputs": [
    {
     "data": {
      "text/plain": [
       "nan"
      ]
     },
     "execution_count": 226,
     "metadata": {},
     "output_type": "execute_result"
    }
   ],
   "source": [
    "# df_cos_sim.loc[mongo_id(\"5f17453d0469677f8c1ec960\"),mongo_id(\"5f1744ba0469677f8c1ec8be\")]"
   ]
  },
  {
   "cell_type": "code",
   "execution_count": 228,
   "metadata": {},
   "outputs": [],
   "source": [
    "et.set_index(\"_id\",inplace=True)\n",
    "mnc.set_index(\"_id\", inplace=True)"
   ]
  },
  {
   "cell_type": "code",
   "execution_count": 262,
   "metadata": {},
   "outputs": [],
   "source": [
    "mnc.index = mnc.index.astype(\"category\")"
   ]
  },
  {
   "cell_type": "code",
   "execution_count": 263,
   "metadata": {},
   "outputs": [],
   "source": [
    "et.index =et.index.astype(\"category\")"
   ]
  },
  {
   "cell_type": "code",
   "execution_count": 264,
   "metadata": {},
   "outputs": [],
   "source": [
    "df_cos_sim.index =df_cos_sim.index.astype(\"category\")\n",
    "df_cos_sim.columns =df_cos_sim.columns.astype(\"category\")"
   ]
  },
  {
   "cell_type": "code",
   "execution_count": 233,
   "metadata": {},
   "outputs": [],
   "source": [
    "for index in df_cos_sim.index:\n",
    "    for col in df_cos_sim.columns:\n",
    "        df_cos_sim.at[index,col] = cosine_similarity(et.at[index,\"tfidf\"],mnc.at[col,\"tfidf\"])[0][0]"
   ]
  },
  {
   "cell_type": "code",
   "execution_count": 217,
   "metadata": {},
   "outputs": [
    {
     "data": {
      "text/plain": [
       "0.011467326574304998"
      ]
     },
     "execution_count": 217,
     "metadata": {},
     "output_type": "execute_result"
    }
   ],
   "source": [
    "# cosine_similarity(mnc.tfidf[0],et.tfidf[0])[0][0]"
   ]
  },
  {
   "cell_type": "code",
   "execution_count": 240,
   "metadata": {},
   "outputs": [
    {
     "data": {
      "text/html": [
       "<div>\n",
       "<style scoped>\n",
       "    .dataframe tbody tr th:only-of-type {\n",
       "        vertical-align: middle;\n",
       "    }\n",
       "\n",
       "    .dataframe tbody tr th {\n",
       "        vertical-align: top;\n",
       "    }\n",
       "\n",
       "    .dataframe thead th {\n",
       "        text-align: right;\n",
       "    }\n",
       "</style>\n",
       "<table border=\"1\" class=\"dataframe\">\n",
       "  <thead>\n",
       "    <tr style=\"text-align: right;\">\n",
       "      <th>_id</th>\n",
       "      <th>5f1744ba0469677f8c1ec8be</th>\n",
       "      <th>5f1744ba0469677f8c1ec8bf</th>\n",
       "      <th>5f1744bb0469677f8c1ec8c0</th>\n",
       "      <th>5f1744bb0469677f8c1ec8c1</th>\n",
       "      <th>5f1744bb0469677f8c1ec8c2</th>\n",
       "      <th>5f1744bc0469677f8c1ec8c3</th>\n",
       "      <th>5f1744bc0469677f8c1ec8c4</th>\n",
       "      <th>5f1744bc0469677f8c1ec8c5</th>\n",
       "      <th>5f1744bd0469677f8c1ec8c6</th>\n",
       "      <th>5f1744bd0469677f8c1ec8c7</th>\n",
       "      <th>...</th>\n",
       "      <th>5f1745190469677f8c1ec956</th>\n",
       "      <th>5f1745190469677f8c1ec957</th>\n",
       "      <th>5f17451a0469677f8c1ec958</th>\n",
       "      <th>5f17451a0469677f8c1ec959</th>\n",
       "      <th>5f17451b0469677f8c1ec95a</th>\n",
       "      <th>5f17451b0469677f8c1ec95b</th>\n",
       "      <th>5f17451c0469677f8c1ec95c</th>\n",
       "      <th>5f17451d0469677f8c1ec95d</th>\n",
       "      <th>5f17451d0469677f8c1ec95e</th>\n",
       "      <th>5f17451e0469677f8c1ec95f</th>\n",
       "    </tr>\n",
       "    <tr>\n",
       "      <th>_id</th>\n",
       "      <th></th>\n",
       "      <th></th>\n",
       "      <th></th>\n",
       "      <th></th>\n",
       "      <th></th>\n",
       "      <th></th>\n",
       "      <th></th>\n",
       "      <th></th>\n",
       "      <th></th>\n",
       "      <th></th>\n",
       "      <th></th>\n",
       "      <th></th>\n",
       "      <th></th>\n",
       "      <th></th>\n",
       "      <th></th>\n",
       "      <th></th>\n",
       "      <th></th>\n",
       "      <th></th>\n",
       "      <th></th>\n",
       "      <th></th>\n",
       "      <th></th>\n",
       "    </tr>\n",
       "  </thead>\n",
       "  <tbody>\n",
       "    <tr>\n",
       "      <th>5f17453d0469677f8c1ec960</th>\n",
       "      <td>0.0114673</td>\n",
       "      <td>0</td>\n",
       "      <td>0</td>\n",
       "      <td>0</td>\n",
       "      <td>0</td>\n",
       "      <td>0</td>\n",
       "      <td>0.0463961</td>\n",
       "      <td>0</td>\n",
       "      <td>0.0185727</td>\n",
       "      <td>0.016028</td>\n",
       "      <td>...</td>\n",
       "      <td>0.029735</td>\n",
       "      <td>0</td>\n",
       "      <td>0</td>\n",
       "      <td>0.0239734</td>\n",
       "      <td>0.00589689</td>\n",
       "      <td>0.0264672</td>\n",
       "      <td>0.0150747</td>\n",
       "      <td>0</td>\n",
       "      <td>0</td>\n",
       "      <td>0.00496967</td>\n",
       "    </tr>\n",
       "    <tr>\n",
       "      <th>5f17453e0469677f8c1ec961</th>\n",
       "      <td>0.0388334</td>\n",
       "      <td>0.0173982</td>\n",
       "      <td>0.0565951</td>\n",
       "      <td>0.0422151</td>\n",
       "      <td>0.0619221</td>\n",
       "      <td>0.0218676</td>\n",
       "      <td>0.0250631</td>\n",
       "      <td>0.0505814</td>\n",
       "      <td>0.0337798</td>\n",
       "      <td>0.0411998</td>\n",
       "      <td>...</td>\n",
       "      <td>0.0379356</td>\n",
       "      <td>0.0249632</td>\n",
       "      <td>0.0447389</td>\n",
       "      <td>0.0436684</td>\n",
       "      <td>0.0533956</td>\n",
       "      <td>0.125201</td>\n",
       "      <td>0.0507401</td>\n",
       "      <td>0.057748</td>\n",
       "      <td>0.0413346</td>\n",
       "      <td>0.039054</td>\n",
       "    </tr>\n",
       "    <tr>\n",
       "      <th>5f17453e0469677f8c1ec962</th>\n",
       "      <td>0.0312414</td>\n",
       "      <td>0.0294249</td>\n",
       "      <td>0.0622358</td>\n",
       "      <td>0.0311685</td>\n",
       "      <td>0.0187106</td>\n",
       "      <td>0.0580849</td>\n",
       "      <td>0.0319226</td>\n",
       "      <td>0.0767201</td>\n",
       "      <td>0.0115219</td>\n",
       "      <td>0.0292958</td>\n",
       "      <td>...</td>\n",
       "      <td>0.0322794</td>\n",
       "      <td>0.0323973</td>\n",
       "      <td>0.0152817</td>\n",
       "      <td>0.0406278</td>\n",
       "      <td>0.0296115</td>\n",
       "      <td>0.102691</td>\n",
       "      <td>0.0227118</td>\n",
       "      <td>0.0255522</td>\n",
       "      <td>0.0261444</td>\n",
       "      <td>0.054675</td>\n",
       "    </tr>\n",
       "    <tr>\n",
       "      <th>5f17453e0469677f8c1ec963</th>\n",
       "      <td>0.0634909</td>\n",
       "      <td>0.0100158</td>\n",
       "      <td>0.0414677</td>\n",
       "      <td>0.0693265</td>\n",
       "      <td>0.0145547</td>\n",
       "      <td>0.00273807</td>\n",
       "      <td>0.00547404</td>\n",
       "      <td>0.0116996</td>\n",
       "      <td>0.0602043</td>\n",
       "      <td>0.0598529</td>\n",
       "      <td>...</td>\n",
       "      <td>0.0268011</td>\n",
       "      <td>0.0108062</td>\n",
       "      <td>0.0529699</td>\n",
       "      <td>0.0391933</td>\n",
       "      <td>0.0519455</td>\n",
       "      <td>0.0332845</td>\n",
       "      <td>0.00899718</td>\n",
       "      <td>0.00843401</td>\n",
       "      <td>0.0283627</td>\n",
       "      <td>0.0359305</td>\n",
       "    </tr>\n",
       "    <tr>\n",
       "      <th>5f17453e0469677f8c1ec964</th>\n",
       "      <td>0.243824</td>\n",
       "      <td>0.0160567</td>\n",
       "      <td>0.218952</td>\n",
       "      <td>0.262918</td>\n",
       "      <td>0.018574</td>\n",
       "      <td>0.258621</td>\n",
       "      <td>0.00108253</td>\n",
       "      <td>0.0126162</td>\n",
       "      <td>0.273079</td>\n",
       "      <td>0.288077</td>\n",
       "      <td>...</td>\n",
       "      <td>0.027143</td>\n",
       "      <td>0.0396664</td>\n",
       "      <td>0.101418</td>\n",
       "      <td>0.193663</td>\n",
       "      <td>0.0621848</td>\n",
       "      <td>0.0423586</td>\n",
       "      <td>0.00917726</td>\n",
       "      <td>0.0065596</td>\n",
       "      <td>0.0169228</td>\n",
       "      <td>0.0238648</td>\n",
       "    </tr>\n",
       "    <tr>\n",
       "      <th>...</th>\n",
       "      <td>...</td>\n",
       "      <td>...</td>\n",
       "      <td>...</td>\n",
       "      <td>...</td>\n",
       "      <td>...</td>\n",
       "      <td>...</td>\n",
       "      <td>...</td>\n",
       "      <td>...</td>\n",
       "      <td>...</td>\n",
       "      <td>...</td>\n",
       "      <td>...</td>\n",
       "      <td>...</td>\n",
       "      <td>...</td>\n",
       "      <td>...</td>\n",
       "      <td>...</td>\n",
       "      <td>...</td>\n",
       "      <td>...</td>\n",
       "      <td>...</td>\n",
       "      <td>...</td>\n",
       "      <td>...</td>\n",
       "      <td>...</td>\n",
       "    </tr>\n",
       "    <tr>\n",
       "      <th>5f1745a10469677f8c1ec9ff</th>\n",
       "      <td>0.0626323</td>\n",
       "      <td>0.0912729</td>\n",
       "      <td>0.0665884</td>\n",
       "      <td>0.0378552</td>\n",
       "      <td>0.0341251</td>\n",
       "      <td>0.0197389</td>\n",
       "      <td>0.027089</td>\n",
       "      <td>0.0180509</td>\n",
       "      <td>0.0440727</td>\n",
       "      <td>0.046347</td>\n",
       "      <td>...</td>\n",
       "      <td>0.0206509</td>\n",
       "      <td>0.0211657</td>\n",
       "      <td>0.0787627</td>\n",
       "      <td>0.0243525</td>\n",
       "      <td>0.0341151</td>\n",
       "      <td>0.0601454</td>\n",
       "      <td>0.0395705</td>\n",
       "      <td>0.0128242</td>\n",
       "      <td>0.0211429</td>\n",
       "      <td>0.0213133</td>\n",
       "    </tr>\n",
       "    <tr>\n",
       "      <th>5f1745a10469677f8c1eca00</th>\n",
       "      <td>0.0622099</td>\n",
       "      <td>0.0202952</td>\n",
       "      <td>0.119831</td>\n",
       "      <td>0.0961647</td>\n",
       "      <td>0.0133872</td>\n",
       "      <td>0.042095</td>\n",
       "      <td>0.0107277</td>\n",
       "      <td>0.0123336</td>\n",
       "      <td>0.113164</td>\n",
       "      <td>0.155136</td>\n",
       "      <td>...</td>\n",
       "      <td>0.00865765</td>\n",
       "      <td>0.0903482</td>\n",
       "      <td>0.082271</td>\n",
       "      <td>0.046309</td>\n",
       "      <td>0.0251939</td>\n",
       "      <td>0.0434824</td>\n",
       "      <td>0.0319511</td>\n",
       "      <td>0.00839136</td>\n",
       "      <td>0.0437764</td>\n",
       "      <td>0.0140102</td>\n",
       "    </tr>\n",
       "    <tr>\n",
       "      <th>5f1745a20469677f8c1eca01</th>\n",
       "      <td>0.00960579</td>\n",
       "      <td>0</td>\n",
       "      <td>0.01683</td>\n",
       "      <td>0.0282392</td>\n",
       "      <td>0.00690256</td>\n",
       "      <td>0.00635265</td>\n",
       "      <td>0.00708433</td>\n",
       "      <td>0.0174493</td>\n",
       "      <td>0.0120735</td>\n",
       "      <td>0.0198752</td>\n",
       "      <td>...</td>\n",
       "      <td>0.0117588</td>\n",
       "      <td>0.0383286</td>\n",
       "      <td>0.0130895</td>\n",
       "      <td>0.0533339</td>\n",
       "      <td>0.00728739</td>\n",
       "      <td>0.0358674</td>\n",
       "      <td>0.0394179</td>\n",
       "      <td>0.0050149</td>\n",
       "      <td>0.0196411</td>\n",
       "      <td>0.035215</td>\n",
       "    </tr>\n",
       "    <tr>\n",
       "      <th>5f1745a30469677f8c1eca02</th>\n",
       "      <td>0.0341932</td>\n",
       "      <td>0.0415469</td>\n",
       "      <td>0.0259471</td>\n",
       "      <td>0.0203028</td>\n",
       "      <td>0.0156772</td>\n",
       "      <td>0.0257346</td>\n",
       "      <td>0.00301928</td>\n",
       "      <td>0.0278039</td>\n",
       "      <td>0.0250946</td>\n",
       "      <td>0.0359356</td>\n",
       "      <td>...</td>\n",
       "      <td>0.0341704</td>\n",
       "      <td>0.00639622</td>\n",
       "      <td>0.0453617</td>\n",
       "      <td>0.0267879</td>\n",
       "      <td>0.0585293</td>\n",
       "      <td>0.0593735</td>\n",
       "      <td>0.0381089</td>\n",
       "      <td>0.0193714</td>\n",
       "      <td>0.0452701</td>\n",
       "      <td>0.0350853</td>\n",
       "    </tr>\n",
       "    <tr>\n",
       "      <th>5f1745a30469677f8c1eca03</th>\n",
       "      <td>0.0475739</td>\n",
       "      <td>0.00423014</td>\n",
       "      <td>0.0432878</td>\n",
       "      <td>0.0279175</td>\n",
       "      <td>0.0317806</td>\n",
       "      <td>0</td>\n",
       "      <td>0.0221265</td>\n",
       "      <td>0.0507345</td>\n",
       "      <td>0.0320999</td>\n",
       "      <td>0.0370285</td>\n",
       "      <td>...</td>\n",
       "      <td>0.0272487</td>\n",
       "      <td>0.0178155</td>\n",
       "      <td>0.0321963</td>\n",
       "      <td>0.0294743</td>\n",
       "      <td>0.039136</td>\n",
       "      <td>0.0648245</td>\n",
       "      <td>0.0230154</td>\n",
       "      <td>0.0183389</td>\n",
       "      <td>0.0391519</td>\n",
       "      <td>0.0327348</td>\n",
       "    </tr>\n",
       "  </tbody>\n",
       "</table>\n",
       "<p>164 rows × 162 columns</p>\n",
       "</div>"
      ],
      "text/plain": [
       "_id                      5f1744ba0469677f8c1ec8be 5f1744ba0469677f8c1ec8bf  \\\n",
       "_id                                                                          \n",
       "5f17453d0469677f8c1ec960                0.0114673                        0   \n",
       "5f17453e0469677f8c1ec961                0.0388334                0.0173982   \n",
       "5f17453e0469677f8c1ec962                0.0312414                0.0294249   \n",
       "5f17453e0469677f8c1ec963                0.0634909                0.0100158   \n",
       "5f17453e0469677f8c1ec964                 0.243824                0.0160567   \n",
       "...                                           ...                      ...   \n",
       "5f1745a10469677f8c1ec9ff                0.0626323                0.0912729   \n",
       "5f1745a10469677f8c1eca00                0.0622099                0.0202952   \n",
       "5f1745a20469677f8c1eca01               0.00960579                        0   \n",
       "5f1745a30469677f8c1eca02                0.0341932                0.0415469   \n",
       "5f1745a30469677f8c1eca03                0.0475739               0.00423014   \n",
       "\n",
       "_id                      5f1744bb0469677f8c1ec8c0 5f1744bb0469677f8c1ec8c1  \\\n",
       "_id                                                                          \n",
       "5f17453d0469677f8c1ec960                        0                        0   \n",
       "5f17453e0469677f8c1ec961                0.0565951                0.0422151   \n",
       "5f17453e0469677f8c1ec962                0.0622358                0.0311685   \n",
       "5f17453e0469677f8c1ec963                0.0414677                0.0693265   \n",
       "5f17453e0469677f8c1ec964                 0.218952                 0.262918   \n",
       "...                                           ...                      ...   \n",
       "5f1745a10469677f8c1ec9ff                0.0665884                0.0378552   \n",
       "5f1745a10469677f8c1eca00                 0.119831                0.0961647   \n",
       "5f1745a20469677f8c1eca01                  0.01683                0.0282392   \n",
       "5f1745a30469677f8c1eca02                0.0259471                0.0203028   \n",
       "5f1745a30469677f8c1eca03                0.0432878                0.0279175   \n",
       "\n",
       "_id                      5f1744bb0469677f8c1ec8c2 5f1744bc0469677f8c1ec8c3  \\\n",
       "_id                                                                          \n",
       "5f17453d0469677f8c1ec960                        0                        0   \n",
       "5f17453e0469677f8c1ec961                0.0619221                0.0218676   \n",
       "5f17453e0469677f8c1ec962                0.0187106                0.0580849   \n",
       "5f17453e0469677f8c1ec963                0.0145547               0.00273807   \n",
       "5f17453e0469677f8c1ec964                 0.018574                 0.258621   \n",
       "...                                           ...                      ...   \n",
       "5f1745a10469677f8c1ec9ff                0.0341251                0.0197389   \n",
       "5f1745a10469677f8c1eca00                0.0133872                 0.042095   \n",
       "5f1745a20469677f8c1eca01               0.00690256               0.00635265   \n",
       "5f1745a30469677f8c1eca02                0.0156772                0.0257346   \n",
       "5f1745a30469677f8c1eca03                0.0317806                        0   \n",
       "\n",
       "_id                      5f1744bc0469677f8c1ec8c4 5f1744bc0469677f8c1ec8c5  \\\n",
       "_id                                                                          \n",
       "5f17453d0469677f8c1ec960                0.0463961                        0   \n",
       "5f17453e0469677f8c1ec961                0.0250631                0.0505814   \n",
       "5f17453e0469677f8c1ec962                0.0319226                0.0767201   \n",
       "5f17453e0469677f8c1ec963               0.00547404                0.0116996   \n",
       "5f17453e0469677f8c1ec964               0.00108253                0.0126162   \n",
       "...                                           ...                      ...   \n",
       "5f1745a10469677f8c1ec9ff                 0.027089                0.0180509   \n",
       "5f1745a10469677f8c1eca00                0.0107277                0.0123336   \n",
       "5f1745a20469677f8c1eca01               0.00708433                0.0174493   \n",
       "5f1745a30469677f8c1eca02               0.00301928                0.0278039   \n",
       "5f1745a30469677f8c1eca03                0.0221265                0.0507345   \n",
       "\n",
       "_id                      5f1744bd0469677f8c1ec8c6 5f1744bd0469677f8c1ec8c7  \\\n",
       "_id                                                                          \n",
       "5f17453d0469677f8c1ec960                0.0185727                 0.016028   \n",
       "5f17453e0469677f8c1ec961                0.0337798                0.0411998   \n",
       "5f17453e0469677f8c1ec962                0.0115219                0.0292958   \n",
       "5f17453e0469677f8c1ec963                0.0602043                0.0598529   \n",
       "5f17453e0469677f8c1ec964                 0.273079                 0.288077   \n",
       "...                                           ...                      ...   \n",
       "5f1745a10469677f8c1ec9ff                0.0440727                 0.046347   \n",
       "5f1745a10469677f8c1eca00                 0.113164                 0.155136   \n",
       "5f1745a20469677f8c1eca01                0.0120735                0.0198752   \n",
       "5f1745a30469677f8c1eca02                0.0250946                0.0359356   \n",
       "5f1745a30469677f8c1eca03                0.0320999                0.0370285   \n",
       "\n",
       "_id                       ... 5f1745190469677f8c1ec956  \\\n",
       "_id                       ...                            \n",
       "5f17453d0469677f8c1ec960  ...                 0.029735   \n",
       "5f17453e0469677f8c1ec961  ...                0.0379356   \n",
       "5f17453e0469677f8c1ec962  ...                0.0322794   \n",
       "5f17453e0469677f8c1ec963  ...                0.0268011   \n",
       "5f17453e0469677f8c1ec964  ...                 0.027143   \n",
       "...                       ...                      ...   \n",
       "5f1745a10469677f8c1ec9ff  ...                0.0206509   \n",
       "5f1745a10469677f8c1eca00  ...               0.00865765   \n",
       "5f1745a20469677f8c1eca01  ...                0.0117588   \n",
       "5f1745a30469677f8c1eca02  ...                0.0341704   \n",
       "5f1745a30469677f8c1eca03  ...                0.0272487   \n",
       "\n",
       "_id                      5f1745190469677f8c1ec957 5f17451a0469677f8c1ec958  \\\n",
       "_id                                                                          \n",
       "5f17453d0469677f8c1ec960                        0                        0   \n",
       "5f17453e0469677f8c1ec961                0.0249632                0.0447389   \n",
       "5f17453e0469677f8c1ec962                0.0323973                0.0152817   \n",
       "5f17453e0469677f8c1ec963                0.0108062                0.0529699   \n",
       "5f17453e0469677f8c1ec964                0.0396664                 0.101418   \n",
       "...                                           ...                      ...   \n",
       "5f1745a10469677f8c1ec9ff                0.0211657                0.0787627   \n",
       "5f1745a10469677f8c1eca00                0.0903482                 0.082271   \n",
       "5f1745a20469677f8c1eca01                0.0383286                0.0130895   \n",
       "5f1745a30469677f8c1eca02               0.00639622                0.0453617   \n",
       "5f1745a30469677f8c1eca03                0.0178155                0.0321963   \n",
       "\n",
       "_id                      5f17451a0469677f8c1ec959 5f17451b0469677f8c1ec95a  \\\n",
       "_id                                                                          \n",
       "5f17453d0469677f8c1ec960                0.0239734               0.00589689   \n",
       "5f17453e0469677f8c1ec961                0.0436684                0.0533956   \n",
       "5f17453e0469677f8c1ec962                0.0406278                0.0296115   \n",
       "5f17453e0469677f8c1ec963                0.0391933                0.0519455   \n",
       "5f17453e0469677f8c1ec964                 0.193663                0.0621848   \n",
       "...                                           ...                      ...   \n",
       "5f1745a10469677f8c1ec9ff                0.0243525                0.0341151   \n",
       "5f1745a10469677f8c1eca00                 0.046309                0.0251939   \n",
       "5f1745a20469677f8c1eca01                0.0533339               0.00728739   \n",
       "5f1745a30469677f8c1eca02                0.0267879                0.0585293   \n",
       "5f1745a30469677f8c1eca03                0.0294743                 0.039136   \n",
       "\n",
       "_id                      5f17451b0469677f8c1ec95b 5f17451c0469677f8c1ec95c  \\\n",
       "_id                                                                          \n",
       "5f17453d0469677f8c1ec960                0.0264672                0.0150747   \n",
       "5f17453e0469677f8c1ec961                 0.125201                0.0507401   \n",
       "5f17453e0469677f8c1ec962                 0.102691                0.0227118   \n",
       "5f17453e0469677f8c1ec963                0.0332845               0.00899718   \n",
       "5f17453e0469677f8c1ec964                0.0423586               0.00917726   \n",
       "...                                           ...                      ...   \n",
       "5f1745a10469677f8c1ec9ff                0.0601454                0.0395705   \n",
       "5f1745a10469677f8c1eca00                0.0434824                0.0319511   \n",
       "5f1745a20469677f8c1eca01                0.0358674                0.0394179   \n",
       "5f1745a30469677f8c1eca02                0.0593735                0.0381089   \n",
       "5f1745a30469677f8c1eca03                0.0648245                0.0230154   \n",
       "\n",
       "_id                      5f17451d0469677f8c1ec95d 5f17451d0469677f8c1ec95e  \\\n",
       "_id                                                                          \n",
       "5f17453d0469677f8c1ec960                        0                        0   \n",
       "5f17453e0469677f8c1ec961                 0.057748                0.0413346   \n",
       "5f17453e0469677f8c1ec962                0.0255522                0.0261444   \n",
       "5f17453e0469677f8c1ec963               0.00843401                0.0283627   \n",
       "5f17453e0469677f8c1ec964                0.0065596                0.0169228   \n",
       "...                                           ...                      ...   \n",
       "5f1745a10469677f8c1ec9ff                0.0128242                0.0211429   \n",
       "5f1745a10469677f8c1eca00               0.00839136                0.0437764   \n",
       "5f1745a20469677f8c1eca01                0.0050149                0.0196411   \n",
       "5f1745a30469677f8c1eca02                0.0193714                0.0452701   \n",
       "5f1745a30469677f8c1eca03                0.0183389                0.0391519   \n",
       "\n",
       "_id                      5f17451e0469677f8c1ec95f  \n",
       "_id                                                \n",
       "5f17453d0469677f8c1ec960               0.00496967  \n",
       "5f17453e0469677f8c1ec961                 0.039054  \n",
       "5f17453e0469677f8c1ec962                 0.054675  \n",
       "5f17453e0469677f8c1ec963                0.0359305  \n",
       "5f17453e0469677f8c1ec964                0.0238648  \n",
       "...                                           ...  \n",
       "5f1745a10469677f8c1ec9ff                0.0213133  \n",
       "5f1745a10469677f8c1eca00                0.0140102  \n",
       "5f1745a20469677f8c1eca01                 0.035215  \n",
       "5f1745a30469677f8c1eca02                0.0350853  \n",
       "5f1745a30469677f8c1eca03                0.0327348  \n",
       "\n",
       "[164 rows x 162 columns]"
      ]
     },
     "execution_count": 240,
     "metadata": {},
     "output_type": "execute_result"
    }
   ],
   "source": [
    "df_cos_sim"
   ]
  },
  {
   "cell_type": "code",
   "execution_count": 294,
   "metadata": {},
   "outputs": [
    {
     "data": {
      "text/plain": [
       "13"
      ]
     },
     "execution_count": 294,
     "metadata": {},
     "output_type": "execute_result"
    }
   ],
   "source": [
    "# np.argmax(df_cos_sim.iloc[:,0])"
   ]
  },
  {
   "cell_type": "code",
   "execution_count": 295,
   "metadata": {},
   "outputs": [],
   "source": [
    "# Max cosine similarity of Moneycontrol article with which ET article\n",
    "max_sim = np.argmax(df_cos_sim.to_numpy(),axis = 0)"
   ]
  },
  {
   "cell_type": "code",
   "execution_count": 303,
   "metadata": {},
   "outputs": [],
   "source": [
    "max_sim_id = df_cos_sim.index[max_sim]"
   ]
  },
  {
   "cell_type": "code",
   "execution_count": 308,
   "metadata": {},
   "outputs": [],
   "source": [
    "mnc[\"Similar ET Article\"] = et.loc[max_sim_id].link.values"
   ]
  },
  {
   "cell_type": "code",
   "execution_count": 340,
   "metadata": {},
   "outputs": [],
   "source": [
    "mnc[\"Sim_Score\"] =  df_cos_sim.max(axis = 0).values"
   ]
  },
  {
   "cell_type": "code",
   "execution_count": 343,
   "metadata": {},
   "outputs": [],
   "source": [
    "mnc[\"ET_Title\"] = et.loc[max_sim_id].title.values"
   ]
  },
  {
   "cell_type": "code",
   "execution_count": 362,
   "metadata": {},
   "outputs": [],
   "source": [
    "mnc[\"ET_Text\"] = et.loc[max_sim_id].text.values"
   ]
  },
  {
   "cell_type": "code",
   "execution_count": 365,
   "metadata": {},
   "outputs": [],
   "source": [
    "mnc[\"ET_Link\"] = et.loc[max_sim_id].link.values\n",
    "mnc[\"ET_id\"] = max_sim_id"
   ]
  },
  {
   "cell_type": "code",
   "execution_count": 352,
   "metadata": {},
   "outputs": [],
   "source": [
    "from IPython.display import display, HTML"
   ]
  },
  {
   "cell_type": "code",
   "execution_count": 375,
   "metadata": {},
   "outputs": [
    {
     "data": {
      "text/html": [
       "<table border=\"1\" class=\"dataframe\">\n",
       "  <thead>\n",
       "    <tr style=\"text-align: right;\">\n",
       "      <th></th>\n",
       "      <th>title</th>\n",
       "      <th>link</th>\n",
       "      <th>ET_Title</th>\n",
       "      <th>ET_Link</th>\n",
       "      <th>Sim_Score</th>\n",
       "    </tr>\n",
       "    <tr>\n",
       "      <th>_id</th>\n",
       "      <th></th>\n",
       "      <th></th>\n",
       "      <th></th>\n",
       "      <th></th>\n",
       "      <th></th>\n",
       "    </tr>\n",
       "  </thead>\n",
       "  <tbody>\n",
       "    <tr>\n",
       "      <th>5f1744d70469677f8c1ec8f4</th>\n",
       "      <td>Government open to announce further steps to revive growth, says FM Sitharaman</td>\n",
       "      <td>https://www.moneycontrol.com/news/business/economy/government-open-to-announce-further-steps-to-revive-growth-says-fm-sitharaman-5578571.html</td>\n",
       "      <td>Government open to announcing more measures to boost growth, says Nirmala Sitharaman</td>\n",
       "      <td>https://economictimes.indiatimes.com/news/economy/policy/government-open-to-announcing-more-measures-to-boost-growth-says-nirmala-sitharaman/articleshow/77089767.cms</td>\n",
       "      <td>0.945453</td>\n",
       "    </tr>\n",
       "    <tr>\n",
       "      <th>5f1744c30469677f8c1ec8d1</th>\n",
       "      <td>Coronavirus outbreak: Amarnath Yatra 2020 cancelled</td>\n",
       "      <td>https://www.moneycontrol.com/news/business/coronavirus-outbreak-amarnath-yatra-2020-cancelled-jammu-kashmir-shrine-board-5578401.html</td>\n",
       "      <td>Amarnath Yatra called off amid coronavirus crisis; 'Aarti' to be broadcast live</td>\n",
       "      <td>https://economictimes.indiatimes.com/news/politics-and-nation/amarnath-yatra-called-off-amid-coronavirus-crisis-aarti-to-be-broadcast-live/articleshow/77091101.cms</td>\n",
       "      <td>0.609797</td>\n",
       "    </tr>\n",
       "    <tr>\n",
       "      <th>5f1744e30469677f8c1ec905</th>\n",
       "      <td>Corona Kavach policy | Healthcare workers to get 5% discount on medical insurance premium</td>\n",
       "      <td>https://www.moneycontrol.com/news/business/corona-kavach-policy-healthcare-workers-to-get-5-discount-on-medical-insurance-premium-5547501.html</td>\n",
       "      <td>IRDAI allows Corona Kavach policy to be sold as group health insurance</td>\n",
       "      <td>https://economictimes.indiatimes.com/wealth/insure/health-insurance/irdai-allows-corona-kavach-policy-to-be-sold-as-group-health-insurance/articleshow/77089750.cms</td>\n",
       "      <td>0.609004</td>\n",
       "    </tr>\n",
       "    <tr>\n",
       "      <th>5f1744bd0469677f8c1ec8c6</th>\n",
       "      <td>Axis Bank Q1 profit falls 19% to Rs 1,112 crore, NII grows 19.5%; slippages decline</td>\n",
       "      <td>https://www.moneycontrol.com/news/business/earnings/axis-bank-q1-profit-falls-19-to-rs-1112-crore-nii-grows-19-5-5577831.html</td>\n",
       "      <td>Axis Bank Q1 results: Profit falls 19% YoY to Rs 1,112 crore as provisions jump 16% YoY</td>\n",
       "      <td>https://economictimes.indiatimes.com/markets/stocks/earnings/axis-bank-q1-results-profit-falls-19-yoy-to-rs-1112-crore-misses-street-estimates/articleshow/77086123.cms</td>\n",
       "      <td>0.598263</td>\n",
       "    </tr>\n",
       "    <tr>\n",
       "      <th>5f1744d70469677f8c1ec8f3</th>\n",
       "      <td>Hiring sentiment seeing improvement, says TeamLease Employment Outlook Report</td>\n",
       "      <td>https://www.moneycontrol.com/news/business/economy/hiring-sentiment-seeing-improvement-says-teamlease-employment-outlook-report-5578131.html</td>\n",
       "      <td>Hiring sentiment showing signs of recovery: TeamLease Employment Outlook for Apr-Sep</td>\n",
       "      <td>https://economictimes.indiatimes.com/multimedia/jobs/hiring-sentiment-showing-signs-of-recovery-teamlease-employment-outlook-for-apr-sep/articleshow/77086450.cms</td>\n",
       "      <td>0.596145</td>\n",
       "    </tr>\n",
       "    <tr>\n",
       "      <th>5f1744df0469677f8c1ec900</th>\n",
       "      <td>Corona Kavach health insurance policy evokes good response: Insurers</td>\n",
       "      <td>https://www.moneycontrol.com/news/india/corona-kavach-health-insurance-policy-evokes-good-response-insurers-5568181.html</td>\n",
       "      <td>IRDAI allows Corona Kavach policy to be sold as group health insurance</td>\n",
       "      <td>https://economictimes.indiatimes.com/wealth/insure/health-insurance/irdai-allows-corona-kavach-policy-to-be-sold-as-group-health-insurance/articleshow/77089750.cms</td>\n",
       "      <td>0.578422</td>\n",
       "    </tr>\n",
       "    <tr>\n",
       "      <th>5f1744e20469677f8c1ec904</th>\n",
       "      <td>Does covering pre-existing ailments make Corona Kavach and Rakshak must-haves?</td>\n",
       "      <td>https://www.moneycontrol.com/news/business/personal-finance/does-covering-pre-existing-ailments-make-corona-kavach-and-suraksha-must-haves-5553491.html</td>\n",
       "      <td>IRDAI allows Corona Kavach policy to be sold as group health insurance</td>\n",
       "      <td>https://economictimes.indiatimes.com/wealth/insure/health-insurance/irdai-allows-corona-kavach-policy-to-be-sold-as-group-health-insurance/articleshow/77089750.cms</td>\n",
       "      <td>0.529951</td>\n",
       "    </tr>\n",
       "    <tr>\n",
       "      <th>5f1744f40469677f8c1ec91d</th>\n",
       "      <td>Deadline extension: 3 attractive tax-saving investments for you</td>\n",
       "      <td>https://www.moneycontrol.com/news/business/personal-finance/deadline-extension-3-attractive-tax-saving-investments-for-you-5516611.html</td>\n",
       "      <td>Best tax saving mutual fund schemes</td>\n",
       "      <td>https://economictimes.indiatimes.com/mf/analysis/which-are-the-best-mutual-fund-schemes-to-save-taxes-in-2020/articleshow/77065021.cms</td>\n",
       "      <td>0.519498</td>\n",
       "    </tr>\n",
       "    <tr>\n",
       "      <th>5f1744bb0469677f8c1ec8c1</th>\n",
       "      <td>Bajaj Finance consolidated Q1 profit falls 19% to Rs 962 crore, new loans down 76%</td>\n",
       "      <td>https://www.moneycontrol.com/news/business/earnings/bajaj-finance-consolidated-q1-profit-falls-19-to-rs-962-crore-new-loans-down-76-5577211.html</td>\n",
       "      <td>Axis Bank Q1 results: Profit falls 19% YoY to Rs 1,112 crore as provisions jump 16% YoY</td>\n",
       "      <td>https://economictimes.indiatimes.com/markets/stocks/earnings/axis-bank-q1-results-profit-falls-19-yoy-to-rs-1112-crore-misses-street-estimates/articleshow/77086123.cms</td>\n",
       "      <td>0.508532</td>\n",
       "    </tr>\n",
       "    <tr>\n",
       "      <th>5f17450a0469677f8c1ec93d</th>\n",
       "      <td>Gold returns 25% so far this year; should you buy more or just hold?</td>\n",
       "      <td>https://www.moneycontrol.com/news/business/personal-finance/gold-returns-25-so-far-this-year-should-you-buy-more-or-just-hold-5531281.html</td>\n",
       "      <td>Kotak Gold Fund: Don't chase price: Abhishek Bisen, Fund Manager, Kotak Gold Fund</td>\n",
       "      <td>https://economictimes.indiatimes.com/mf/analysis/dont-chase-price-abhishek-bisen-fund-manager-kotak-gold-fund/articleshow/77060460.cms</td>\n",
       "      <td>0.489989</td>\n",
       "    </tr>\n",
       "    <tr>\n",
       "      <th>5f1744bd0469677f8c1ec8c8</th>\n",
       "      <td>Bajaj Finserv Q1 net profit jumps 44% YoY; Bajaj Finance creates provision of Rs 1,450 crore</td>\n",
       "      <td>https://www.moneycontrol.com/news/business/markets/bajaj-finserv-q1-net-profit-jumps-44-yoy-bajaj-finance-creates-provision-of-rs-1450-crore-5577851.html</td>\n",
       "      <td>Rahul Bajaj to step down as Bajaj Finance chairman; stock drops 6%</td>\n",
       "      <td>https://economictimes.indiatimes.com/markets/stocks/news/rahul-bajaj-to-step-down-as-bajaj-finance-chairman-stock-drops-6/articleshow/77082037.cms</td>\n",
       "      <td>0.484979</td>\n",
       "    </tr>\n",
       "    <tr>\n",
       "      <th>5f1744f10469677f8c1ec919</th>\n",
       "      <td>Tax-saving fixed deposits that offer up to 7.75% for senior citizens</td>\n",
       "      <td>https://www.moneycontrol.com/news/business/personal-finance/tax-saving-fixed-deposits-that-offer-up-to-7-75-for-senior-citizens-5558991.html</td>\n",
       "      <td>fixed deposit: How interest on bank FD is calculated in case of premature withdrawal</td>\n",
       "      <td>https://economictimes.indiatimes.com/wealth/save/how-interest-on-bank-fd-is-calculated-in-case-of-premature-withdrawal/articleshow/76995029.cms</td>\n",
       "      <td>0.472122</td>\n",
       "    </tr>\n",
       "    <tr>\n",
       "      <th>5f1744fc0469677f8c1ec92a</th>\n",
       "      <td>Gold price today: Yellow metal trades with gains; crucial resistance placed at Rs 49,055</td>\n",
       "      <td>https://www.moneycontrol.com/news/business/markets/gold-price-today-yellow-metal-trades-with-gains-crucial-resistance-placed-at-rs-49055-5558731.html</td>\n",
       "      <td>Traders advise caution as silver hits 7-year high</td>\n",
       "      <td>https://economictimes.indiatimes.com/markets/commodities/news/traders-advise-caution-as-silver-hits-7-year-high-in-rupee/articleshow/77090617.cms</td>\n",
       "      <td>0.469509</td>\n",
       "    </tr>\n",
       "    <tr>\n",
       "      <th>5f1744ca0469677f8c1ec8de</th>\n",
       "      <td>AGR case hearing: What transpired in Supreme Court today</td>\n",
       "      <td>https://www.moneycontrol.com/news/business/agr-case-hearing-on-july-20-all-that-transpired-in-supreme-court-today-5572021.html</td>\n",
       "      <td>Voda Idea faces around Rs 6,000 cr yearly outflow if AGR repayments spread over 15 years: Analysts</td>\n",
       "      <td>https://economictimes.indiatimes.com/industry/telecom/telecom-news/voda-idea-faces-around-rs-6000-cr-yearly-outflow-if-agr-repayments-spread-over-15-years-analysts/articleshow/77083756.cms</td>\n",
       "      <td>0.453297</td>\n",
       "    </tr>\n",
       "    <tr>\n",
       "      <th>5f1744e90469677f8c1ec90d</th>\n",
       "      <td>Bharat Bond ETF can help low-risk investors diversify with 10-20% allocation</td>\n",
       "      <td>https://www.moneycontrol.com/news/business/markets/bharat-bond-etf-can-help-low-risk-investors-diversify-with-10-20-allocation-4719291.html</td>\n",
       "      <td>bharat bond etf: Second tranche of Bharat Bond ETF garners Rs 10,992 cr</td>\n",
       "      <td>https://economictimes.indiatimes.com/mf/mf-news/second-tranche-of-bharat-bond-etf-garners-rs-10992-cr/articleshow/77078000.cms</td>\n",
       "      <td>0.452173</td>\n",
       "    </tr>\n",
       "    <tr>\n",
       "      <th>5f1744fa0469677f8c1ec927</th>\n",
       "      <td>Gold hovers near nine-year high as virus fears drive safe-haven demand</td>\n",
       "      <td>https://www.moneycontrol.com/news/business/markets/gold-hovers-near-nine-year-high-as-virus-fears-drive-safe-haven-demand-5574941.html</td>\n",
       "      <td>It’s silver’s turn to shine as prices surge to four-year high</td>\n",
       "      <td>https://economictimes.indiatimes.com/markets/commodities/news/its-silvers-turn-to-shine-as-prices-surge-to-four-year-high/articleshow/77087263.cms</td>\n",
       "      <td>0.451393</td>\n",
       "    </tr>\n",
       "    <tr>\n",
       "      <th>5f1744d90469677f8c1ec8f7</th>\n",
       "      <td>D-Street Talk podcast | Nikhil Kamath of Zerodha says new investors moving away from MFs due to poor returns</td>\n",
       "      <td>https://www.moneycontrol.com/news/podcast/d-street-talk-nikhil-kamath-of-zerodha-says-new-investors-moving-away-from-mfs-due-to-poor-returns-5550421.html</td>\n",
       "      <td>Infosys could be a multi-bagger for next 10 years: Rajat Sharma</td>\n",
       "      <td>https://economictimes.indiatimes.com/markets/expert-view/infosys-could-be-a-multi-bagger-for-next-10-years-rajat-sharma/articleshow/77087710.cms</td>\n",
       "      <td>0.434930</td>\n",
       "    </tr>\n",
       "    <tr>\n",
       "      <th>5f1744fe0469677f8c1ec92c</th>\n",
       "      <td>How much of gold and global equity do you need in your portfolio?</td>\n",
       "      <td>https://www.moneycontrol.com/news/business/personal-finance/how-much-of-gold-and-global-equity-do-you-need-in-your-portfolio-5553681.html</td>\n",
       "      <td>Kotak Gold Fund: Don't chase price: Abhishek Bisen, Fund Manager, Kotak Gold Fund</td>\n",
       "      <td>https://economictimes.indiatimes.com/mf/analysis/dont-chase-price-abhishek-bisen-fund-manager-kotak-gold-fund/articleshow/77060460.cms</td>\n",
       "      <td>0.424653</td>\n",
       "    </tr>\n",
       "    <tr>\n",
       "      <th>5f1744e90469677f8c1ec90c</th>\n",
       "      <td>Gold, fixed-income wrap 2019: Yellow metal's prices zoom, long-term bonds deliver</td>\n",
       "      <td>https://www.moneycontrol.com/news/business/personal-finance/2019-gold-prices-zoom-long-term-bonds-deliver-4738781.html</td>\n",
       "      <td>Kotak Gold Fund: Don't chase price: Abhishek Bisen, Fund Manager, Kotak Gold Fund</td>\n",
       "      <td>https://economictimes.indiatimes.com/mf/analysis/dont-chase-price-abhishek-bisen-fund-manager-kotak-gold-fund/articleshow/77060460.cms</td>\n",
       "      <td>0.418702</td>\n",
       "    </tr>\n",
       "    <tr>\n",
       "      <th>5f1744fb0469677f8c1ec928</th>\n",
       "      <td>Gold prices firm at Rs 49,217 per 10 gram on dollar weakness; silver rises by Rs 605</td>\n",
       "      <td>https://www.moneycontrol.com/news/business/commodities/gold-prices-firm-at-rs-49217-per-10-gram-on-dollar-weakness-silver-rises-by-rs-605-5572481.html</td>\n",
       "      <td>Traders advise caution as silver hits 7-year high</td>\n",
       "      <td>https://economictimes.indiatimes.com/markets/commodities/news/traders-advise-caution-as-silver-hits-7-year-high-in-rupee/articleshow/77090617.cms</td>\n",
       "      <td>0.412404</td>\n",
       "    </tr>\n",
       "  </tbody>\n",
       "</table>"
      ],
      "text/plain": [
       "<IPython.core.display.HTML object>"
      ]
     },
     "metadata": {},
     "output_type": "display_data"
    }
   ],
   "source": [
    "display(HTML(mnc[[\"title\",\"link\",\"ET_Title\",\"ET_Link\",\"Sim_Score\"]].sort_values(by = [\"Sim_Score\"],ascending=False).head(20).to_html()))"
   ]
  },
  {
   "cell_type": "markdown",
   "metadata": {},
   "source": [
    "### Example 1:\n",
    "<b>MNC Title: </b> Gold hovers near nine-year high as virus fears drive safe-haven demand\thttps://www.moneycontrol.com/news/business/markets/gold-hovers-near-nine-year-high-as-virus-fears-drive-safe-haven-demand-5574941.html\t<br>\n",
    "<b>ET Title: </b>It’s silver’s turn to shine as prices surge to four-year high\thttps://economictimes.indiatimes.com/markets/commodities/news/its-silvers-turn-to-shine-as-prices-surge-to-four-year-high/articleshow/77087263.cms <br>\n",
    "<b>Cosine Sim: </b>0.451393 <br> <br>\n",
    "\n",
    "Though both articles are about price surge of commodity, but one has focus on gold, whereas other is completely about silver. The moneycontrol article talks about silver in one line only, whereas ET article is wholly focussed on silver. <br>\n",
    "So TFIDF here picked up similarity but couldn't pick up the main topic. Although the cosine score is not high as well."
   ]
  },
  {
   "cell_type": "markdown",
   "metadata": {},
   "source": [
    "### Example 2:\n",
    "<b>MNC Title: </b> Coronavirus outbreak: Amarnath Yatra 2020 cancelled\thttps://www.moneycontrol.com/news/business/coronavirus-outbreak-amarnath-yatra-2020-cancelled-jammu-kashmir-shrine-board-5578401.html\t<br>\n",
    "<b>ET Title: </b>Amarnath Yatra called off amid coronavirus crisis; 'Aarti' to be broadcast live\thttps://economictimes.indiatimes.com/news/politics-and-nation/amarnath-yatra-called-off-amid-coronavirus-crisis-aarti-to-be-broadcast-live/articleshow/77091101.cms <br>\n",
    "<b>Cosine Sim: </b>0.609797 <br> <br>\n",
    "\n",
    "Here TFIDF an Cosine similarity works great, both articles covers the same topics and same news."
   ]
  },
  {
   "cell_type": "markdown",
   "metadata": {},
   "source": [
    "# "
   ]
  }
 ],
 "metadata": {
  "kernelspec": {
   "display_name": "Python 3",
   "language": "python",
   "name": "python3"
  },
  "language_info": {
   "codemirror_mode": {
    "name": "ipython",
    "version": 3
   },
   "file_extension": ".py",
   "mimetype": "text/x-python",
   "name": "python",
   "nbconvert_exporter": "python",
   "pygments_lexer": "ipython3",
   "version": "3.8.3"
  }
 },
 "nbformat": 4,
 "nbformat_minor": 4
}
