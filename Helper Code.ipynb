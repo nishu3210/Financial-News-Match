{
 "cells": [
  {
   "cell_type": "markdown",
   "metadata": {},
   "source": [
    "### Print db collection"
   ]
  },
  {
   "cell_type": "code",
   "execution_count": 279,
   "metadata": {},
   "outputs": [],
   "source": [
    "from pprint import pprint"
   ]
  },
  {
   "cell_type": "code",
   "execution_count": 280,
   "metadata": {},
   "outputs": [
    {
     "name": "stdout",
     "output_type": "stream",
     "text": [
      "{'_id': ObjectId('5f16201a828c309483059a3b'),\n",
      " 'link': 'https://www.moneycontrol.com/news/world/first-human-trial-of-oxford-astrazeneca-covid-19-vaccine-shows-promise-produces-immune-response-5573121.html',\n",
      " 'text': \"AstraZeneca's experimental COVID-19 vaccine was safe and produced an \"\n",
      "         'immune response in early-stage clinical trials in healthy '\n",
      "         'volunteers, data showed on Monday.\\n'\n",
      "         '\\n'\n",
      "         'The vaccine, called AZD1222 and under development by AstraZeneca and '\n",
      "         \"scientists at Britain's Oxford University, did not prompt any \"\n",
      "         'serious side effects and elicited antibody and T-cell immune '\n",
      "         'responses, according to trial results published in The Lancet '\n",
      "         'medical journal.\\n'\n",
      "         '\\n'\n",
      "         '\"We hope this means the immune system will remember the virus, so '\n",
      "         'that our vaccine will protect people for an extended period,\" study '\n",
      "         'lead author Andrew Pollard of the University of Oxford said.\\n'\n",
      "         '\\n'\n",
      "         '\"However, we need more research before we can confirm the vaccine '\n",
      "         'effectively protects against SARS-CoV-2 (COVID-19) infection, and '\n",
      "         'for how long any protection lasts,\" he said.\\n'\n",
      "         '\\n'\n",
      "         'Also Read: Hype or hope? Oxford COVID-19 vaccine trial data is '\n",
      "         'expected today — what we know so far\\n'\n",
      "         '\\n'\n",
      "         \"AstraZeneca's is among the leading vaccine candidates against a \"\n",
      "         'pandemic that has claimed more than 600,000 lives, alongside others '\n",
      "         'in mid and late-stage trials.\\n'\n",
      "         '\\n'\n",
      "         \"These include shots being developed by China's Sinovac Biotech, \"\n",
      "         'another from state-owned Chinese firm Sinopharm, and one from the '\n",
      "         'U.S. biotech firm Moderna.\\n'\n",
      "         '\\n'\n",
      "         'AstraZeneca has signed agreements with governments around the world '\n",
      "         'to supply the vaccine should it prove effective and gain regulatory '\n",
      "         'approval. The company has said it will not seek to profit from the '\n",
      "         'vaccine during the pandemic.\\n'\n",
      "         '\\n'\n",
      "         'Researchers said the vaccine caused minor side effects more '\n",
      "         'frequently than a control group, but some of these could be reduced '\n",
      "         'by taking paracetamol, with no serious adverse events from the '\n",
      "         'vaccine.'}\n"
     ]
    }
   ],
   "source": [
    "cursor = mycol.find({})\n",
    "for document in cursor: pprint(document)"
   ]
  }
 ],
 "metadata": {
  "kernelspec": {
   "display_name": "Python 3",
   "language": "python",
   "name": "python3"
  },
  "language_info": {
   "codemirror_mode": {
    "name": "ipython",
    "version": 3
   },
   "file_extension": ".py",
   "mimetype": "text/x-python",
   "name": "python",
   "nbconvert_exporter": "python",
   "pygments_lexer": "ipython3",
   "version": "3.8.3"
  }
 },
 "nbformat": 4,
 "nbformat_minor": 4
}
