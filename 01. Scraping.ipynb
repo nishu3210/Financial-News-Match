{
 "cells": [
  {
   "cell_type": "markdown",
   "metadata": {},
   "source": [
    "### Abbreviations used:\n",
    "ET: Economic Times <br>\n",
    "MNC: Moneycontrol"
   ]
  },
  {
   "cell_type": "markdown",
   "metadata": {},
   "source": [
    "# Data Scraping"
   ]
  },
  {
   "cell_type": "code",
   "execution_count": 2,
   "metadata": {},
   "outputs": [],
   "source": [
    "#imports\n",
    "import requests\n",
    "from bs4 import BeautifulSoup\n",
    "from newspaper import Article\n",
    "import nltk\n",
    "import pymongo\n",
    "import numpy as np\n",
    "import pandas as pd"
   ]
  },
  {
   "cell_type": "code",
   "execution_count": 2,
   "metadata": {},
   "outputs": [],
   "source": [
    "# !python -m nltk.downloader all"
   ]
  },
  {
   "cell_type": "markdown",
   "metadata": {},
   "source": [
    "### Moneycontrol"
   ]
  },
  {
   "cell_type": "code",
   "execution_count": 3,
   "metadata": {},
   "outputs": [],
   "source": [
    "url = \"https://www.moneycontrol.com/\"\n",
    "req1 = requests.get(url)\n",
    "mnc = req1.content\n",
    "soup_mnc = BeautifulSoup(mnc)\n",
    "mnc_links = soup_mnc.find_all('a')"
   ]
  },
  {
   "cell_type": "code",
   "execution_count": 4,
   "metadata": {},
   "outputs": [],
   "source": [
    "links = []\n",
    "valid = []\n",
    "for i in range(len(mnc_links)):\n",
    "    try:\n",
    "        link = mnc_links[i]['href']\n",
    "    except:\n",
    "        continue\n",
    "    if(link.startswith(\"https://www.moneycontrol.com/news\")):\n",
    "        if(len(link)>100):\n",
    "            links.append(link)\n",
    "            valid.append(i)"
   ]
  },
  {
   "cell_type": "markdown",
   "metadata": {},
   "source": [
    "Keeping only unique links"
   ]
  },
  {
   "cell_type": "code",
   "execution_count": 5,
   "metadata": {},
   "outputs": [],
   "source": [
    "_ ,unq_index = np.unique(links,return_index=True)\n",
    "\n",
    "unq_index.sort()\n",
    "\n",
    "links = np.array(links)[unq_index]\n",
    "valid = np.array(valid)[unq_index]\n"
   ]
  },
  {
   "cell_type": "markdown",
   "metadata": {},
   "source": [
    "#### Get Articles Data Function using newspaper library"
   ]
  },
  {
   "cell_type": "code",
   "execution_count": 3,
   "metadata": {},
   "outputs": [],
   "source": [
    "def article_to_text(link):\n",
    "    article = Article(link)\n",
    "    article.download()\n",
    "    article.parse()\n",
    "    return [article.text, article.title]"
   ]
  },
  {
   "cell_type": "markdown",
   "metadata": {},
   "source": [
    "## Clean Data via NLP pipeline"
   ]
  },
  {
   "cell_type": "code",
   "execution_count": 4,
   "metadata": {},
   "outputs": [],
   "source": [
    "from nltk.corpus import stopwords\n",
    "from nltk.stem.porter import PorterStemmer\n",
    "porter = PorterStemmer()\n",
    "stop_words = set(stopwords.words('english'))\n",
    "from sklearn.feature_extraction.text import TfidfVectorizer\n",
    "from sklearn.metrics.pairwise import cosine_similarity"
   ]
  },
  {
   "cell_type": "code",
   "execution_count": 5,
   "metadata": {},
   "outputs": [],
   "source": [
    "def identity_tokenizer(text):\n",
    "    return text"
   ]
  },
  {
   "cell_type": "markdown",
   "metadata": {},
   "source": [
    "### Here serveral text preprocessing techniques are used:\n",
    "1. Tokenize <br>\n",
    "2. Remove numeric <br>\n",
    "3. Remove stopwords, although using TF-IDF will reduce the impact of stop words, but to save processing and space, stop words are removed<br>\n",
    "4. Stemming: Either stemming or lemmatization could be used, although none is perfect lemmatization is better but computationally expensive. Hence limited here to basic stemming approach. I am using standard porter stemmer provided in NLTK"
   ]
  },
  {
   "cell_type": "code",
   "execution_count": 117,
   "metadata": {},
   "outputs": [],
   "source": [
    "def tranform_text(text):\n",
    "    #tokenize\n",
    "    tokens = nltk.tokenize.word_tokenize(text)\n",
    "    #remove numeric\n",
    "    words = [word for word in tokens if word.isalpha()]\n",
    "    #remove stopwords, using english stopwords from nltk\n",
    "    words = [w for w in words if not w in stop_words]\n",
    "    #stemming, using porter stemmer\n",
    "    stemmed = [porter.stem(word) for word in words]\n",
    "\n",
    "    return stemmed"
   ]
  },
  {
   "cell_type": "markdown",
   "metadata": {},
   "source": [
    "# Setting up Mongo DB"
   ]
  },
  {
   "cell_type": "markdown",
   "metadata": {},
   "source": [
    "## MoneyControl"
   ]
  },
  {
   "cell_type": "code",
   "execution_count": 7,
   "metadata": {},
   "outputs": [],
   "source": [
    "import pymongo"
   ]
  },
  {
   "cell_type": "code",
   "execution_count": 8,
   "metadata": {},
   "outputs": [],
   "source": [
    "myclient = pymongo.MongoClient(\"mongodb://localhost:27017/\")\n",
    "\n",
    "mydb = myclient[\"mydatabase\"]"
   ]
  },
  {
   "cell_type": "code",
   "execution_count": 12,
   "metadata": {},
   "outputs": [],
   "source": [
    "mycol = mydb[\"moneycontrol\"]\n",
    "# mycol.drop()"
   ]
  },
  {
   "cell_type": "code",
   "execution_count": 13,
   "metadata": {},
   "outputs": [
    {
     "data": {
      "text/plain": [
       "'link_1'"
      ]
     },
     "execution_count": 13,
     "metadata": {},
     "output_type": "execute_result"
    }
   ],
   "source": [
    "mycol.create_index(\"link\", unique = True)"
   ]
  },
  {
   "cell_type": "code",
   "execution_count": 14,
   "metadata": {},
   "outputs": [],
   "source": [
    "id_mnc = []\n",
    "for link in links:\n",
    "    text, title = article_to_text(link)\n",
    "    article_dict = {\"link\":link,\"text\": text, \"title\": title}\n",
    "    x = mycol.insert_one(article_dict)\n",
    "    id_mnc.append(x.inserted_id)"
   ]
  },
  {
   "cell_type": "code",
   "execution_count": 16,
   "metadata": {},
   "outputs": [],
   "source": [
    "# To check if any articles have missing data\n",
    "# cursor = mycol.find({\"$where\": 'this.text.length < 700'})\n",
    "# for document in cursor: pprint(document)"
   ]
  },
  {
   "cell_type": "code",
   "execution_count": 13,
   "metadata": {},
   "outputs": [
    {
     "data": {
      "text/plain": [
       "162"
      ]
     },
     "execution_count": 13,
     "metadata": {},
     "output_type": "execute_result"
    }
   ],
   "source": [
    "mycol.estimated_document_count()"
   ]
  },
  {
   "cell_type": "markdown",
   "metadata": {},
   "source": [
    "## Economic Times"
   ]
  },
  {
   "cell_type": "code",
   "execution_count": 17,
   "metadata": {},
   "outputs": [],
   "source": [
    "url = \"https://economictimes.indiatimes.com/\"\n",
    "req2 = requests.get(url)"
   ]
  },
  {
   "cell_type": "code",
   "execution_count": 18,
   "metadata": {},
   "outputs": [],
   "source": [
    "et = req2.content\n",
    "\n",
    "soup_et = BeautifulSoup(et)\n",
    "\n",
    "et_links = soup_et.find_all('a')"
   ]
  },
  {
   "cell_type": "code",
   "execution_count": 20,
   "metadata": {},
   "outputs": [],
   "source": [
    "et_links_extracted = []\n",
    "et_valid = []\n",
    "for i in range(len(et_links)):\n",
    "    try:\n",
    "        link = et_links[i][\"data-ga-onclick\"]\n",
    "    except:\n",
    "        continue\n",
    "    if(link.endswith(\"href\")):\n",
    "        if(link[0].isnumeric()):\n",
    "            if(len(et_links[i]['href'])>75):\n",
    "                if(et_links[i]['href'].startswith(\"https\")):\n",
    "                    et_links_extracted.append(et_links[i]['href'])\n",
    "                else:\n",
    "                    et_links_extracted.append(\"https://economictimes.indiatimes.com\"+et_links[i]['href'])\n",
    "                et_valid.append(i)\n"
   ]
  },
  {
   "cell_type": "code",
   "execution_count": 21,
   "metadata": {},
   "outputs": [],
   "source": [
    "# pd.DataFrame(zip(et_links_extracted,et_valid))"
   ]
  },
  {
   "cell_type": "code",
   "execution_count": 22,
   "metadata": {},
   "outputs": [],
   "source": [
    "_ ,unq_index_et = np.unique(et_links_extracted,return_index=True)\n",
    "\n",
    "unq_index_et.sort()\n",
    "\n",
    "et_links_extracted = np.array(et_links_extracted)[unq_index_et]\n",
    "et_valid = np.array(et_valid)[unq_index_et]"
   ]
  },
  {
   "cell_type": "markdown",
   "metadata": {},
   "source": [
    "### Store data in db for ET"
   ]
  },
  {
   "cell_type": "code",
   "execution_count": 14,
   "metadata": {},
   "outputs": [],
   "source": [
    "etcol = mydb[\"et\"]\n",
    "# etcol.drop()"
   ]
  },
  {
   "cell_type": "code",
   "execution_count": 24,
   "metadata": {},
   "outputs": [
    {
     "data": {
      "text/plain": [
       "'link_1'"
      ]
     },
     "execution_count": 24,
     "metadata": {},
     "output_type": "execute_result"
    }
   ],
   "source": [
    "etcol.create_index(\"link\", unique = True)"
   ]
  },
  {
   "cell_type": "code",
   "execution_count": 25,
   "metadata": {},
   "outputs": [],
   "source": [
    "def article_to_text_bs4(url):\n",
    "    html = requests.get(url)\n",
    "    soup = BeautifulSoup(html.content)\n",
    "    try:\n",
    "        text = soup.find(\"div\", class_=\"artText\").get_text(separator = \" \")\n",
    "    except:\n",
    "        try:\n",
    "            text = soup.find(\"section\").get_text(separator = \" \")\n",
    "        except:\n",
    "            raise ValueError()\n",
    "    return text"
   ]
  },
  {
   "cell_type": "code",
   "execution_count": 26,
   "metadata": {},
   "outputs": [],
   "source": [
    "id_et = []\n",
    "for link in et_links_extracted:\n",
    "    text, title = article_to_text(link)\n",
    "    article_dict = {\"link\":link,\"text\": text, \"title\": title}\n",
    "    x = etcol.insert_one(article_dict)\n",
    "    id_et.append(x.inserted_id)"
   ]
  },
  {
   "cell_type": "code",
   "execution_count": 27,
   "metadata": {},
   "outputs": [],
   "source": [
    "# cursor = etcol.find({})\n",
    "# for document in cursor: pprint(document)"
   ]
  },
  {
   "cell_type": "code",
   "execution_count": 32,
   "metadata": {},
   "outputs": [
    {
     "data": {
      "text/plain": [
       "164"
      ]
     },
     "execution_count": 32,
     "metadata": {},
     "output_type": "execute_result"
    }
   ],
   "source": [
    "etcol.estimated_document_count()"
   ]
  },
  {
   "cell_type": "code",
   "execution_count": 29,
   "metadata": {},
   "outputs": [],
   "source": [
    "cursor = etcol.find({\"$where\": 'this.text.length < 700'})\n",
    "id_change = []\n",
    "for document in cursor: \n",
    "#     pprint(document)\n",
    "    id_change.append(document[\"_id\"])"
   ]
  },
  {
   "cell_type": "code",
   "execution_count": 30,
   "metadata": {},
   "outputs": [],
   "source": [
    "for ID in id_change:\n",
    "    etcol.update_one({\"_id\": pymongo.collection.ObjectId(ID)}, \n",
    "                     {\"$set\":{\"text\": article_to_text_bs4(etcol.find({\"_id\": pymongo.collection.ObjectId(ID)})[0]['link'])}})"
   ]
  },
  {
   "cell_type": "code",
   "execution_count": 33,
   "metadata": {},
   "outputs": [],
   "source": [
    "# for ID in id_change:\n",
    "#     pprint(etcol.find({\"_id\": pymongo.collection.ObjectId(ID)})[0])"
   ]
  },
  {
   "cell_type": "markdown",
   "metadata": {},
   "source": [
    "### TFIDF"
   ]
  },
  {
   "cell_type": "markdown",
   "metadata": {},
   "source": [
    "#### Get MongoDB to DF"
   ]
  },
  {
   "cell_type": "code",
   "execution_count": 46,
   "metadata": {},
   "outputs": [],
   "source": [
    "# Load MNC data to df\n",
    "cursor_mnc = mycol.find({}) \n",
    "mnc = pd.DataFrame(list(cursor_mnc))"
   ]
  },
  {
   "cell_type": "code",
   "execution_count": 47,
   "metadata": {},
   "outputs": [],
   "source": [
    "# Load ET data to df\n",
    "cursor_et = etcol.find({}) \n",
    "et = pd.DataFrame(list(cursor_et))"
   ]
  },
  {
   "cell_type": "markdown",
   "metadata": {},
   "source": [
    "#### Dictionary of docs"
   ]
  },
  {
   "cell_type": "code",
   "execution_count": 48,
   "metadata": {},
   "outputs": [],
   "source": [
    "mnc_text_list = mnc.text.to_list()\n",
    "et_text_list = et.text.to_list()\n",
    "combined_list = mnc_text_list + et_text_list"
   ]
  },
  {
   "cell_type": "code",
   "execution_count": 49,
   "metadata": {},
   "outputs": [
    {
     "data": {
      "text/plain": [
       "326"
      ]
     },
     "execution_count": 49,
     "metadata": {},
     "output_type": "execute_result"
    }
   ],
   "source": [
    "len(combined_list)"
   ]
  },
  {
   "cell_type": "code",
   "execution_count": 50,
   "metadata": {},
   "outputs": [],
   "source": [
    "combined_list_tokenized = [tranform_text(l) for l in combined_list]"
   ]
  },
  {
   "cell_type": "code",
   "execution_count": 51,
   "metadata": {},
   "outputs": [],
   "source": [
    "tfdf = TfidfVectorizer(tokenizer=identity_tokenizer,lowercase=False)  "
   ]
  },
  {
   "cell_type": "code",
   "execution_count": 52,
   "metadata": {},
   "outputs": [
    {
     "name": "stderr",
     "output_type": "stream",
     "text": [
      "C:\\anaconda\\envs\\NLP\\lib\\site-packages\\sklearn\\feature_extraction\\text.py:484: UserWarning: The parameter 'token_pattern' will not be used since 'tokenizer' is not None'\n",
      "  warnings.warn(\"The parameter 'token_pattern' will not be used\"\n"
     ]
    }
   ],
   "source": [
    "tfdf_vector = tfdf.fit(combined_list_tokenized)"
   ]
  },
  {
   "cell_type": "code",
   "execution_count": 53,
   "metadata": {},
   "outputs": [],
   "source": [
    "index=tfdf_vector.get_feature_names()"
   ]
  },
  {
   "cell_type": "code",
   "execution_count": 54,
   "metadata": {},
   "outputs": [],
   "source": [
    "def get_tfidf(text):\n",
    "    return tfdf_vector.transform([tranform_text(text)]).todense()"
   ]
  },
  {
   "cell_type": "code",
   "execution_count": 55,
   "metadata": {},
   "outputs": [
    {
     "data": {
      "text/plain": [
       "matrix([[0.02711837, 0.        , 0.        , ..., 0.        , 0.        ,\n",
       "         0.        ]])"
      ]
     },
     "execution_count": 55,
     "metadata": {},
     "output_type": "execute_result"
    }
   ],
   "source": [
    "get_tfidf(combined_list[0])"
   ]
  },
  {
   "cell_type": "code",
   "execution_count": 56,
   "metadata": {},
   "outputs": [],
   "source": [
    "mnc[\"tfidf\"] = mnc.text.apply(get_tfidf)"
   ]
  },
  {
   "cell_type": "code",
   "execution_count": 57,
   "metadata": {},
   "outputs": [],
   "source": [
    "et[\"tfidf\"] = et.text.apply(get_tfidf)"
   ]
  },
  {
   "cell_type": "markdown",
   "metadata": {},
   "source": [
    "### Cosine Similarity"
   ]
  },
  {
   "cell_type": "code",
   "execution_count": 58,
   "metadata": {},
   "outputs": [],
   "source": [
    "df_cos_sim = pd.DataFrame(index=et._id, columns=mnc._id)"
   ]
  },
  {
   "cell_type": "code",
   "execution_count": 59,
   "metadata": {},
   "outputs": [],
   "source": [
    "def mongo_id(string_id):\n",
    "    return pymongo.collection.ObjectId(string_id)"
   ]
  },
  {
   "cell_type": "code",
   "execution_count": 60,
   "metadata": {},
   "outputs": [],
   "source": [
    "# df_cos_sim.loc[mongo_id(\"5f17453d0469677f8c1ec960\"),mongo_id(\"5f1744ba0469677f8c1ec8be\")]"
   ]
  },
  {
   "cell_type": "code",
   "execution_count": 61,
   "metadata": {},
   "outputs": [],
   "source": [
    "et.set_index(\"_id\",inplace=True)\n",
    "mnc.set_index(\"_id\", inplace=True)"
   ]
  },
  {
   "cell_type": "code",
   "execution_count": 62,
   "metadata": {},
   "outputs": [],
   "source": [
    "mnc.index = mnc.index.astype(\"category\")"
   ]
  },
  {
   "cell_type": "code",
   "execution_count": 63,
   "metadata": {},
   "outputs": [],
   "source": [
    "et.index =et.index.astype(\"category\")"
   ]
  },
  {
   "cell_type": "code",
   "execution_count": 64,
   "metadata": {},
   "outputs": [],
   "source": [
    "df_cos_sim.index =df_cos_sim.index.astype(\"category\")\n",
    "df_cos_sim.columns =df_cos_sim.columns.astype(\"category\")"
   ]
  },
  {
   "cell_type": "code",
   "execution_count": 65,
   "metadata": {},
   "outputs": [],
   "source": [
    "for index in df_cos_sim.index:\n",
    "    for col in df_cos_sim.columns:\n",
    "        df_cos_sim.at[index,col] = cosine_similarity(et.at[index,\"tfidf\"],mnc.at[col,\"tfidf\"])[0][0]"
   ]
  },
  {
   "cell_type": "code",
   "execution_count": 66,
   "metadata": {},
   "outputs": [],
   "source": [
    "# cosine_similarity(mnc.tfidf[0],et.tfidf[0])[0][0]"
   ]
  },
  {
   "cell_type": "code",
   "execution_count": 67,
   "metadata": {},
   "outputs": [
    {
     "data": {
      "text/html": [
       "<div>\n",
       "<style scoped>\n",
       "    .dataframe tbody tr th:only-of-type {\n",
       "        vertical-align: middle;\n",
       "    }\n",
       "\n",
       "    .dataframe tbody tr th {\n",
       "        vertical-align: top;\n",
       "    }\n",
       "\n",
       "    .dataframe thead th {\n",
       "        text-align: right;\n",
       "    }\n",
       "</style>\n",
       "<table border=\"1\" class=\"dataframe\">\n",
       "  <thead>\n",
       "    <tr style=\"text-align: right;\">\n",
       "      <th>_id</th>\n",
       "      <th>5f1744ba0469677f8c1ec8be</th>\n",
       "      <th>5f1744ba0469677f8c1ec8bf</th>\n",
       "      <th>5f1744bb0469677f8c1ec8c0</th>\n",
       "      <th>5f1744bb0469677f8c1ec8c1</th>\n",
       "      <th>5f1744bb0469677f8c1ec8c2</th>\n",
       "      <th>5f1744bc0469677f8c1ec8c3</th>\n",
       "      <th>5f1744bc0469677f8c1ec8c4</th>\n",
       "      <th>5f1744bc0469677f8c1ec8c5</th>\n",
       "      <th>5f1744bd0469677f8c1ec8c6</th>\n",
       "      <th>5f1744bd0469677f8c1ec8c7</th>\n",
       "      <th>...</th>\n",
       "      <th>5f1745190469677f8c1ec956</th>\n",
       "      <th>5f1745190469677f8c1ec957</th>\n",
       "      <th>5f17451a0469677f8c1ec958</th>\n",
       "      <th>5f17451a0469677f8c1ec959</th>\n",
       "      <th>5f17451b0469677f8c1ec95a</th>\n",
       "      <th>5f17451b0469677f8c1ec95b</th>\n",
       "      <th>5f17451c0469677f8c1ec95c</th>\n",
       "      <th>5f17451d0469677f8c1ec95d</th>\n",
       "      <th>5f17451d0469677f8c1ec95e</th>\n",
       "      <th>5f17451e0469677f8c1ec95f</th>\n",
       "    </tr>\n",
       "    <tr>\n",
       "      <th>_id</th>\n",
       "      <th></th>\n",
       "      <th></th>\n",
       "      <th></th>\n",
       "      <th></th>\n",
       "      <th></th>\n",
       "      <th></th>\n",
       "      <th></th>\n",
       "      <th></th>\n",
       "      <th></th>\n",
       "      <th></th>\n",
       "      <th></th>\n",
       "      <th></th>\n",
       "      <th></th>\n",
       "      <th></th>\n",
       "      <th></th>\n",
       "      <th></th>\n",
       "      <th></th>\n",
       "      <th></th>\n",
       "      <th></th>\n",
       "      <th></th>\n",
       "      <th></th>\n",
       "    </tr>\n",
       "  </thead>\n",
       "  <tbody>\n",
       "    <tr>\n",
       "      <th>5f17453d0469677f8c1ec960</th>\n",
       "      <td>0.0113833</td>\n",
       "      <td>0</td>\n",
       "      <td>0</td>\n",
       "      <td>0</td>\n",
       "      <td>0</td>\n",
       "      <td>0</td>\n",
       "      <td>0.0463922</td>\n",
       "      <td>0</td>\n",
       "      <td>0.0185723</td>\n",
       "      <td>0.0160175</td>\n",
       "      <td>...</td>\n",
       "      <td>0.029735</td>\n",
       "      <td>0</td>\n",
       "      <td>0</td>\n",
       "      <td>0.0234326</td>\n",
       "      <td>0.00589607</td>\n",
       "      <td>0.0264862</td>\n",
       "      <td>0.0150744</td>\n",
       "      <td>0</td>\n",
       "      <td>0</td>\n",
       "      <td>0.00495306</td>\n",
       "    </tr>\n",
       "    <tr>\n",
       "      <th>5f17453e0469677f8c1ec961</th>\n",
       "      <td>0.038545</td>\n",
       "      <td>0.0173965</td>\n",
       "      <td>0.0572118</td>\n",
       "      <td>0.0437079</td>\n",
       "      <td>0.0619159</td>\n",
       "      <td>0.0218655</td>\n",
       "      <td>0.0250963</td>\n",
       "      <td>0.0506047</td>\n",
       "      <td>0.0338064</td>\n",
       "      <td>0.0415046</td>\n",
       "      <td>...</td>\n",
       "      <td>0.0379319</td>\n",
       "      <td>0.0249877</td>\n",
       "      <td>0.0445101</td>\n",
       "      <td>0.0387454</td>\n",
       "      <td>0.0534458</td>\n",
       "      <td>0.125254</td>\n",
       "      <td>0.0507531</td>\n",
       "      <td>0.0578647</td>\n",
       "      <td>0.0413523</td>\n",
       "      <td>0.0385354</td>\n",
       "    </tr>\n",
       "    <tr>\n",
       "      <th>5f17453e0469677f8c1ec962</th>\n",
       "      <td>0.0296021</td>\n",
       "      <td>0.0280867</td>\n",
       "      <td>0.0592392</td>\n",
       "      <td>0.0287491</td>\n",
       "      <td>0.0178597</td>\n",
       "      <td>0.0554435</td>\n",
       "      <td>0.030535</td>\n",
       "      <td>0.0732817</td>\n",
       "      <td>0.00874733</td>\n",
       "      <td>0.0279569</td>\n",
       "      <td>...</td>\n",
       "      <td>0.0308114</td>\n",
       "      <td>0.0275829</td>\n",
       "      <td>0.0145136</td>\n",
       "      <td>0.0337566</td>\n",
       "      <td>0.0222155</td>\n",
       "      <td>0.100799</td>\n",
       "      <td>0.0217121</td>\n",
       "      <td>0.0245247</td>\n",
       "      <td>0.0249954</td>\n",
       "      <td>0.0712638</td>\n",
       "    </tr>\n",
       "    <tr>\n",
       "      <th>5f17453e0469677f8c1ec963</th>\n",
       "      <td>0.0629155</td>\n",
       "      <td>0.00999828</td>\n",
       "      <td>0.0421956</td>\n",
       "      <td>0.0694787</td>\n",
       "      <td>0.0145293</td>\n",
       "      <td>0.00273329</td>\n",
       "      <td>0.00546403</td>\n",
       "      <td>0.0116785</td>\n",
       "      <td>0.0601531</td>\n",
       "      <td>0.0600958</td>\n",
       "      <td>...</td>\n",
       "      <td>0.0267543</td>\n",
       "      <td>0.010861</td>\n",
       "      <td>0.0526122</td>\n",
       "      <td>0.0332807</td>\n",
       "      <td>0.0519954</td>\n",
       "      <td>0.0330805</td>\n",
       "      <td>0.00898128</td>\n",
       "      <td>0.00841827</td>\n",
       "      <td>0.0283123</td>\n",
       "      <td>0.0347582</td>\n",
       "    </tr>\n",
       "    <tr>\n",
       "      <th>5f17453e0469677f8c1ec964</th>\n",
       "      <td>0.242036</td>\n",
       "      <td>0.0160567</td>\n",
       "      <td>0.218338</td>\n",
       "      <td>0.262921</td>\n",
       "      <td>0.018574</td>\n",
       "      <td>0.258621</td>\n",
       "      <td>0.00110771</td>\n",
       "      <td>0.0126362</td>\n",
       "      <td>0.273077</td>\n",
       "      <td>0.287894</td>\n",
       "      <td>...</td>\n",
       "      <td>0.027143</td>\n",
       "      <td>0.0396442</td>\n",
       "      <td>0.100909</td>\n",
       "      <td>0.189294</td>\n",
       "      <td>0.062176</td>\n",
       "      <td>0.0423914</td>\n",
       "      <td>0.00918978</td>\n",
       "      <td>0.00657668</td>\n",
       "      <td>0.0169377</td>\n",
       "      <td>0.0238101</td>\n",
       "    </tr>\n",
       "    <tr>\n",
       "      <th>...</th>\n",
       "      <td>...</td>\n",
       "      <td>...</td>\n",
       "      <td>...</td>\n",
       "      <td>...</td>\n",
       "      <td>...</td>\n",
       "      <td>...</td>\n",
       "      <td>...</td>\n",
       "      <td>...</td>\n",
       "      <td>...</td>\n",
       "      <td>...</td>\n",
       "      <td>...</td>\n",
       "      <td>...</td>\n",
       "      <td>...</td>\n",
       "      <td>...</td>\n",
       "      <td>...</td>\n",
       "      <td>...</td>\n",
       "      <td>...</td>\n",
       "      <td>...</td>\n",
       "      <td>...</td>\n",
       "      <td>...</td>\n",
       "      <td>...</td>\n",
       "    </tr>\n",
       "    <tr>\n",
       "      <th>5f1745a10469677f8c1ec9ff</th>\n",
       "      <td>0.0621721</td>\n",
       "      <td>0.0912712</td>\n",
       "      <td>0.0664007</td>\n",
       "      <td>0.0381869</td>\n",
       "      <td>0.0341245</td>\n",
       "      <td>0.0197386</td>\n",
       "      <td>0.0270863</td>\n",
       "      <td>0.0180496</td>\n",
       "      <td>0.0441085</td>\n",
       "      <td>0.0463159</td>\n",
       "      <td>...</td>\n",
       "      <td>0.0206505</td>\n",
       "      <td>0.0212053</td>\n",
       "      <td>0.0783661</td>\n",
       "      <td>0.023333</td>\n",
       "      <td>0.0342102</td>\n",
       "      <td>0.0600722</td>\n",
       "      <td>0.039569</td>\n",
       "      <td>0.0128224</td>\n",
       "      <td>0.0211419</td>\n",
       "      <td>0.0205691</td>\n",
       "    </tr>\n",
       "    <tr>\n",
       "      <th>5f1745a10469677f8c1eca00</th>\n",
       "      <td>0.0617539</td>\n",
       "      <td>0.0202952</td>\n",
       "      <td>0.119496</td>\n",
       "      <td>0.0961662</td>\n",
       "      <td>0.0133872</td>\n",
       "      <td>0.042095</td>\n",
       "      <td>0.0107268</td>\n",
       "      <td>0.0123329</td>\n",
       "      <td>0.113161</td>\n",
       "      <td>0.155035</td>\n",
       "      <td>...</td>\n",
       "      <td>0.00865765</td>\n",
       "      <td>0.090282</td>\n",
       "      <td>0.0818583</td>\n",
       "      <td>0.0452644</td>\n",
       "      <td>0.0251904</td>\n",
       "      <td>0.0435137</td>\n",
       "      <td>0.0319504</td>\n",
       "      <td>0.00839035</td>\n",
       "      <td>0.0437751</td>\n",
       "      <td>0.0139633</td>\n",
       "    </tr>\n",
       "    <tr>\n",
       "      <th>5f1745a20469677f8c1eca01</th>\n",
       "      <td>0.00953459</td>\n",
       "      <td>0</td>\n",
       "      <td>0.0167815</td>\n",
       "      <td>0.0298457</td>\n",
       "      <td>0.00690198</td>\n",
       "      <td>0.00635213</td>\n",
       "      <td>0.0072485</td>\n",
       "      <td>0.0175826</td>\n",
       "      <td>0.0121035</td>\n",
       "      <td>0.0198893</td>\n",
       "      <td>...</td>\n",
       "      <td>0.0117578</td>\n",
       "      <td>0.0383434</td>\n",
       "      <td>0.0130228</td>\n",
       "      <td>0.0521264</td>\n",
       "      <td>0.00728578</td>\n",
       "      <td>0.0359067</td>\n",
       "      <td>0.0394971</td>\n",
       "      <td>0.00513092</td>\n",
       "      <td>0.0197398</td>\n",
       "      <td>0.0352586</td>\n",
       "    </tr>\n",
       "    <tr>\n",
       "      <th>5f1745a30469677f8c1eca02</th>\n",
       "      <td>0.0339426</td>\n",
       "      <td>0.0415469</td>\n",
       "      <td>0.0258744</td>\n",
       "      <td>0.0203031</td>\n",
       "      <td>0.0156772</td>\n",
       "      <td>0.0257346</td>\n",
       "      <td>0.00301904</td>\n",
       "      <td>0.0278024</td>\n",
       "      <td>0.0250941</td>\n",
       "      <td>0.0359122</td>\n",
       "      <td>...</td>\n",
       "      <td>0.0341704</td>\n",
       "      <td>0.00639153</td>\n",
       "      <td>0.0451341</td>\n",
       "      <td>0.0261836</td>\n",
       "      <td>0.0585212</td>\n",
       "      <td>0.0594162</td>\n",
       "      <td>0.0381081</td>\n",
       "      <td>0.0193691</td>\n",
       "      <td>0.0452687</td>\n",
       "      <td>0.034968</td>\n",
       "    </tr>\n",
       "    <tr>\n",
       "      <th>5f1745a30469677f8c1eca03</th>\n",
       "      <td>0.0472208</td>\n",
       "      <td>0.00422974</td>\n",
       "      <td>0.0431625</td>\n",
       "      <td>0.0279941</td>\n",
       "      <td>0.0317776</td>\n",
       "      <td>0</td>\n",
       "      <td>0.0221848</td>\n",
       "      <td>0.0507779</td>\n",
       "      <td>0.0321855</td>\n",
       "      <td>0.0370116</td>\n",
       "      <td>...</td>\n",
       "      <td>0.0272462</td>\n",
       "      <td>0.0179324</td>\n",
       "      <td>0.0320318</td>\n",
       "      <td>0.0278378</td>\n",
       "      <td>0.0393341</td>\n",
       "      <td>0.064651</td>\n",
       "      <td>0.0230441</td>\n",
       "      <td>0.0184211</td>\n",
       "      <td>0.039185</td>\n",
       "      <td>0.0312967</td>\n",
       "    </tr>\n",
       "  </tbody>\n",
       "</table>\n",
       "<p>164 rows × 162 columns</p>\n",
       "</div>"
      ],
      "text/plain": [
       "_id                      5f1744ba0469677f8c1ec8be 5f1744ba0469677f8c1ec8bf  \\\n",
       "_id                                                                          \n",
       "5f17453d0469677f8c1ec960                0.0113833                        0   \n",
       "5f17453e0469677f8c1ec961                 0.038545                0.0173965   \n",
       "5f17453e0469677f8c1ec962                0.0296021                0.0280867   \n",
       "5f17453e0469677f8c1ec963                0.0629155               0.00999828   \n",
       "5f17453e0469677f8c1ec964                 0.242036                0.0160567   \n",
       "...                                           ...                      ...   \n",
       "5f1745a10469677f8c1ec9ff                0.0621721                0.0912712   \n",
       "5f1745a10469677f8c1eca00                0.0617539                0.0202952   \n",
       "5f1745a20469677f8c1eca01               0.00953459                        0   \n",
       "5f1745a30469677f8c1eca02                0.0339426                0.0415469   \n",
       "5f1745a30469677f8c1eca03                0.0472208               0.00422974   \n",
       "\n",
       "_id                      5f1744bb0469677f8c1ec8c0 5f1744bb0469677f8c1ec8c1  \\\n",
       "_id                                                                          \n",
       "5f17453d0469677f8c1ec960                        0                        0   \n",
       "5f17453e0469677f8c1ec961                0.0572118                0.0437079   \n",
       "5f17453e0469677f8c1ec962                0.0592392                0.0287491   \n",
       "5f17453e0469677f8c1ec963                0.0421956                0.0694787   \n",
       "5f17453e0469677f8c1ec964                 0.218338                 0.262921   \n",
       "...                                           ...                      ...   \n",
       "5f1745a10469677f8c1ec9ff                0.0664007                0.0381869   \n",
       "5f1745a10469677f8c1eca00                 0.119496                0.0961662   \n",
       "5f1745a20469677f8c1eca01                0.0167815                0.0298457   \n",
       "5f1745a30469677f8c1eca02                0.0258744                0.0203031   \n",
       "5f1745a30469677f8c1eca03                0.0431625                0.0279941   \n",
       "\n",
       "_id                      5f1744bb0469677f8c1ec8c2 5f1744bc0469677f8c1ec8c3  \\\n",
       "_id                                                                          \n",
       "5f17453d0469677f8c1ec960                        0                        0   \n",
       "5f17453e0469677f8c1ec961                0.0619159                0.0218655   \n",
       "5f17453e0469677f8c1ec962                0.0178597                0.0554435   \n",
       "5f17453e0469677f8c1ec963                0.0145293               0.00273329   \n",
       "5f17453e0469677f8c1ec964                 0.018574                 0.258621   \n",
       "...                                           ...                      ...   \n",
       "5f1745a10469677f8c1ec9ff                0.0341245                0.0197386   \n",
       "5f1745a10469677f8c1eca00                0.0133872                 0.042095   \n",
       "5f1745a20469677f8c1eca01               0.00690198               0.00635213   \n",
       "5f1745a30469677f8c1eca02                0.0156772                0.0257346   \n",
       "5f1745a30469677f8c1eca03                0.0317776                        0   \n",
       "\n",
       "_id                      5f1744bc0469677f8c1ec8c4 5f1744bc0469677f8c1ec8c5  \\\n",
       "_id                                                                          \n",
       "5f17453d0469677f8c1ec960                0.0463922                        0   \n",
       "5f17453e0469677f8c1ec961                0.0250963                0.0506047   \n",
       "5f17453e0469677f8c1ec962                 0.030535                0.0732817   \n",
       "5f17453e0469677f8c1ec963               0.00546403                0.0116785   \n",
       "5f17453e0469677f8c1ec964               0.00110771                0.0126362   \n",
       "...                                           ...                      ...   \n",
       "5f1745a10469677f8c1ec9ff                0.0270863                0.0180496   \n",
       "5f1745a10469677f8c1eca00                0.0107268                0.0123329   \n",
       "5f1745a20469677f8c1eca01                0.0072485                0.0175826   \n",
       "5f1745a30469677f8c1eca02               0.00301904                0.0278024   \n",
       "5f1745a30469677f8c1eca03                0.0221848                0.0507779   \n",
       "\n",
       "_id                      5f1744bd0469677f8c1ec8c6 5f1744bd0469677f8c1ec8c7  \\\n",
       "_id                                                                          \n",
       "5f17453d0469677f8c1ec960                0.0185723                0.0160175   \n",
       "5f17453e0469677f8c1ec961                0.0338064                0.0415046   \n",
       "5f17453e0469677f8c1ec962               0.00874733                0.0279569   \n",
       "5f17453e0469677f8c1ec963                0.0601531                0.0600958   \n",
       "5f17453e0469677f8c1ec964                 0.273077                 0.287894   \n",
       "...                                           ...                      ...   \n",
       "5f1745a10469677f8c1ec9ff                0.0441085                0.0463159   \n",
       "5f1745a10469677f8c1eca00                 0.113161                 0.155035   \n",
       "5f1745a20469677f8c1eca01                0.0121035                0.0198893   \n",
       "5f1745a30469677f8c1eca02                0.0250941                0.0359122   \n",
       "5f1745a30469677f8c1eca03                0.0321855                0.0370116   \n",
       "\n",
       "_id                       ... 5f1745190469677f8c1ec956  \\\n",
       "_id                       ...                            \n",
       "5f17453d0469677f8c1ec960  ...                 0.029735   \n",
       "5f17453e0469677f8c1ec961  ...                0.0379319   \n",
       "5f17453e0469677f8c1ec962  ...                0.0308114   \n",
       "5f17453e0469677f8c1ec963  ...                0.0267543   \n",
       "5f17453e0469677f8c1ec964  ...                 0.027143   \n",
       "...                       ...                      ...   \n",
       "5f1745a10469677f8c1ec9ff  ...                0.0206505   \n",
       "5f1745a10469677f8c1eca00  ...               0.00865765   \n",
       "5f1745a20469677f8c1eca01  ...                0.0117578   \n",
       "5f1745a30469677f8c1eca02  ...                0.0341704   \n",
       "5f1745a30469677f8c1eca03  ...                0.0272462   \n",
       "\n",
       "_id                      5f1745190469677f8c1ec957 5f17451a0469677f8c1ec958  \\\n",
       "_id                                                                          \n",
       "5f17453d0469677f8c1ec960                        0                        0   \n",
       "5f17453e0469677f8c1ec961                0.0249877                0.0445101   \n",
       "5f17453e0469677f8c1ec962                0.0275829                0.0145136   \n",
       "5f17453e0469677f8c1ec963                 0.010861                0.0526122   \n",
       "5f17453e0469677f8c1ec964                0.0396442                 0.100909   \n",
       "...                                           ...                      ...   \n",
       "5f1745a10469677f8c1ec9ff                0.0212053                0.0783661   \n",
       "5f1745a10469677f8c1eca00                 0.090282                0.0818583   \n",
       "5f1745a20469677f8c1eca01                0.0383434                0.0130228   \n",
       "5f1745a30469677f8c1eca02               0.00639153                0.0451341   \n",
       "5f1745a30469677f8c1eca03                0.0179324                0.0320318   \n",
       "\n",
       "_id                      5f17451a0469677f8c1ec959 5f17451b0469677f8c1ec95a  \\\n",
       "_id                                                                          \n",
       "5f17453d0469677f8c1ec960                0.0234326               0.00589607   \n",
       "5f17453e0469677f8c1ec961                0.0387454                0.0534458   \n",
       "5f17453e0469677f8c1ec962                0.0337566                0.0222155   \n",
       "5f17453e0469677f8c1ec963                0.0332807                0.0519954   \n",
       "5f17453e0469677f8c1ec964                 0.189294                 0.062176   \n",
       "...                                           ...                      ...   \n",
       "5f1745a10469677f8c1ec9ff                 0.023333                0.0342102   \n",
       "5f1745a10469677f8c1eca00                0.0452644                0.0251904   \n",
       "5f1745a20469677f8c1eca01                0.0521264               0.00728578   \n",
       "5f1745a30469677f8c1eca02                0.0261836                0.0585212   \n",
       "5f1745a30469677f8c1eca03                0.0278378                0.0393341   \n",
       "\n",
       "_id                      5f17451b0469677f8c1ec95b 5f17451c0469677f8c1ec95c  \\\n",
       "_id                                                                          \n",
       "5f17453d0469677f8c1ec960                0.0264862                0.0150744   \n",
       "5f17453e0469677f8c1ec961                 0.125254                0.0507531   \n",
       "5f17453e0469677f8c1ec962                 0.100799                0.0217121   \n",
       "5f17453e0469677f8c1ec963                0.0330805               0.00898128   \n",
       "5f17453e0469677f8c1ec964                0.0423914               0.00918978   \n",
       "...                                           ...                      ...   \n",
       "5f1745a10469677f8c1ec9ff                0.0600722                 0.039569   \n",
       "5f1745a10469677f8c1eca00                0.0435137                0.0319504   \n",
       "5f1745a20469677f8c1eca01                0.0359067                0.0394971   \n",
       "5f1745a30469677f8c1eca02                0.0594162                0.0381081   \n",
       "5f1745a30469677f8c1eca03                 0.064651                0.0230441   \n",
       "\n",
       "_id                      5f17451d0469677f8c1ec95d 5f17451d0469677f8c1ec95e  \\\n",
       "_id                                                                          \n",
       "5f17453d0469677f8c1ec960                        0                        0   \n",
       "5f17453e0469677f8c1ec961                0.0578647                0.0413523   \n",
       "5f17453e0469677f8c1ec962                0.0245247                0.0249954   \n",
       "5f17453e0469677f8c1ec963               0.00841827                0.0283123   \n",
       "5f17453e0469677f8c1ec964               0.00657668                0.0169377   \n",
       "...                                           ...                      ...   \n",
       "5f1745a10469677f8c1ec9ff                0.0128224                0.0211419   \n",
       "5f1745a10469677f8c1eca00               0.00839035                0.0437751   \n",
       "5f1745a20469677f8c1eca01               0.00513092                0.0197398   \n",
       "5f1745a30469677f8c1eca02                0.0193691                0.0452687   \n",
       "5f1745a30469677f8c1eca03                0.0184211                 0.039185   \n",
       "\n",
       "_id                      5f17451e0469677f8c1ec95f  \n",
       "_id                                                \n",
       "5f17453d0469677f8c1ec960               0.00495306  \n",
       "5f17453e0469677f8c1ec961                0.0385354  \n",
       "5f17453e0469677f8c1ec962                0.0712638  \n",
       "5f17453e0469677f8c1ec963                0.0347582  \n",
       "5f17453e0469677f8c1ec964                0.0238101  \n",
       "...                                           ...  \n",
       "5f1745a10469677f8c1ec9ff                0.0205691  \n",
       "5f1745a10469677f8c1eca00                0.0139633  \n",
       "5f1745a20469677f8c1eca01                0.0352586  \n",
       "5f1745a30469677f8c1eca02                 0.034968  \n",
       "5f1745a30469677f8c1eca03                0.0312967  \n",
       "\n",
       "[164 rows x 162 columns]"
      ]
     },
     "execution_count": 67,
     "metadata": {},
     "output_type": "execute_result"
    }
   ],
   "source": [
    "df_cos_sim"
   ]
  },
  {
   "cell_type": "code",
   "execution_count": 294,
   "metadata": {},
   "outputs": [
    {
     "data": {
      "text/plain": [
       "13"
      ]
     },
     "execution_count": 294,
     "metadata": {},
     "output_type": "execute_result"
    }
   ],
   "source": [
    "# np.argmax(df_cos_sim.iloc[:,0])"
   ]
  },
  {
   "cell_type": "code",
   "execution_count": 69,
   "metadata": {},
   "outputs": [],
   "source": [
    "# Max cosine similarity of Moneycontrol article with which ET article\n",
    "max_sim = np.argmax(df_cos_sim.to_numpy(),axis = 0)"
   ]
  },
  {
   "cell_type": "code",
   "execution_count": 70,
   "metadata": {},
   "outputs": [],
   "source": [
    "max_sim_id = df_cos_sim.index[max_sim]"
   ]
  },
  {
   "cell_type": "code",
   "execution_count": 71,
   "metadata": {},
   "outputs": [],
   "source": [
    "tfidf_results = mnc.copy()"
   ]
  },
  {
   "cell_type": "code",
   "execution_count": 72,
   "metadata": {},
   "outputs": [],
   "source": [
    "tfidf_results[\"Similar ET Article\"] = et.loc[max_sim_id].link.values"
   ]
  },
  {
   "cell_type": "code",
   "execution_count": 73,
   "metadata": {},
   "outputs": [],
   "source": [
    "tfidf_results[\"Sim_Score\"] =  df_cos_sim.max(axis = 0).values"
   ]
  },
  {
   "cell_type": "code",
   "execution_count": 74,
   "metadata": {},
   "outputs": [],
   "source": [
    "tfidf_results[\"ET_Title\"] = et.loc[max_sim_id].title.values"
   ]
  },
  {
   "cell_type": "code",
   "execution_count": 75,
   "metadata": {},
   "outputs": [],
   "source": [
    "tfidf_results[\"ET_Text\"] = et.loc[max_sim_id].text.values"
   ]
  },
  {
   "cell_type": "code",
   "execution_count": 76,
   "metadata": {},
   "outputs": [],
   "source": [
    "tfidf_results[\"ET_Link\"] = et.loc[max_sim_id].link.values\n",
    "tfidf_results[\"ET_id\"] = max_sim_id"
   ]
  },
  {
   "cell_type": "code",
   "execution_count": 77,
   "metadata": {},
   "outputs": [],
   "source": [
    "from IPython.display import display, HTML"
   ]
  },
  {
   "cell_type": "code",
   "execution_count": 78,
   "metadata": {},
   "outputs": [
    {
     "data": {
      "text/html": [
       "<table border=\"1\" class=\"dataframe\">\n",
       "  <thead>\n",
       "    <tr style=\"text-align: right;\">\n",
       "      <th></th>\n",
       "      <th>title</th>\n",
       "      <th>link</th>\n",
       "      <th>ET_Title</th>\n",
       "      <th>ET_Link</th>\n",
       "      <th>Sim_Score</th>\n",
       "    </tr>\n",
       "    <tr>\n",
       "      <th>_id</th>\n",
       "      <th></th>\n",
       "      <th></th>\n",
       "      <th></th>\n",
       "      <th></th>\n",
       "      <th></th>\n",
       "    </tr>\n",
       "  </thead>\n",
       "  <tbody>\n",
       "    <tr>\n",
       "      <th>5f1744d70469677f8c1ec8f4</th>\n",
       "      <td>Government open to announce further steps to revive growth, says FM Sitharaman</td>\n",
       "      <td>https://www.moneycontrol.com/news/business/economy/government-open-to-announce-further-steps-to-revive-growth-says-fm-sitharaman-5578571.html</td>\n",
       "      <td>Government open to announcing more measures to boost growth, says Nirmala Sitharaman</td>\n",
       "      <td>https://economictimes.indiatimes.com/news/economy/policy/government-open-to-announcing-more-measures-to-boost-growth-says-nirmala-sitharaman/articleshow/77089767.cms</td>\n",
       "      <td>0.945453</td>\n",
       "    </tr>\n",
       "    <tr>\n",
       "      <th>5f1744c30469677f8c1ec8d1</th>\n",
       "      <td>Coronavirus outbreak: Amarnath Yatra 2020 cancelled</td>\n",
       "      <td>https://www.moneycontrol.com/news/business/coronavirus-outbreak-amarnath-yatra-2020-cancelled-jammu-kashmir-shrine-board-5578401.html</td>\n",
       "      <td>Amarnath Yatra called off amid coronavirus crisis; 'Aarti' to be broadcast live</td>\n",
       "      <td>https://economictimes.indiatimes.com/news/politics-and-nation/amarnath-yatra-called-off-amid-coronavirus-crisis-aarti-to-be-broadcast-live/articleshow/77091101.cms</td>\n",
       "      <td>0.609797</td>\n",
       "    </tr>\n",
       "    <tr>\n",
       "      <th>5f1744e30469677f8c1ec905</th>\n",
       "      <td>Corona Kavach policy | Healthcare workers to get 5% discount on medical insurance premium</td>\n",
       "      <td>https://www.moneycontrol.com/news/business/corona-kavach-policy-healthcare-workers-to-get-5-discount-on-medical-insurance-premium-5547501.html</td>\n",
       "      <td>IRDAI allows Corona Kavach policy to be sold as group health insurance</td>\n",
       "      <td>https://economictimes.indiatimes.com/wealth/insure/health-insurance/irdai-allows-corona-kavach-policy-to-be-sold-as-group-health-insurance/articleshow/77089750.cms</td>\n",
       "      <td>0.609021</td>\n",
       "    </tr>\n",
       "    <tr>\n",
       "      <th>5f1744bd0469677f8c1ec8c6</th>\n",
       "      <td>Axis Bank Q1 profit falls 19% to Rs 1,112 crore, NII grows 19.5%; slippages decline</td>\n",
       "      <td>https://www.moneycontrol.com/news/business/earnings/axis-bank-q1-profit-falls-19-to-rs-1112-crore-nii-grows-19-5-5577831.html</td>\n",
       "      <td>Axis Bank Q1 results: Profit falls 19% YoY to Rs 1,112 crore as provisions jump 16% YoY</td>\n",
       "      <td>https://economictimes.indiatimes.com/markets/stocks/earnings/axis-bank-q1-results-profit-falls-19-yoy-to-rs-1112-crore-misses-street-estimates/articleshow/77086123.cms</td>\n",
       "      <td>0.598281</td>\n",
       "    </tr>\n",
       "    <tr>\n",
       "      <th>5f1744d70469677f8c1ec8f3</th>\n",
       "      <td>Hiring sentiment seeing improvement, says TeamLease Employment Outlook Report</td>\n",
       "      <td>https://www.moneycontrol.com/news/business/economy/hiring-sentiment-seeing-improvement-says-teamlease-employment-outlook-report-5578131.html</td>\n",
       "      <td>Hiring sentiment showing signs of recovery: TeamLease Employment Outlook for Apr-Sep</td>\n",
       "      <td>https://economictimes.indiatimes.com/multimedia/jobs/hiring-sentiment-showing-signs-of-recovery-teamlease-employment-outlook-for-apr-sep/articleshow/77086450.cms</td>\n",
       "      <td>0.596040</td>\n",
       "    </tr>\n",
       "    <tr>\n",
       "      <th>5f1744df0469677f8c1ec900</th>\n",
       "      <td>Corona Kavach health insurance policy evokes good response: Insurers</td>\n",
       "      <td>https://www.moneycontrol.com/news/india/corona-kavach-health-insurance-policy-evokes-good-response-insurers-5568181.html</td>\n",
       "      <td>IRDAI allows Corona Kavach policy to be sold as group health insurance</td>\n",
       "      <td>https://economictimes.indiatimes.com/wealth/insure/health-insurance/irdai-allows-corona-kavach-policy-to-be-sold-as-group-health-insurance/articleshow/77089750.cms</td>\n",
       "      <td>0.578432</td>\n",
       "    </tr>\n",
       "    <tr>\n",
       "      <th>5f1744e20469677f8c1ec904</th>\n",
       "      <td>Does covering pre-existing ailments make Corona Kavach and Rakshak must-haves?</td>\n",
       "      <td>https://www.moneycontrol.com/news/business/personal-finance/does-covering-pre-existing-ailments-make-corona-kavach-and-suraksha-must-haves-5553491.html</td>\n",
       "      <td>IRDAI allows Corona Kavach policy to be sold as group health insurance</td>\n",
       "      <td>https://economictimes.indiatimes.com/wealth/insure/health-insurance/irdai-allows-corona-kavach-policy-to-be-sold-as-group-health-insurance/articleshow/77089750.cms</td>\n",
       "      <td>0.529957</td>\n",
       "    </tr>\n",
       "    <tr>\n",
       "      <th>5f1744f40469677f8c1ec91d</th>\n",
       "      <td>Deadline extension: 3 attractive tax-saving investments for you</td>\n",
       "      <td>https://www.moneycontrol.com/news/business/personal-finance/deadline-extension-3-attractive-tax-saving-investments-for-you-5516611.html</td>\n",
       "      <td>Best tax saving mutual fund schemes</td>\n",
       "      <td>https://economictimes.indiatimes.com/mf/analysis/which-are-the-best-mutual-fund-schemes-to-save-taxes-in-2020/articleshow/77065021.cms</td>\n",
       "      <td>0.519061</td>\n",
       "    </tr>\n",
       "    <tr>\n",
       "      <th>5f1744bb0469677f8c1ec8c1</th>\n",
       "      <td>Bajaj Finance consolidated Q1 profit falls 19% to Rs 962 crore, new loans down 76%</td>\n",
       "      <td>https://www.moneycontrol.com/news/business/earnings/bajaj-finance-consolidated-q1-profit-falls-19-to-rs-962-crore-new-loans-down-76-5577211.html</td>\n",
       "      <td>Axis Bank Q1 results: Profit falls 19% YoY to Rs 1,112 crore as provisions jump 16% YoY</td>\n",
       "      <td>https://economictimes.indiatimes.com/markets/stocks/earnings/axis-bank-q1-results-profit-falls-19-yoy-to-rs-1112-crore-misses-street-estimates/articleshow/77086123.cms</td>\n",
       "      <td>0.508575</td>\n",
       "    </tr>\n",
       "    <tr>\n",
       "      <th>5f17450a0469677f8c1ec93d</th>\n",
       "      <td>Gold returns 25% so far this year; should you buy more or just hold?</td>\n",
       "      <td>https://www.moneycontrol.com/news/business/personal-finance/gold-returns-25-so-far-this-year-should-you-buy-more-or-just-hold-5531281.html</td>\n",
       "      <td>Kotak Gold Fund: Don't chase price: Abhishek Bisen, Fund Manager, Kotak Gold Fund</td>\n",
       "      <td>https://economictimes.indiatimes.com/mf/analysis/dont-chase-price-abhishek-bisen-fund-manager-kotak-gold-fund/articleshow/77060460.cms</td>\n",
       "      <td>0.488881</td>\n",
       "    </tr>\n",
       "    <tr>\n",
       "      <th>5f1744bd0469677f8c1ec8c8</th>\n",
       "      <td>Bajaj Finserv Q1 net profit jumps 44% YoY; Bajaj Finance creates provision of Rs 1,450 crore</td>\n",
       "      <td>https://www.moneycontrol.com/news/business/markets/bajaj-finserv-q1-net-profit-jumps-44-yoy-bajaj-finance-creates-provision-of-rs-1450-crore-5577851.html</td>\n",
       "      <td>Rahul Bajaj to step down as Bajaj Finance chairman; stock drops 6%</td>\n",
       "      <td>https://economictimes.indiatimes.com/markets/stocks/news/rahul-bajaj-to-step-down-as-bajaj-finance-chairman-stock-drops-6/articleshow/77082037.cms</td>\n",
       "      <td>0.484946</td>\n",
       "    </tr>\n",
       "    <tr>\n",
       "      <th>5f1744fc0469677f8c1ec92a</th>\n",
       "      <td>Gold price today: Yellow metal trades with gains; crucial resistance placed at Rs 49,055</td>\n",
       "      <td>https://www.moneycontrol.com/news/business/markets/gold-price-today-yellow-metal-trades-with-gains-crucial-resistance-placed-at-rs-49055-5558731.html</td>\n",
       "      <td>Traders advise caution as silver hits 7-year high</td>\n",
       "      <td>https://economictimes.indiatimes.com/markets/commodities/news/traders-advise-caution-as-silver-hits-7-year-high-in-rupee/articleshow/77090617.cms</td>\n",
       "      <td>0.469333</td>\n",
       "    </tr>\n",
       "    <tr>\n",
       "      <th>5f1744ca0469677f8c1ec8de</th>\n",
       "      <td>AGR case hearing: What transpired in Supreme Court today</td>\n",
       "      <td>https://www.moneycontrol.com/news/business/agr-case-hearing-on-july-20-all-that-transpired-in-supreme-court-today-5572021.html</td>\n",
       "      <td>Voda Idea faces around Rs 6,000 cr yearly outflow if AGR repayments spread over 15 years: Analysts</td>\n",
       "      <td>https://economictimes.indiatimes.com/industry/telecom/telecom-news/voda-idea-faces-around-rs-6000-cr-yearly-outflow-if-agr-repayments-spread-over-15-years-analysts/articleshow/77083756.cms</td>\n",
       "      <td>0.452998</td>\n",
       "    </tr>\n",
       "    <tr>\n",
       "      <th>5f1744e90469677f8c1ec90d</th>\n",
       "      <td>Bharat Bond ETF can help low-risk investors diversify with 10-20% allocation</td>\n",
       "      <td>https://www.moneycontrol.com/news/business/markets/bharat-bond-etf-can-help-low-risk-investors-diversify-with-10-20-allocation-4719291.html</td>\n",
       "      <td>bharat bond etf: Second tranche of Bharat Bond ETF garners Rs 10,992 cr</td>\n",
       "      <td>https://economictimes.indiatimes.com/mf/mf-news/second-tranche-of-bharat-bond-etf-garners-rs-10992-cr/articleshow/77078000.cms</td>\n",
       "      <td>0.451380</td>\n",
       "    </tr>\n",
       "    <tr>\n",
       "      <th>5f1744fa0469677f8c1ec927</th>\n",
       "      <td>Gold hovers near nine-year high as virus fears drive safe-haven demand</td>\n",
       "      <td>https://www.moneycontrol.com/news/business/markets/gold-hovers-near-nine-year-high-as-virus-fears-drive-safe-haven-demand-5574941.html</td>\n",
       "      <td>It’s silver’s turn to shine as prices surge to four-year high</td>\n",
       "      <td>https://economictimes.indiatimes.com/markets/commodities/news/its-silvers-turn-to-shine-as-prices-surge-to-four-year-high/articleshow/77087263.cms</td>\n",
       "      <td>0.450442</td>\n",
       "    </tr>\n",
       "    <tr>\n",
       "      <th>5f1744d90469677f8c1ec8f7</th>\n",
       "      <td>D-Street Talk podcast | Nikhil Kamath of Zerodha says new investors moving away from MFs due to poor returns</td>\n",
       "      <td>https://www.moneycontrol.com/news/podcast/d-street-talk-nikhil-kamath-of-zerodha-says-new-investors-moving-away-from-mfs-due-to-poor-returns-5550421.html</td>\n",
       "      <td>Infosys could be a multi-bagger for next 10 years: Rajat Sharma</td>\n",
       "      <td>https://economictimes.indiatimes.com/markets/expert-view/infosys-could-be-a-multi-bagger-for-next-10-years-rajat-sharma/articleshow/77087710.cms</td>\n",
       "      <td>0.429762</td>\n",
       "    </tr>\n",
       "    <tr>\n",
       "      <th>5f1744fe0469677f8c1ec92c</th>\n",
       "      <td>How much of gold and global equity do you need in your portfolio?</td>\n",
       "      <td>https://www.moneycontrol.com/news/business/personal-finance/how-much-of-gold-and-global-equity-do-you-need-in-your-portfolio-5553681.html</td>\n",
       "      <td>Kotak Gold Fund: Don't chase price: Abhishek Bisen, Fund Manager, Kotak Gold Fund</td>\n",
       "      <td>https://economictimes.indiatimes.com/mf/analysis/dont-chase-price-abhishek-bisen-fund-manager-kotak-gold-fund/articleshow/77060460.cms</td>\n",
       "      <td>0.423721</td>\n",
       "    </tr>\n",
       "    <tr>\n",
       "      <th>5f1744e90469677f8c1ec90c</th>\n",
       "      <td>Gold, fixed-income wrap 2019: Yellow metal's prices zoom, long-term bonds deliver</td>\n",
       "      <td>https://www.moneycontrol.com/news/business/personal-finance/2019-gold-prices-zoom-long-term-bonds-deliver-4738781.html</td>\n",
       "      <td>Kotak Gold Fund: Don't chase price: Abhishek Bisen, Fund Manager, Kotak Gold Fund</td>\n",
       "      <td>https://economictimes.indiatimes.com/mf/analysis/dont-chase-price-abhishek-bisen-fund-manager-kotak-gold-fund/articleshow/77060460.cms</td>\n",
       "      <td>0.417568</td>\n",
       "    </tr>\n",
       "    <tr>\n",
       "      <th>5f1744fb0469677f8c1ec928</th>\n",
       "      <td>Gold prices firm at Rs 49,217 per 10 gram on dollar weakness; silver rises by Rs 605</td>\n",
       "      <td>https://www.moneycontrol.com/news/business/commodities/gold-prices-firm-at-rs-49217-per-10-gram-on-dollar-weakness-silver-rises-by-rs-605-5572481.html</td>\n",
       "      <td>Traders advise caution as silver hits 7-year high</td>\n",
       "      <td>https://economictimes.indiatimes.com/markets/commodities/news/traders-advise-caution-as-silver-hits-7-year-high-in-rupee/articleshow/77090617.cms</td>\n",
       "      <td>0.412059</td>\n",
       "    </tr>\n",
       "    <tr>\n",
       "      <th>5f1744f30469677f8c1ec91c</th>\n",
       "      <td>Central government staff can claim 80C benefits on NPS Tier-II contribution</td>\n",
       "      <td>https://www.moneycontrol.com/news/business/personal-finance/central-government-staff-can-claim-80c-benefits-on-nps-tier-ii-contribution-5526461.html</td>\n",
       "      <td>Best tax saving mutual fund schemes</td>\n",
       "      <td>https://economictimes.indiatimes.com/mf/analysis/which-are-the-best-mutual-fund-schemes-to-save-taxes-in-2020/articleshow/77065021.cms</td>\n",
       "      <td>0.410427</td>\n",
       "    </tr>\n",
       "  </tbody>\n",
       "</table>"
      ],
      "text/plain": [
       "<IPython.core.display.HTML object>"
      ]
     },
     "metadata": {},
     "output_type": "display_data"
    }
   ],
   "source": [
    "display(HTML(tfidf_results[[\"title\",\"link\",\"ET_Title\",\"ET_Link\",\"Sim_Score\"]].sort_values(by = [\"Sim_Score\"],ascending=False).head(20).to_html()))"
   ]
  },
  {
   "cell_type": "markdown",
   "metadata": {},
   "source": [
    "### Example 1:\n",
    "<b>MNC Title: </b> Gold hovers near nine-year high as virus fears drive safe-haven demand\thttps://www.moneycontrol.com/news/business/markets/gold-hovers-near-nine-year-high-as-virus-fears-drive-safe-haven-demand-5574941.html\t<br>\n",
    "<b>ET Title: </b>It’s silver’s turn to shine as prices surge to four-year high\thttps://economictimes.indiatimes.com/markets/commodities/news/its-silvers-turn-to-shine-as-prices-surge-to-four-year-high/articleshow/77087263.cms <br>\n",
    "<b>Cosine Sim: </b>0.451393 <br> <br>\n",
    "\n",
    "Though both articles are about price surge of commodity, but one has focus on gold, whereas other is completely about silver. The moneycontrol article talks about silver in one line only, whereas ET article is wholly focussed on silver. <br>\n",
    "So TFIDF here picked up similarity but couldn't pick up the main topic. Although the cosine score is not high as well."
   ]
  },
  {
   "cell_type": "markdown",
   "metadata": {},
   "source": [
    "### Example 2:\n",
    "<b>MNC Title: </b> Coronavirus outbreak: Amarnath Yatra 2020 cancelled\thttps://www.moneycontrol.com/news/business/coronavirus-outbreak-amarnath-yatra-2020-cancelled-jammu-kashmir-shrine-board-5578401.html\t<br>\n",
    "<b>ET Title: </b>Amarnath Yatra called off amid coronavirus crisis; 'Aarti' to be broadcast live\thttps://economictimes.indiatimes.com/news/politics-and-nation/amarnath-yatra-called-off-amid-coronavirus-crisis-aarti-to-be-broadcast-live/articleshow/77091101.cms <br>\n",
    "<b>Cosine Sim: </b>0.609797 <br> <br>\n",
    "\n",
    "Here TFIDF an Cosine similarity works great, both articles covers the same topics and same news."
   ]
  },
  {
   "cell_type": "markdown",
   "metadata": {},
   "source": [
    "# Word2Vec"
   ]
  },
  {
   "cell_type": "code",
   "execution_count": 83,
   "metadata": {},
   "outputs": [],
   "source": [
    "from gensim.models import Word2Vec, KeyedVectors, Doc2Vec"
   ]
  },
  {
   "cell_type": "markdown",
   "metadata": {},
   "source": [
    "##### link to download pretrained model https://drive.google.com/file/d/0B7XkCwpI5KDYNlNUTTlSS21pQmM/edit "
   ]
  },
  {
   "cell_type": "code",
   "execution_count": 87,
   "metadata": {},
   "outputs": [],
   "source": [
    "word_emb_model = KeyedVectors.load_word2vec_format('GoogleNews-vectors-negative300.bin', binary=True) #using pretrained model"
   ]
  },
  {
   "cell_type": "code",
   "execution_count": 135,
   "metadata": {},
   "outputs": [],
   "source": [
    "from collections import Counter\n",
    "import itertools\n",
    "\n",
    "def map_word_frequency(document):\n",
    "    return Counter(document)"
   ]
  },
  {
   "cell_type": "code",
   "execution_count": 170,
   "metadata": {},
   "outputs": [],
   "source": [
    "#transform text as per word2vec corpus, also not using stemming and lowercasing. As per testing on some of articles, stemmed words are not present in the word2vec vocabulary. \n",
    "def tranform_text_w2v(text):\n",
    "    tokens = nltk.tokenize.word_tokenize(text)\n",
    "\n",
    "    words = [word for word in tokens if word.isalpha()]\n",
    "\n",
    "    words = [w for w in words if not w in stop_words ]\n",
    "    \n",
    "    words_w2v = [w for w in words if w in word_emb_model.vocab]\n",
    "    \n",
    "    return words_w2v"
   ]
  },
  {
   "cell_type": "code",
   "execution_count": 134,
   "metadata": {},
   "outputs": [
    {
     "data": {
      "text/plain": [
       "0.6830894859718859"
      ]
     },
     "execution_count": 134,
     "metadata": {},
     "output_type": "execute_result"
    }
   ],
   "source": [
    "#Test\n",
    "cosine_similarity(get_sif_feature_vectors(tranform_text_w2v(mnc.text[0]),tranform_text_w2v(et.text[1])))[0,1]"
   ]
  },
  {
   "cell_type": "code",
   "execution_count": 152,
   "metadata": {},
   "outputs": [],
   "source": [
    "#word counts for SIF to be used below\n",
    "word_counts = map_word_frequency([item for sublist in [tranform_text_w2v(l) for l in combined_list] for item in sublist])"
   ]
  },
  {
   "cell_type": "code",
   "execution_count": 171,
   "metadata": {},
   "outputs": [],
   "source": [
    "# Tokenizing for word2vec usecase\n",
    "mnc[\"tokens\"] = mnc.text.apply(tranform_text_w2v)\n",
    "et[\"tokens\"] = et.text.apply(tranform_text_w2v)"
   ]
  },
  {
   "cell_type": "code",
   "execution_count": 160,
   "metadata": {},
   "outputs": [],
   "source": [
    "# dropping TF-IDF values\n",
    "mnc.drop(columns=\"tfidf\", inplace=True)\n",
    "et.drop(columns=\"tfidf\", inplace=True)"
   ]
  },
  {
   "cell_type": "code",
   "execution_count": 168,
   "metadata": {},
   "outputs": [],
   "source": [
    "#Calculate average vetor for using word2vec for a article. Also apply SIF (smooth inverse frequency)\n",
    "def w2v_average(sentence):\n",
    "#     print(word_emb_model.vector_size) #300\n",
    "    embedding_size = 300 # size of vectore in word embeddings\n",
    "    a = 0.001\n",
    "    vs = np.zeros(embedding_size)\n",
    "    sentence_length = len(sentence)\n",
    "    for word in sentence:\n",
    "        a_value = a / (a + word_counts[word]) # smooth inverse frequency, SIF\n",
    "        vs = np.add(vs, np.multiply(a_value, word_emb_model[word])) # vs += sif * word_vector\n",
    "    vs = np.divide(vs, sentence_length) # weighted average\n",
    "    return vs"
   ]
  },
  {
   "cell_type": "code",
   "execution_count": 173,
   "metadata": {},
   "outputs": [],
   "source": [
    "#applying above function to tokenized text\n",
    "mnc[\"w2v_vec\"] = mnc.tokens.apply(w2v_average)\n",
    "et[\"w2v_vec\"] = et.tokens.apply(w2v_average)"
   ]
  },
  {
   "cell_type": "code",
   "execution_count": 202,
   "metadata": {},
   "outputs": [],
   "source": [
    "# Function to get similar results for word2vec as in the case of TF-IDF above\n",
    "def view_w2v_result(top = 20, bottom = False):    \n",
    "    # defining pd matrix for cosine similarity\n",
    "    df_cos_sim = pd.DataFrame(index=et.index, columns=mnc.index)\n",
    "    \n",
    "    # filling the matrix above\n",
    "    for index in df_cos_sim.index:\n",
    "        for col in df_cos_sim.columns:\n",
    "            df_cos_sim.at[index,col] = cosine_similarity([et.at[index,\"w2v_vec\"],mnc.at[col,\"w2v_vec\"]])[0][1]\n",
    "\n",
    "    # Max cosine similarity of Moneycontrol article with which ET article\n",
    "    max_sim = np.argmax(df_cos_sim.to_numpy(),axis = 0)\n",
    "    \n",
    "    #IDs of max cosine similarity\n",
    "    max_sim_id = df_cos_sim.index[max_sim]\n",
    "    \n",
    "    #creating new df to store results for best match article and visualize below\n",
    "    tfidf_results = mnc.copy()\n",
    "    tfidf_results[\"Similar ET Article\"] = et.loc[max_sim_id].link.values\n",
    "    tfidf_results[\"Sim_Score\"] =  df_cos_sim.max(axis = 0).values\n",
    "    tfidf_results[\"ET_Title\"] = et.loc[max_sim_id].title.values\n",
    "    tfidf_results[\"ET_Text\"] = et.loc[max_sim_id].text.values\n",
    "    tfidf_results[\"ET_Link\"] = et.loc[max_sim_id].link.values\n",
    "    tfidf_results[\"ET_id\"] = max_sim_id\n",
    "    \n",
    "    if bottom:\n",
    "        #printing the top=top articles\n",
    "        display(HTML(tfidf_results[[\"title\",\"link\",\"ET_Title\",\"ET_Link\",\"Sim_Score\"]].sort_values(by = [\"Sim_Score\"],ascending=False).tail(top).to_html()))\n",
    "    else:\n",
    "        display(HTML(tfidf_results[[\"title\",\"link\",\"ET_Title\",\"ET_Link\",\"Sim_Score\"]].sort_values(by = [\"Sim_Score\"],ascending=False).head(top).to_html()))"
   ]
  },
  {
   "cell_type": "markdown",
   "metadata": {},
   "source": [
    "## Top 20 results"
   ]
  },
  {
   "cell_type": "code",
   "execution_count": 188,
   "metadata": {},
   "outputs": [
    {
     "data": {
      "text/html": [
       "<table border=\"1\" class=\"dataframe\">\n",
       "  <thead>\n",
       "    <tr style=\"text-align: right;\">\n",
       "      <th></th>\n",
       "      <th>title</th>\n",
       "      <th>link</th>\n",
       "      <th>ET_Title</th>\n",
       "      <th>ET_Link</th>\n",
       "      <th>Sim_Score</th>\n",
       "    </tr>\n",
       "    <tr>\n",
       "      <th>_id</th>\n",
       "      <th></th>\n",
       "      <th></th>\n",
       "      <th></th>\n",
       "      <th></th>\n",
       "      <th></th>\n",
       "    </tr>\n",
       "  </thead>\n",
       "  <tbody>\n",
       "    <tr>\n",
       "      <th>5f1745160469677f8c1ec951</th>\n",
       "      <td>'Trade light though market will remain strong; avoid Yes Bank; Infosys, TCS look good'</td>\n",
       "      <td>https://www.moneycontrol.com/news/business/markets/trade-light-though-market-will-remain-strong-avoid-yes-bank-infosys-tcs-look-good-5576051.html</td>\n",
       "      <td>Financials likely to see a lot of market share shifts: Shibani Sircar Kurian</td>\n",
       "      <td>https://economictimes.indiatimes.com/markets/expert-view/financials-likely-to-see-a-lot-of-market-share-shifts-shibani-sircar-kurian/articleshow/77086932.cms</td>\n",
       "      <td>0.893066</td>\n",
       "    </tr>\n",
       "    <tr>\n",
       "      <th>5f1744c70469677f8c1ec8da</th>\n",
       "      <td>Why Akhil Gogoi always invites the wrath of Assam’s ruling class</td>\n",
       "      <td>https://www.moneycontrol.com/news/india/why-akhil-gogoi-always-invites-the-wrath-of-assams-ruling-class-5575851.html</td>\n",
       "      <td>Amarnarth Yatra cancelled amid the COVID-19 pandemic</td>\n",
       "      <td>https://economictimes.indiatimes.com/news/politics-and-nation/amarnarth-yatra-cancelled-amid-the-covid-19-pandemic/videoshow/77087861.cms</td>\n",
       "      <td>0.889134</td>\n",
       "    </tr>\n",
       "    <tr>\n",
       "      <th>5f1744ba0469677f8c1ec8be</th>\n",
       "      <td>Trade Setup for Wednesday: Top 15 things to know before Opening Bell</td>\n",
       "      <td>https://www.moneycontrol.com/news/business/markets/trade-setup-for-wednesday-top-15-things-to-know-before-opening-bell-100-5578031.html</td>\n",
       "      <td>Ahead of Market: 12 things that will decide stock action on Wednesday</td>\n",
       "      <td>https://economictimes.indiatimes.com/markets/stocks/news/ahead-of-market-12-things-that-will-decide-stock-action-on-wednesday/articleshow/77091211.cms</td>\n",
       "      <td>0.888710</td>\n",
       "    </tr>\n",
       "    <tr>\n",
       "      <th>5f1744d70469677f8c1ec8f3</th>\n",
       "      <td>Hiring sentiment seeing improvement, says TeamLease Employment Outlook Report</td>\n",
       "      <td>https://www.moneycontrol.com/news/business/economy/hiring-sentiment-seeing-improvement-says-teamlease-employment-outlook-report-5578131.html</td>\n",
       "      <td>Hiring sentiment showing signs of recovery: TeamLease Employment Outlook for Apr-Sep</td>\n",
       "      <td>https://economictimes.indiatimes.com/multimedia/jobs/hiring-sentiment-showing-signs-of-recovery-teamlease-employment-outlook-for-apr-sep/articleshow/77086450.cms</td>\n",
       "      <td>0.881217</td>\n",
       "    </tr>\n",
       "    <tr>\n",
       "      <th>5f1744d70469677f8c1ec8f4</th>\n",
       "      <td>Government open to announce further steps to revive growth, says FM Sitharaman</td>\n",
       "      <td>https://www.moneycontrol.com/news/business/economy/government-open-to-announce-further-steps-to-revive-growth-says-fm-sitharaman-5578571.html</td>\n",
       "      <td>Government open to announcing more measures to boost growth, says Nirmala Sitharaman</td>\n",
       "      <td>https://economictimes.indiatimes.com/news/economy/policy/government-open-to-announcing-more-measures-to-boost-growth-says-nirmala-sitharaman/articleshow/77089767.cms</td>\n",
       "      <td>0.874278</td>\n",
       "    </tr>\n",
       "    <tr>\n",
       "      <th>5f1745180469677f8c1ec954</th>\n",
       "      <td>'Time to be cautious as mini-bubble building up; book profits'</td>\n",
       "      <td>https://www.moneycontrol.com/news/business/markets/time-to-be-cautious-as-mini-bubble-building-up-book-profits-5566641.html</td>\n",
       "      <td>Financials likely to see a lot of market share shifts: Shibani Sircar Kurian</td>\n",
       "      <td>https://economictimes.indiatimes.com/markets/expert-view/financials-likely-to-see-a-lot-of-market-share-shifts-shibani-sircar-kurian/articleshow/77086932.cms</td>\n",
       "      <td>0.865808</td>\n",
       "    </tr>\n",
       "    <tr>\n",
       "      <th>5f1744be0469677f8c1ec8ca</th>\n",
       "      <td>Indians need to be more firm in saying ‘No’ to Chinese products</td>\n",
       "      <td>https://www.moneycontrol.com/news/opinion/indians-need-to-be-more-firm-in-saying-no-to-chinese-products-5576761.html</td>\n",
       "      <td>What Trump can do to regain his lost supporters and make 2020 Presidential race close</td>\n",
       "      <td>https://economictimes.indiatimes.com/news/international/world-news/what-trump-can-do-to-regain-his-lost-supporters-and-make-2020-presidential-race-close/articleshow/77088362.cms</td>\n",
       "      <td>0.858413</td>\n",
       "    </tr>\n",
       "    <tr>\n",
       "      <th>5f1744e80469677f8c1ec90b</th>\n",
       "      <td>Road to wealth creation: An unusual portfolio approach to deal with coronavirus</td>\n",
       "      <td>https://www.moneycontrol.com/news/business/markets/road-to-wealth-creation-an-unusual-portfolio-approach-to-deal-with-coronavirus-4995241.html</td>\n",
       "      <td>SIPs done in big bull markets don't deliver good returns: S Naren</td>\n",
       "      <td>https://economictimes.indiatimes.com/mf/analysis/if-you-have-to-make-money-book-profits-s-naren/articleshow/77078265.cms</td>\n",
       "      <td>0.857540</td>\n",
       "    </tr>\n",
       "    <tr>\n",
       "      <th>5f1744c60469677f8c1ec8d8</th>\n",
       "      <td>Those betraying party won't be able to face public: Rajasthan CM Ashok Gehlot</td>\n",
       "      <td>https://www.moneycontrol.com/news/india/those-betraying-party-wont-be-able-to-face-public-rajasthan-cm-ashok-gehlot-5578211.html</td>\n",
       "      <td>Amarnarth Yatra cancelled amid the COVID-19 pandemic</td>\n",
       "      <td>https://economictimes.indiatimes.com/news/politics-and-nation/amarnarth-yatra-cancelled-amid-the-covid-19-pandemic/videoshow/77087861.cms</td>\n",
       "      <td>0.851965</td>\n",
       "    </tr>\n",
       "    <tr>\n",
       "      <th>5f1744c50469677f8c1ec8d7</th>\n",
       "      <td>OnePlus Nord launched with Snapdragon 765G, six cameras, 90Hz AMOLED display, starting at Rs 24,999</td>\n",
       "      <td>https://www.moneycontrol.com/news/technology/oneplus-nord-lauched-with-snapdragon-765g-six-cameras-90hz-amoled-display-starting-at-rs-24999-5578561.html</td>\n",
       "      <td>OnePlus Nord launched with 6 cameras at Rs 24,999, to be available on August 4</td>\n",
       "      <td>https://economictimes.indiatimes.com/magazines/panache/oneplus-nord-launched-with-90-hz-fluid-display-6-cameras-and-12gb-ram/articleshow/77089002.cms</td>\n",
       "      <td>0.840779</td>\n",
       "    </tr>\n",
       "    <tr>\n",
       "      <th>5f17451b0469677f8c1ec95b</th>\n",
       "      <td>Chingari has India hooked but what does it take to run a social media platform with millions of users?</td>\n",
       "      <td>https://www.moneycontrol.com/news/business/startup/chingari-has-india-hooked-but-what-does-it-take-to-run-a-social-media-platform-with-millions-of-users-5550901.html</td>\n",
       "      <td>TikTok alternatives are out but monetisation is still missing from the short-video app picture</td>\n",
       "      <td>https://economictimes.indiatimes.com/tech/internet/tiktok-alternatives-are-out-but-monetisation-is-still-missing-from-the-short-video-app-picture/articleshow/77058151.cms</td>\n",
       "      <td>0.839939</td>\n",
       "    </tr>\n",
       "    <tr>\n",
       "      <th>5f1744fe0469677f8c1ec92c</th>\n",
       "      <td>How much of gold and global equity do you need in your portfolio?</td>\n",
       "      <td>https://www.moneycontrol.com/news/business/personal-finance/how-much-of-gold-and-global-equity-do-you-need-in-your-portfolio-5553681.html</td>\n",
       "      <td>Low interest rate will be an important lever for recovery: Neelesh Surana, Mirae Asset India</td>\n",
       "      <td>https://economictimes.indiatimes.com/mf/analysis/low-interest-rate-will-be-an-important-lever-for-recovery-neelesh-surana-mirae-asset-india/articleshow/77059008.cms</td>\n",
       "      <td>0.839005</td>\n",
       "    </tr>\n",
       "    <tr>\n",
       "      <th>5f1744d90469677f8c1ec8f7</th>\n",
       "      <td>D-Street Talk podcast | Nikhil Kamath of Zerodha says new investors moving away from MFs due to poor returns</td>\n",
       "      <td>https://www.moneycontrol.com/news/podcast/d-street-talk-nikhil-kamath-of-zerodha-says-new-investors-moving-away-from-mfs-due-to-poor-returns-5550421.html</td>\n",
       "      <td>SIPs done in big bull markets don't deliver good returns: S Naren</td>\n",
       "      <td>https://economictimes.indiatimes.com/mf/analysis/if-you-have-to-make-money-book-profits-s-naren/articleshow/77078265.cms</td>\n",
       "      <td>0.838897</td>\n",
       "    </tr>\n",
       "    <tr>\n",
       "      <th>5f1744c10469677f8c1ec8cd</th>\n",
       "      <td>OnePlus Nord: Missing its target audience by a notch</td>\n",
       "      <td>https://www.moneycontrol.com/news/technology/gadgets/oneplus-nord-missing-its-target-audience-by-a-notch-5579271.html</td>\n",
       "      <td>OnePlus Nord launched with 6 cameras at Rs 24,999, to be available on August 4</td>\n",
       "      <td>https://economictimes.indiatimes.com/magazines/panache/oneplus-nord-launched-with-90-hz-fluid-display-6-cameras-and-12gb-ram/articleshow/77089002.cms</td>\n",
       "      <td>0.838405</td>\n",
       "    </tr>\n",
       "    <tr>\n",
       "      <th>5f1745160469677f8c1ec94f</th>\n",
       "      <td>Looking for quality ideas amid runaway rally? Experts name these 10 stocks</td>\n",
       "      <td>https://www.moneycontrol.com/news/business/markets/looking-for-quality-ideas-amid-runaway-rally-experts-name-these-10-stocks-5576381.html</td>\n",
       "      <td>Market Watch: How long can the bulls continue this run?</td>\n",
       "      <td>https://economictimes.indiatimes.com/markets/stocks/etmarkets-podcast/market-watch-how-long-can-the-bulls-continue-this-run/podcast/77088350.cms</td>\n",
       "      <td>0.837332</td>\n",
       "    </tr>\n",
       "    <tr>\n",
       "      <th>5f1744e70469677f8c1ec90a</th>\n",
       "      <td>Bull or bear market: ‘Maximising returns’ may no longer be retail investor's mantra</td>\n",
       "      <td>https://www.moneycontrol.com/news/business/markets/bull-or-bear-market-maximising-returns-may-no-longer-be-retail-investors-mantra-5197611.html</td>\n",
       "      <td>Financials likely to see a lot of market share shifts: Shibani Sircar Kurian</td>\n",
       "      <td>https://economictimes.indiatimes.com/markets/expert-view/financials-likely-to-see-a-lot-of-market-share-shifts-shibani-sircar-kurian/articleshow/77086932.cms</td>\n",
       "      <td>0.833678</td>\n",
       "    </tr>\n",
       "    <tr>\n",
       "      <th>5f17450a0469677f8c1ec93e</th>\n",
       "      <td>City planners may cut down size of National Capital Region for better management, protection of farmers</td>\n",
       "      <td>https://www.moneycontrol.com/news/real-estate-2/ncr-may-be-reduced-in-size-for-better-management-protection-of-farmers-4829841.html</td>\n",
       "      <td>Amarnarth Yatra cancelled amid the COVID-19 pandemic</td>\n",
       "      <td>https://economictimes.indiatimes.com/news/politics-and-nation/amarnarth-yatra-cancelled-amid-the-covid-19-pandemic/videoshow/77087861.cms</td>\n",
       "      <td>0.830692</td>\n",
       "    </tr>\n",
       "    <tr>\n",
       "      <th>5f1744f90469677f8c1ec925</th>\n",
       "      <td>Mindspace Business Parks REIT IPO affirms appetite for Indian commercial real estate among global investors</td>\n",
       "      <td>https://www.moneycontrol.com/news/business/real-estate/launch-of-mindspace-business-parks-reit-ipo-during-covid-19-affirms-appetite-for-indian-commercial-real-estate-among-global-investors-5562411.html</td>\n",
       "      <td>Mutual fund industry folio count rises 9% in FY20 on robust performance</td>\n",
       "      <td>https://economictimes.indiatimes.com/mf/mf-news/mutual-fund-industry-folio-count-rises-9-in-fy20-on-robust-performance/articleshow/77085699.cms</td>\n",
       "      <td>0.830096</td>\n",
       "    </tr>\n",
       "    <tr>\n",
       "      <th>5f1744dc0469677f8c1ec8fb</th>\n",
       "      <td>As markets go on the offensive, mutual funds load up on defensives</td>\n",
       "      <td>https://www.moneycontrol.com/news/business/personal-finance/as-markets-go-on-the-offensive-mutual-funds-load-up-on-defensives-5544811.html</td>\n",
       "      <td>Market Watch: How long can the bulls continue this run?</td>\n",
       "      <td>https://economictimes.indiatimes.com/markets/stocks/etmarkets-podcast/market-watch-how-long-can-the-bulls-continue-this-run/podcast/77088350.cms</td>\n",
       "      <td>0.828953</td>\n",
       "    </tr>\n",
       "    <tr>\n",
       "      <th>5f1744e90469677f8c1ec90c</th>\n",
       "      <td>Gold, fixed-income wrap 2019: Yellow metal's prices zoom, long-term bonds deliver</td>\n",
       "      <td>https://www.moneycontrol.com/news/business/personal-finance/2019-gold-prices-zoom-long-term-bonds-deliver-4738781.html</td>\n",
       "      <td>Financials likely to see a lot of market share shifts: Shibani Sircar Kurian</td>\n",
       "      <td>https://economictimes.indiatimes.com/markets/expert-view/financials-likely-to-see-a-lot-of-market-share-shifts-shibani-sircar-kurian/articleshow/77086932.cms</td>\n",
       "      <td>0.828057</td>\n",
       "    </tr>\n",
       "  </tbody>\n",
       "</table>"
      ],
      "text/plain": [
       "<IPython.core.display.HTML object>"
      ]
     },
     "metadata": {},
     "output_type": "display_data"
    }
   ],
   "source": [
    "view_w2v_result()"
   ]
  },
  {
   "cell_type": "markdown",
   "metadata": {},
   "source": [
    "### Bottom 20 results"
   ]
  },
  {
   "cell_type": "code",
   "execution_count": 194,
   "metadata": {},
   "outputs": [
    {
     "data": {
      "text/html": [
       "<table border=\"1\" class=\"dataframe\">\n",
       "  <thead>\n",
       "    <tr style=\"text-align: right;\">\n",
       "      <th></th>\n",
       "      <th>title</th>\n",
       "      <th>link</th>\n",
       "      <th>ET_Title</th>\n",
       "      <th>ET_Link</th>\n",
       "      <th>Sim_Score</th>\n",
       "    </tr>\n",
       "    <tr>\n",
       "      <th>_id</th>\n",
       "      <th></th>\n",
       "      <th></th>\n",
       "      <th></th>\n",
       "      <th></th>\n",
       "      <th></th>\n",
       "    </tr>\n",
       "  </thead>\n",
       "  <tbody>\n",
       "    <tr>\n",
       "      <th>5f1745110469677f8c1ec948</th>\n",
       "      <td>New debit and credit card rules: Only domestic transactions at ATMs &amp; PoS terminals at time of issuance</td>\n",
       "      <td>https://www.moneycontrol.com/news/economy/policy/new-debit-and-credit-card-rules-only-domestic-transactions-at-atms-pos-terminals-at-time-of-issuance-4821521.html</td>\n",
       "      <td>Let writing rubber cheques stay criminal</td>\n",
       "      <td>https://economictimes.indiatimes.com/blogs/et-editorials/let-writing-rubber-cheques-stay-criminal/</td>\n",
       "      <td>0.661618</td>\n",
       "    </tr>\n",
       "    <tr>\n",
       "      <th>5f1744d50469677f8c1ec8f0</th>\n",
       "      <td>Iraq increases oil exports in July, still pumps above OPEC+ target</td>\n",
       "      <td>https://www.moneycontrol.com/news/business/commodities/iraq-increases-oil-exports-in-july-still-pumps-above-opec-target-5578901.html</td>\n",
       "      <td>Stimulus package breaks new ground in European unity, 27 nations to share financial burden</td>\n",
       "      <td>https://economictimes.indiatimes.com/news/international/business/stimulus-package-breaks-new-ground-in-european-unity-27-nations-to-share-financial-burden/articleshow/77089312.cms</td>\n",
       "      <td>0.661564</td>\n",
       "    </tr>\n",
       "    <tr>\n",
       "      <th>5f1745040469677f8c1ec935</th>\n",
       "      <td>This startup will offer loans against cars as collateral</td>\n",
       "      <td>https://www.moneycontrol.com/news/business/startup/this-startup-will-offer-loans-against-cars-as-collateral-5576311.html</td>\n",
       "      <td>Mirae Asset mutual fund: Axis, ICICI Pru and Mirae Asset mutual fund add maximum folios in FY 19-20</td>\n",
       "      <td>https://economictimes.indiatimes.com/mf/mf-news/axis-icici-pru-and-mirae-asset-mutual-fund-add-maximum-folios-in-fy-19-20/articleshow/77082580.cms</td>\n",
       "      <td>0.661418</td>\n",
       "    </tr>\n",
       "    <tr>\n",
       "      <th>5f1744d50469677f8c1ec8f1</th>\n",
       "      <td>NHAI annuls Rs 2,193-crore bid won by IRB Infra for BOT project in West Bengal</td>\n",
       "      <td>https://www.moneycontrol.com/news/business/nhai-annuls-rs-2193-crore-bid-won-by-irb-infra-for-bot-project-in-west-bengal-5579071.html</td>\n",
       "      <td>Hiranandani Group's Yotta inks pact to set up 13-acre data center park in Chennai</td>\n",
       "      <td>https://economictimes.indiatimes.com/tech/internet/hiranandani-groups-yotta-inks-pact-to-set-up-13-acre-data-center-park-in-chennai/articleshow/77061523.cms</td>\n",
       "      <td>0.654841</td>\n",
       "    </tr>\n",
       "    <tr>\n",
       "      <th>5f1744ba0469677f8c1ec8bf</th>\n",
       "      <td>Gainers &amp; Losers: 10 stocks that moved the most on July 21</td>\n",
       "      <td>https://www.moneycontrol.com/news/photos/business/stocks/gainers-losers-10-stocks-that-moved-the-most-on-july-21-5577641.html</td>\n",
       "      <td>Market Watch: Will history repeat for Nifty at this level?</td>\n",
       "      <td>https://economictimes.indiatimes.com/markets/stocks/etmarkets-podcast/market-watch-will-history-repeat-for-nifty-at-this-level/podcast/77068557.cms</td>\n",
       "      <td>0.650928</td>\n",
       "    </tr>\n",
       "    <tr>\n",
       "      <th>5f1744d30469677f8c1ec8ec</th>\n",
       "      <td>International flights on July 21: Daily updates on arrivals, departures under Vande Bharat Mission</td>\n",
       "      <td>https://www.moneycontrol.com/news/india/international-flights-repatriation-on-july-21-daily-updates-on-arrivals-departures-under-vande-bharat-mission-5574261.html</td>\n",
       "      <td>Amarnarth Yatra cancelled amid the COVID-19 pandemic</td>\n",
       "      <td>https://economictimes.indiatimes.com/news/politics-and-nation/amarnarth-yatra-cancelled-amid-the-covid-19-pandemic/videoshow/77087861.cms</td>\n",
       "      <td>0.646273</td>\n",
       "    </tr>\n",
       "    <tr>\n",
       "      <th>5f1744be0469677f8c1ec8c9</th>\n",
       "      <td>SBI Life Insurance Q1 net profit up 5.1%</td>\n",
       "      <td>https://www.moneycontrol.com/news/business/companies/sbi-life-insurance-q1-net-profit-up-5-1-5577251.html</td>\n",
       "      <td>Voda Idea faces around Rs 6,000 cr yearly outflow if AGR repayments spread over 15 years: Analysts</td>\n",
       "      <td>https://economictimes.indiatimes.com/industry/telecom/telecom-news/voda-idea-faces-around-rs-6000-cr-yearly-outflow-if-agr-repayments-spread-over-15-years-analysts/articleshow/77083756.cms</td>\n",
       "      <td>0.645815</td>\n",
       "    </tr>\n",
       "    <tr>\n",
       "      <th>5f1745110469677f8c1ec947</th>\n",
       "      <td>Beginning March 16, newly issued debit and credit cards won't allow international or online transactions unless asked for</td>\n",
       "      <td>https://www.moneycontrol.com/news/business/personal-finance/beginning-march-16-newly-issued-debit-and-credit-cards-wont-allow-international-or-online-transactions-unless-asked-for-5015481.html</td>\n",
       "      <td>Let writing rubber cheques stay criminal</td>\n",
       "      <td>https://economictimes.indiatimes.com/blogs/et-editorials/let-writing-rubber-cheques-stay-criminal/</td>\n",
       "      <td>0.642948</td>\n",
       "    </tr>\n",
       "    <tr>\n",
       "      <th>5f1745140469677f8c1ec94b</th>\n",
       "      <td>SBI to sell stake in credit card JV, to raise Rs 6,000 crore: Report</td>\n",
       "      <td>https://www.moneycontrol.com/news/business/companies/sbi-to-sell-stake-in-credit-card-jv-to-raise-rs-6000-crore-report-4270891.html</td>\n",
       "      <td>Let writing rubber cheques stay criminal</td>\n",
       "      <td>https://economictimes.indiatimes.com/blogs/et-editorials/let-writing-rubber-cheques-stay-criminal/</td>\n",
       "      <td>0.641808</td>\n",
       "    </tr>\n",
       "    <tr>\n",
       "      <th>5f1744bc0469677f8c1ec8c5</th>\n",
       "      <td>Business Insight | What's next for India's airlines as COVID-19 impact cuts deep?</td>\n",
       "      <td>https://www.moneycontrol.com/news/business/earnings/business-insight-whats-next-for-indias-airlines-as-covid-19-impact-cuts-deep-5577691.html</td>\n",
       "      <td>Indian IT firms bring back over 2,000 stranded employees from US, Europe due to Covid-19</td>\n",
       "      <td>https://economictimes.indiatimes.com/tech/ites/indian-it-firms-bring-back-over-2000-stranded-employees-from-us-europe-due-to-covid-19/articleshow/77071411.cms</td>\n",
       "      <td>0.636730</td>\n",
       "    </tr>\n",
       "    <tr>\n",
       "      <th>5f1744c20469677f8c1ec8cf</th>\n",
       "      <td>Coronavirus pandemic | IPL 2020 to be held in UAE, says Chairman Brijesh Patel</td>\n",
       "      <td>https://www.moneycontrol.com/news/trends/sports-trends/coronavirus-pandemic-ipl-2020-to-be-held-in-uae-says-chairman-brijesh-patel-5578521.html</td>\n",
       "      <td>Indian IT firms bring back over 2,000 stranded employees from US, Europe due to Covid-19</td>\n",
       "      <td>https://economictimes.indiatimes.com/tech/ites/indian-it-firms-bring-back-over-2000-stranded-employees-from-us-europe-due-to-covid-19/articleshow/77071411.cms</td>\n",
       "      <td>0.636249</td>\n",
       "    </tr>\n",
       "    <tr>\n",
       "      <th>5f1745020469677f8c1ec933</th>\n",
       "      <td>Savers may fall short of retirement goals despite having financial plans: Standard Chartered Wealth Expectancy Report</td>\n",
       "      <td>https://www.moneycontrol.com/news/business/personal-finance/savers-may-fall-short-of-retirement-goals-despite-having-financial-plans-standard-chartered-wealth-expectancy-report-4755911.html</td>\n",
       "      <td>Low interest rate will be an important lever for recovery: Neelesh Surana, Mirae Asset India</td>\n",
       "      <td>https://economictimes.indiatimes.com/mf/analysis/low-interest-rate-will-be-an-important-lever-for-recovery-neelesh-surana-mirae-asset-india/articleshow/77059008.cms</td>\n",
       "      <td>0.631540</td>\n",
       "    </tr>\n",
       "    <tr>\n",
       "      <th>5f1744d90469677f8c1ec8f6</th>\n",
       "      <td>Rajasthan HC requests Speaker to defer action on disqualification notices till Friday</td>\n",
       "      <td>https://www.moneycontrol.com/news/india/rajasthan-hc-requests-speaker-to-defer-action-on-disqualification-notices-till-friday-5577561.html</td>\n",
       "      <td>MSME promoters may get first right to prepare revamp plan</td>\n",
       "      <td>https://economictimes.indiatimes.com/sme-zone/sme-sector/msme-promoters-may-get-first-right-to-prepare-revamp-plan/articleshow/77011872.cms</td>\n",
       "      <td>0.625646</td>\n",
       "    </tr>\n",
       "    <tr>\n",
       "      <th>5f1744c90469677f8c1ec8dc</th>\n",
       "      <td>Coronavirus pandemic | Record single-day spike of 40,425 COVID-19 cases in India; tally crosses 11 lakh</td>\n",
       "      <td>https://www.moneycontrol.com/news/india/coronavirus-pandemic-record-single-day-spike-of-40425-covid-19-cases-in-india-tally-crosses-11-lakh-5569771.html</td>\n",
       "      <td>India's Covid-19 fatality rate drops to 2.43% from 3.36% on June 17: Health Ministry</td>\n",
       "      <td>https://economictimes.indiatimes.com/news/politics-and-nation/indias-covid-19-fatality-rate-drops-to-2-43-from-3-36-on-june-17-health-ministry/articleshow/77087897.cms</td>\n",
       "      <td>0.622064</td>\n",
       "    </tr>\n",
       "    <tr>\n",
       "      <th>5f1744d00469677f8c1ec8e7</th>\n",
       "      <td>In pics | Here is India's top 4 highest paid bank CEOs in FY20</td>\n",
       "      <td>https://www.moneycontrol.com/news/photos/business/in-pics-here-is-indias-top-4-highest-paid-bank-ceos-5576701.html</td>\n",
       "      <td>COVID-19: L&amp;T Group chairman, directors take voluntary salary cut of up to 53%</td>\n",
       "      <td>https://economictimes.indiatimes.com/industry/indl-goods/svs/construction/covid-19-lt-group-chairman-directors-take-voluntary-salary-cut-of-up-to-53/articleshow/77086823.cms</td>\n",
       "      <td>0.575136</td>\n",
       "    </tr>\n",
       "    <tr>\n",
       "      <th>5f17451c0469677f8c1ec95c</th>\n",
       "      <td>Big Story | SoftBank in talks to invest in learning startup Unacademy at $1.2 billion valuation</td>\n",
       "      <td>https://www.moneycontrol.com/news/business/startup/big-story-softbank-in-talks-to-invest-in-learning-startup-unacademy-at-1-2-billion-valuation-5546111.html</td>\n",
       "      <td>OnePlus Nord launched with 6 cameras at Rs 24,999, to be available on August 4</td>\n",
       "      <td>https://economictimes.indiatimes.com/magazines/panache/oneplus-nord-launched-with-90-hz-fluid-display-6-cameras-and-12gb-ram/articleshow/77089002.cms</td>\n",
       "      <td>0.572638</td>\n",
       "    </tr>\n",
       "    <tr>\n",
       "      <th>5f1744bb0469677f8c1ec8c2</th>\n",
       "      <td>3 Point Analysis | Which COVID-19 vaccine developer is leading the race to be first out of the door?</td>\n",
       "      <td>https://www.moneycontrol.com/news/business/companies/3-point-analysis-which-covid-19-vaccine-developer-is-leading-the-race-to-be-first-out-of-the-door-5578371.html</td>\n",
       "      <td>To boost growth, build resilience</td>\n",
       "      <td>https://economictimes.indiatimes.com/blogs/et-editorials/to-boost-growth-build-resilience/</td>\n",
       "      <td>0.542226</td>\n",
       "    </tr>\n",
       "    <tr>\n",
       "      <th>5f1744f00469677f8c1ec917</th>\n",
       "      <td>Business Insight | Why 'Google Tax' irks non-resident digital companies</td>\n",
       "      <td>https://www.moneycontrol.com/news/business/companies/business-insight-why-google-tax-irks-non-resident-digital-companies-5573871.html</td>\n",
       "      <td>IRDAI allows Corona Kavach policy to be sold as group health insurance</td>\n",
       "      <td>https://economictimes.indiatimes.com/wealth/insure/health-insurance/irdai-allows-corona-kavach-policy-to-be-sold-as-group-health-insurance/articleshow/77089750.cms</td>\n",
       "      <td>0.533767</td>\n",
       "    </tr>\n",
       "    <tr>\n",
       "      <th>5f1744d10469677f8c1ec8e9</th>\n",
       "      <td>In pics | COVID-19 symptoms, modes of transmission and effects on human body — what we know now</td>\n",
       "      <td>https://www.moneycontrol.com/news/photos/coronavirus/in-pics-covid-19-symptoms-modes-of-transmission-and-effects-on-human-body-what-we-know-now-5572531.html</td>\n",
       "      <td>5 Most Sought-After Skills In A Post-Covid Workplace - Upskilling Need Of The Hour</td>\n",
       "      <td>https://economictimes.indiatimes.com/magazines/panache/5-most-sought-after-skills-in-a-post-covid-workplace/slideshow/76849204.cms</td>\n",
       "      <td>0.523060</td>\n",
       "    </tr>\n",
       "    <tr>\n",
       "      <th>5f1744bc0469677f8c1ec8c4</th>\n",
       "      <td>Explained | Why AstraZeneca-Oxford vaccine offers hope</td>\n",
       "      <td>https://www.moneycontrol.com/news/eye-on-india/videos/explained-why-astrazeneca-oxford-vaccine-offers-hope-5577791.html</td>\n",
       "      <td>Double-shot coronavirus vaccine tests raise new pandemic challenge for the world</td>\n",
       "      <td>https://economictimes.indiatimes.com/industry/healthcare/biotech/healthcare/double-shot-coronavirus-vaccine-tests-raise-new-pandemic-challenge-for-the-world/articleshow/77079609.cms</td>\n",
       "      <td>0.503530</td>\n",
       "    </tr>\n",
       "  </tbody>\n",
       "</table>"
      ],
      "text/plain": [
       "<IPython.core.display.HTML object>"
      ]
     },
     "metadata": {},
     "output_type": "display_data"
    }
   ],
   "source": [
    "view_w2v_result(bottom=True)"
   ]
  },
  {
   "cell_type": "markdown",
   "metadata": {},
   "source": [
    "<b>The</b> results for word2vec seems quite different from simple TF-IDF, the striking difference is the similarity scores, none of the articles have the similarity score below 0.5, whereas in TF-IDF we had similarity scores below 0.1\n",
    "<br>\n",
    "<br>\n",
    "<b>Now</b>, if we look at the article pairs with the least cosine score, the best matching ET article for the moneycontrol article titled \"Explained | Why AstraZeneca-Oxford vaccine offers hope\", with a similarity score of 0.5035, we can see that the two articles talk about the same topic, although the sentiment is different here. They both talk about AstraZeneca-Oxford vaccine, butone in positive sense, and the other one in questioning way. But considering the low similarity score, this is actually a good match."
   ]
  },
  {
   "cell_type": "markdown",
   "metadata": {},
   "source": [
    "<b>Another</b> point to notice is that the article from ET titled \"Financials likely to see a lot of market share shifts: Shibani Sircar Kurian\" appears to be top match for 4 articles in our top 20 output above. Which is strange. The reason being the articles talks about in general the market conditions, hence have similar scope. But, one article titles \"Gold, fixed-income wrap 2019: Yellow metal's prices zoom, long-term bonds deliver\" talks about gold and focussed on that, whereas there is no mention of Gold in ET article. Hence, this similarity is mostly based on the words used in both of the articles. <br> <br>\n",
    "\n",
    "With Word2Vec we are using average of word vectors with SIF (Smooth Inverse Frequency). Since it is average we cannot completely rely on it to provide meaningful distinciton between two pieces of text, hence this is the limitation of this model. We can see many mismatch titles in bottom 20, although some may have a bit of similar content which could be the reason for the score and match. For improvements one can look at top 5 matches instead and see which one is the most relevant among them. <br> <br>\n",
    "\n",
    "<b>For positives: </b><br>\n",
    "There is a perfecr match of these two articles:<br><br>\n",
    "MNC: Hiring sentiment seeing improvement, says TeamLease Employment Outlook Report\thttps://www.moneycontrol.com/news/business/economy/hiring-sentiment-seeing-improvement-says-teamlease-employment-outlook-report-5578131.html <br>\n",
    "ET: Hiring sentiment showing signs of recovery: TeamLease Employment Outlook for Apr-Sep\thttps://economictimes.indiatimes.com/multimedia/jobs/hiring-sentiment-showing-signs-of-recovery-teamlease-employment-outlook-for-apr-sep/articleshow/77086450.cms\t<br>\n",
    "Sim Score: 0.881217"
   ]
  },
  {
   "cell_type": "markdown",
   "metadata": {},
   "source": [
    "# Doc2Vec"
   ]
  },
  {
   "cell_type": "code",
   "execution_count": 207,
   "metadata": {},
   "outputs": [],
   "source": [
    "doc_emb_model = Doc2Vec.load('enwiki_dbow/doc2vec.bin') #using pretrained model"
   ]
  },
  {
   "cell_type": "code",
   "execution_count": 222,
   "metadata": {},
   "outputs": [],
   "source": [
    "from gensim.utils import simple_preprocess"
   ]
  },
  {
   "cell_type": "code",
   "execution_count": 258,
   "metadata": {},
   "outputs": [],
   "source": [
    "mnc.drop(columns=[\"tokens\",\"w2v_vec\"], inplace=True)\n",
    "et.drop(columns=[\"tokens\",\"w2v_vec\"], inplace=True)"
   ]
  },
  {
   "cell_type": "code",
   "execution_count": 259,
   "metadata": {},
   "outputs": [],
   "source": [
    "def d2v_vec(text):\n",
    "    tokens = simple_preprocess(text)[:200] # tokenize and keep 200 words only\n",
    "    return doc_emb_model.infer_vector(tokens)"
   ]
  },
  {
   "cell_type": "code",
   "execution_count": 261,
   "metadata": {},
   "outputs": [],
   "source": [
    "mnc[\"d2v_vec\"] = mnc.text.apply(d2v_vec)\n",
    "et[\"d2v_vec\"] = et.text.apply(d2v_vec)"
   ]
  },
  {
   "cell_type": "code",
   "execution_count": 326,
   "metadata": {},
   "outputs": [],
   "source": [
    "def view_d2v_results(top = 20, bottom = False):\n",
    "    et_vecs = np.stack(et.d2v_vec)\n",
    "    argmax = []\n",
    "    cos_sim = []\n",
    "    for vec in mnc.d2v_vec:\n",
    "        arr1 = doc_emb_model.wv.cosine_similarities(vec,et_vecs)\n",
    "        argmax.append(arr1.argmax())\n",
    "        cos_sim.append(arr1.max())\n",
    "        \n",
    "    \n",
    "    #creating new df to store results for best match article and visualize below\n",
    "    tfidf_results = mnc.copy()\n",
    "    tfidf_results[\"Sim_Score\"] =  cos_sim\n",
    "    tfidf_results[\"ET_Title\"] = et.title.values[argmax]\n",
    "    tfidf_results[\"ET_Text\"] = et.text.values[argmax]\n",
    "    tfidf_results[\"ET_Link\"] = et.link.values[argmax]\n",
    "    \n",
    "    if bottom:\n",
    "        #printing the top=top articles\n",
    "        display(HTML(tfidf_results[[\"title\",\"link\",\"ET_Title\",\"ET_Link\",\"Sim_Score\"]].sort_values(by = [\"Sim_Score\"],ascending=False).tail(top).to_html()))\n",
    "    else:\n",
    "        display(HTML(tfidf_results[[\"title\",\"link\",\"ET_Title\",\"ET_Link\",\"Sim_Score\"]].sort_values(by = [\"Sim_Score\"],ascending=False).head(top).to_html()))"
   ]
  },
  {
   "cell_type": "markdown",
   "metadata": {},
   "source": [
    "## Top 20 results doc2vec"
   ]
  },
  {
   "cell_type": "code",
   "execution_count": 329,
   "metadata": {},
   "outputs": [
    {
     "data": {
      "text/html": [
       "<table border=\"1\" class=\"dataframe\">\n",
       "  <thead>\n",
       "    <tr style=\"text-align: right;\">\n",
       "      <th></th>\n",
       "      <th>title</th>\n",
       "      <th>link</th>\n",
       "      <th>ET_Title</th>\n",
       "      <th>ET_Link</th>\n",
       "      <th>Sim_Score</th>\n",
       "    </tr>\n",
       "    <tr>\n",
       "      <th>_id</th>\n",
       "      <th></th>\n",
       "      <th></th>\n",
       "      <th></th>\n",
       "      <th></th>\n",
       "      <th></th>\n",
       "    </tr>\n",
       "  </thead>\n",
       "  <tbody>\n",
       "    <tr>\n",
       "      <th>5f1744d70469677f8c1ec8f4</th>\n",
       "      <td>Government open to announce further steps to revive growth, says FM Sitharaman</td>\n",
       "      <td>https://www.moneycontrol.com/news/business/economy/government-open-to-announce-further-steps-to-revive-growth-says-fm-sitharaman-5578571.html</td>\n",
       "      <td>Government open to announcing more measures to boost growth, says Nirmala Sitharaman</td>\n",
       "      <td>https://economictimes.indiatimes.com/news/economy/policy/government-open-to-announcing-more-measures-to-boost-growth-says-nirmala-sitharaman/articleshow/77089767.cms</td>\n",
       "      <td>0.956811</td>\n",
       "    </tr>\n",
       "    <tr>\n",
       "      <th>5f1744c30469677f8c1ec8d1</th>\n",
       "      <td>Coronavirus outbreak: Amarnath Yatra 2020 cancelled</td>\n",
       "      <td>https://www.moneycontrol.com/news/business/coronavirus-outbreak-amarnath-yatra-2020-cancelled-jammu-kashmir-shrine-board-5578401.html</td>\n",
       "      <td>Amarnath Yatra called off amid coronavirus crisis; 'Aarti' to be broadcast live</td>\n",
       "      <td>https://economictimes.indiatimes.com/news/politics-and-nation/amarnath-yatra-called-off-amid-coronavirus-crisis-aarti-to-be-broadcast-live/articleshow/77091101.cms</td>\n",
       "      <td>0.760326</td>\n",
       "    </tr>\n",
       "    <tr>\n",
       "      <th>5f1744bd0469677f8c1ec8c6</th>\n",
       "      <td>Axis Bank Q1 profit falls 19% to Rs 1,112 crore, NII grows 19.5%; slippages decline</td>\n",
       "      <td>https://www.moneycontrol.com/news/business/earnings/axis-bank-q1-profit-falls-19-to-rs-1112-crore-nii-grows-19-5-5577831.html</td>\n",
       "      <td>Axis Bank Q1 results: Profit falls 19% YoY to Rs 1,112 crore as provisions jump 16% YoY</td>\n",
       "      <td>https://economictimes.indiatimes.com/markets/stocks/earnings/axis-bank-q1-results-profit-falls-19-yoy-to-rs-1112-crore-misses-street-estimates/articleshow/77086123.cms</td>\n",
       "      <td>0.713166</td>\n",
       "    </tr>\n",
       "    <tr>\n",
       "      <th>5f1744e30469677f8c1ec905</th>\n",
       "      <td>Corona Kavach policy | Healthcare workers to get 5% discount on medical insurance premium</td>\n",
       "      <td>https://www.moneycontrol.com/news/business/corona-kavach-policy-healthcare-workers-to-get-5-discount-on-medical-insurance-premium-5547501.html</td>\n",
       "      <td>How much premium will you pay for indemnity-type Covid Kavach health insurance?</td>\n",
       "      <td>https://economictimes.indiatimes.com/wealth/insure/health-insurance/how-much-premium-will-you-pay-for-indemnity-type-covid-kavach-health-insurance/articleshow/77033216.cms</td>\n",
       "      <td>0.673375</td>\n",
       "    </tr>\n",
       "    <tr>\n",
       "      <th>5f1744bd0469677f8c1ec8c8</th>\n",
       "      <td>Bajaj Finserv Q1 net profit jumps 44% YoY; Bajaj Finance creates provision of Rs 1,450 crore</td>\n",
       "      <td>https://www.moneycontrol.com/news/business/markets/bajaj-finserv-q1-net-profit-jumps-44-yoy-bajaj-finance-creates-provision-of-rs-1450-crore-5577851.html</td>\n",
       "      <td>Axis Bank Q1 results: Profit falls 19% YoY to Rs 1,112 crore as provisions jump 16% YoY</td>\n",
       "      <td>https://economictimes.indiatimes.com/markets/stocks/earnings/axis-bank-q1-results-profit-falls-19-yoy-to-rs-1112-crore-misses-street-estimates/articleshow/77086123.cms</td>\n",
       "      <td>0.660461</td>\n",
       "    </tr>\n",
       "    <tr>\n",
       "      <th>5f1744ba0469677f8c1ec8be</th>\n",
       "      <td>Trade Setup for Wednesday: Top 15 things to know before Opening Bell</td>\n",
       "      <td>https://www.moneycontrol.com/news/business/markets/trade-setup-for-wednesday-top-15-things-to-know-before-opening-bell-100-5578031.html</td>\n",
       "      <td>Ahead of Market: 12 things that will decide stock action on Wednesday</td>\n",
       "      <td>https://economictimes.indiatimes.com/markets/stocks/news/ahead-of-market-12-things-that-will-decide-stock-action-on-wednesday/articleshow/77091211.cms</td>\n",
       "      <td>0.653671</td>\n",
       "    </tr>\n",
       "    <tr>\n",
       "      <th>5f1744fa0469677f8c1ec927</th>\n",
       "      <td>Gold hovers near nine-year high as virus fears drive safe-haven demand</td>\n",
       "      <td>https://www.moneycontrol.com/news/business/markets/gold-hovers-near-nine-year-high-as-virus-fears-drive-safe-haven-demand-5574941.html</td>\n",
       "      <td>It’s silver’s turn to shine as prices surge to four-year high</td>\n",
       "      <td>https://economictimes.indiatimes.com/markets/commodities/news/its-silvers-turn-to-shine-as-prices-surge-to-four-year-high/articleshow/77087263.cms</td>\n",
       "      <td>0.650821</td>\n",
       "    </tr>\n",
       "    <tr>\n",
       "      <th>5f1745170469677f8c1ec952</th>\n",
       "      <td>DAILY VOICE: Ignore SMS tips if you are serious about making money in stocks, says Rajesh Palviya of Axis Securities</td>\n",
       "      <td>https://www.moneycontrol.com/news/business/markets/daily-voice-ignore-sms-tips-if-you-are-serious-about-making-money-in-stocks-says-rajesh-palviya-of-axis-securities-5568841.html</td>\n",
       "      <td>Market Watch: How long can the bulls continue this run?</td>\n",
       "      <td>https://economictimes.indiatimes.com/markets/stocks/etmarkets-podcast/market-watch-how-long-can-the-bulls-continue-this-run/podcast/77088350.cms</td>\n",
       "      <td>0.643877</td>\n",
       "    </tr>\n",
       "    <tr>\n",
       "      <th>5f1744d90469677f8c1ec8f6</th>\n",
       "      <td>Rajasthan HC requests Speaker to defer action on disqualification notices till Friday</td>\n",
       "      <td>https://www.moneycontrol.com/news/india/rajasthan-hc-requests-speaker-to-defer-action-on-disqualification-notices-till-friday-5577561.html</td>\n",
       "      <td>Sachin Pilot sends legal notice to Congress MLA Malinga over horse-trading charge</td>\n",
       "      <td>https://economictimes.indiatimes.com/news/politics-and-nation/sachin-pilot-sends-legal-notice-to-congress-mla-malinga-over-horse-trading-charge/articleshow/77095070.cms</td>\n",
       "      <td>0.634762</td>\n",
       "    </tr>\n",
       "    <tr>\n",
       "      <th>5f1744bb0469677f8c1ec8c1</th>\n",
       "      <td>Bajaj Finance consolidated Q1 profit falls 19% to Rs 962 crore, new loans down 76%</td>\n",
       "      <td>https://www.moneycontrol.com/news/business/earnings/bajaj-finance-consolidated-q1-profit-falls-19-to-rs-962-crore-new-loans-down-76-5577211.html</td>\n",
       "      <td>Axis Bank Q1 results: Profit falls 19% YoY to Rs 1,112 crore as provisions jump 16% YoY</td>\n",
       "      <td>https://economictimes.indiatimes.com/markets/stocks/earnings/axis-bank-q1-results-profit-falls-19-yoy-to-rs-1112-crore-misses-street-estimates/articleshow/77086123.cms</td>\n",
       "      <td>0.627297</td>\n",
       "    </tr>\n",
       "    <tr>\n",
       "      <th>5f17451d0469677f8c1ec95d</th>\n",
       "      <td>Explained podcast | Oxford's coronavirus vaccine: All you need to know</td>\n",
       "      <td>https://www.moneycontrol.com/news/podcast/explained-podcast-oxfords-coronavirus-vaccine-all-you-need-to-know-5578141.html</td>\n",
       "      <td>Oxford University Coronavirus vaccine: Why it raises hope</td>\n",
       "      <td>https://economictimes.indiatimes.com/industry/healthcare/biotech/pharmaceuticals/oxford-university-coronavirus-vaccine-why-it-raises-hope/videoshow/77081366.cms</td>\n",
       "      <td>0.625266</td>\n",
       "    </tr>\n",
       "    <tr>\n",
       "      <th>5f1744d90469677f8c1ec8f7</th>\n",
       "      <td>D-Street Talk podcast | Nikhil Kamath of Zerodha says new investors moving away from MFs due to poor returns</td>\n",
       "      <td>https://www.moneycontrol.com/news/podcast/d-street-talk-nikhil-kamath-of-zerodha-says-new-investors-moving-away-from-mfs-due-to-poor-returns-5550421.html</td>\n",
       "      <td>Kotak Gold Fund: Don't chase price: Abhishek Bisen, Fund Manager, Kotak Gold Fund</td>\n",
       "      <td>https://economictimes.indiatimes.com/mf/analysis/dont-chase-price-abhishek-bisen-fund-manager-kotak-gold-fund/articleshow/77060460.cms</td>\n",
       "      <td>0.618115</td>\n",
       "    </tr>\n",
       "    <tr>\n",
       "      <th>5f1744e50469677f8c1ec907</th>\n",
       "      <td>Effective from June 30, your liquid funds become more transparent and liquid</td>\n",
       "      <td>https://www.moneycontrol.com/news/business/personal-finance/effective-from-june-30-your-liquid-funds-become-more-transparent-and-liquid-5481161.html</td>\n",
       "      <td>India funds halve shadow bank debt holdings as crisis persists</td>\n",
       "      <td>https://economictimes.indiatimes.com/markets/stocks/news/india-funds-halve-shadow-bank-debt-holdings-as-crisis-persists/articleshow/77091670.cms</td>\n",
       "      <td>0.617152</td>\n",
       "    </tr>\n",
       "    <tr>\n",
       "      <th>5f1744c50469677f8c1ec8d6</th>\n",
       "      <td>Domestic mining, construction equipment sector to see over 20% decline in volume in 2020: ICRA</td>\n",
       "      <td>https://www.moneycontrol.com/news/business/domestic-mining-construction-equipment-sector-to-see-over-20-decline-in-volume-in-2020-icra-5578221.html</td>\n",
       "      <td>Nomura estimates India's GDP to contract by 6.1% in FY21, sees no rate cut in August</td>\n",
       "      <td>https://economictimes.indiatimes.com/news/economy/indicators/nomura-estimates-indias-gdp-to-contract-by-6-1-in-fy21-sees-no-rate-cut-in-august/articleshow/77084970.cms</td>\n",
       "      <td>0.607426</td>\n",
       "    </tr>\n",
       "    <tr>\n",
       "      <th>5f1744e20469677f8c1ec904</th>\n",
       "      <td>Does covering pre-existing ailments make Corona Kavach and Rakshak must-haves?</td>\n",
       "      <td>https://www.moneycontrol.com/news/business/personal-finance/does-covering-pre-existing-ailments-make-corona-kavach-and-suraksha-must-haves-5553491.html</td>\n",
       "      <td>IRDAI allows Corona Kavach policy to be sold as group health insurance</td>\n",
       "      <td>https://economictimes.indiatimes.com/wealth/insure/health-insurance/irdai-allows-corona-kavach-policy-to-be-sold-as-group-health-insurance/articleshow/77089750.cms</td>\n",
       "      <td>0.600258</td>\n",
       "    </tr>\n",
       "    <tr>\n",
       "      <th>5f1744be0469677f8c1ec8c9</th>\n",
       "      <td>SBI Life Insurance Q1 net profit up 5.1%</td>\n",
       "      <td>https://www.moneycontrol.com/news/business/companies/sbi-life-insurance-q1-net-profit-up-5-1-5577251.html</td>\n",
       "      <td>Axis Bank Q1 results: Profit falls 19% YoY to Rs 1,112 crore as provisions jump 16% YoY</td>\n",
       "      <td>https://economictimes.indiatimes.com/markets/stocks/earnings/axis-bank-q1-results-profit-falls-19-yoy-to-rs-1112-crore-misses-street-estimates/articleshow/77086123.cms</td>\n",
       "      <td>0.599488</td>\n",
       "    </tr>\n",
       "    <tr>\n",
       "      <th>5f1745100469677f8c1ec946</th>\n",
       "      <td>Coronavirus pandemic | Demand for credit cards, personal loans to go up, so will stress in these segments: Report</td>\n",
       "      <td>https://www.moneycontrol.com/news/business/coronavirus-pandemic-demand-for-credit-cards-personal-loans-to-go-up-so-will-stress-in-these-segments-report-5391551.html</td>\n",
       "      <td>Inflation could surge to 12% on second stimulus, says Rabobank</td>\n",
       "      <td>https://economictimes.indiatimes.com/news/economy/indicators/inflation-could-surge-to-12-on-second-stimulus-says-rabobank/articleshow/77082815.cms</td>\n",
       "      <td>0.598310</td>\n",
       "    </tr>\n",
       "    <tr>\n",
       "      <th>5f17450a0469677f8c1ec93d</th>\n",
       "      <td>Gold returns 25% so far this year; should you buy more or just hold?</td>\n",
       "      <td>https://www.moneycontrol.com/news/business/personal-finance/gold-returns-25-so-far-this-year-should-you-buy-more-or-just-hold-5531281.html</td>\n",
       "      <td>Kotak Gold Fund: Don't chase price: Abhishek Bisen, Fund Manager, Kotak Gold Fund</td>\n",
       "      <td>https://economictimes.indiatimes.com/mf/analysis/dont-chase-price-abhishek-bisen-fund-manager-kotak-gold-fund/articleshow/77060460.cms</td>\n",
       "      <td>0.592218</td>\n",
       "    </tr>\n",
       "    <tr>\n",
       "      <th>5f1744de0469677f8c1ec8fe</th>\n",
       "      <td>Equity inflows tank 95% in June; should you worry about it?</td>\n",
       "      <td>https://www.moneycontrol.com/news/business/markets/equity-inflows-tank-95-in-june-should-you-worry-about-it-5530541.html</td>\n",
       "      <td>Mutual fund industry folio count rises 9% in FY20 on robust performance</td>\n",
       "      <td>https://economictimes.indiatimes.com/mf/mf-news/mutual-fund-industry-folio-count-rises-9-in-fy20-on-robust-performance/articleshow/77085699.cms</td>\n",
       "      <td>0.590687</td>\n",
       "    </tr>\n",
       "    <tr>\n",
       "      <th>5f1744df0469677f8c1ec900</th>\n",
       "      <td>Corona Kavach health insurance policy evokes good response: Insurers</td>\n",
       "      <td>https://www.moneycontrol.com/news/india/corona-kavach-health-insurance-policy-evokes-good-response-insurers-5568181.html</td>\n",
       "      <td>IRDAI allows Corona Kavach policy to be sold as group health insurance</td>\n",
       "      <td>https://economictimes.indiatimes.com/wealth/insure/health-insurance/irdai-allows-corona-kavach-policy-to-be-sold-as-group-health-insurance/articleshow/77089750.cms</td>\n",
       "      <td>0.589964</td>\n",
       "    </tr>\n",
       "  </tbody>\n",
       "</table>"
      ],
      "text/plain": [
       "<IPython.core.display.HTML object>"
      ]
     },
     "metadata": {},
     "output_type": "display_data"
    }
   ],
   "source": [
    "view_d2v_results()"
   ]
  },
  {
   "cell_type": "markdown",
   "metadata": {},
   "source": [
    "## Bottom 20 results doc2vec"
   ]
  },
  {
   "cell_type": "code",
   "execution_count": 330,
   "metadata": {},
   "outputs": [
    {
     "data": {
      "text/html": [
       "<table border=\"1\" class=\"dataframe\">\n",
       "  <thead>\n",
       "    <tr style=\"text-align: right;\">\n",
       "      <th></th>\n",
       "      <th>title</th>\n",
       "      <th>link</th>\n",
       "      <th>ET_Title</th>\n",
       "      <th>ET_Link</th>\n",
       "      <th>Sim_Score</th>\n",
       "    </tr>\n",
       "    <tr>\n",
       "      <th>_id</th>\n",
       "      <th></th>\n",
       "      <th></th>\n",
       "      <th></th>\n",
       "      <th></th>\n",
       "      <th></th>\n",
       "    </tr>\n",
       "  </thead>\n",
       "  <tbody>\n",
       "    <tr>\n",
       "      <th>5f1744c10469677f8c1ec8cc</th>\n",
       "      <td>IATA chief: Four reasons to be optimistic about aviation</td>\n",
       "      <td>https://www.moneycontrol.com/news/opinion/iata-chief-four-reasons-to-be-optimistic-about-aviation-5575961.html</td>\n",
       "      <td>India funds halve shadow bank debt holdings as crisis persists</td>\n",
       "      <td>https://economictimes.indiatimes.com/markets/stocks/news/india-funds-halve-shadow-bank-debt-holdings-as-crisis-persists/articleshow/77091670.cms</td>\n",
       "      <td>0.452862</td>\n",
       "    </tr>\n",
       "    <tr>\n",
       "      <th>5f1745190469677f8c1ec956</th>\n",
       "      <td>NCDEX to launch 'Options on Goods' contracts of 3 commodities from July 27</td>\n",
       "      <td>https://www.moneycontrol.com/news/business/commodities/ncdex-to-launch-options-on-goods-contracts-of-3-commodities-from-july-27-5578821.html</td>\n",
       "      <td>16 firms show up at Indian Railways' pre-application conference on private trains</td>\n",
       "      <td>https://economictimes.indiatimes.com/industry/transportation/railways/16-firms-show-up-at-indian-railways-pre-application-conference-on-private-trains/articleshow/77094623.cms</td>\n",
       "      <td>0.451758</td>\n",
       "    </tr>\n",
       "    <tr>\n",
       "      <th>5f1744c40469677f8c1ec8d3</th>\n",
       "      <td>Anatomy of a ventilator procurement order: How arbitrary changes to specifications led to delays and cost overruns</td>\n",
       "      <td>https://www.moneycontrol.com/news/business/companies/anatomy-of-a-ventilator-procurement-order-how-arbitrary-changes-to-specifications-led-to-delays-and-cost-overruns-5577601.html</td>\n",
       "      <td>India funds halve shadow bank debt holdings as crisis persists</td>\n",
       "      <td>https://economictimes.indiatimes.com/markets/stocks/news/india-funds-halve-shadow-bank-debt-holdings-as-crisis-persists/articleshow/77091670.cms</td>\n",
       "      <td>0.448027</td>\n",
       "    </tr>\n",
       "    <tr>\n",
       "      <th>5f1744f70469677f8c1ec923</th>\n",
       "      <td>Unitech board to complete stuck real estate projects in 4 years: sources</td>\n",
       "      <td>https://www.moneycontrol.com/news/business/real-estate/unitech-board-to-complete-stuck-real-estate-projects-in-4-years-sources-5570811.html</td>\n",
       "      <td>Indian Hotels Company announces 100% acquisition of Sea Rock hotel site</td>\n",
       "      <td>https://economictimes.indiatimes.com/industry/services/hotels-/-restaurants/indian-hotels-company-announces-100-acquisition-of-sea-rock-hotel-site/articleshow/77088037.cms</td>\n",
       "      <td>0.444158</td>\n",
       "    </tr>\n",
       "    <tr>\n",
       "      <th>5f1744cf0469677f8c1ec8e5</th>\n",
       "      <td>Explained: What's behind the Twitter Bitcoin hack?</td>\n",
       "      <td>https://www.moneycontrol.com/news/technology/explained-whats-behind-the-twitter-bitcoin-hack-5562451.html</td>\n",
       "      <td>Jeff Bezos adds record $13 billion in single day to his fortune</td>\n",
       "      <td>https://economictimes.indiatimes.com/markets/stocks/news/jeff-bezos-adds-record-13-billion-in-single-day-to-his-fortune/articleshow/77080750.cms</td>\n",
       "      <td>0.444021</td>\n",
       "    </tr>\n",
       "    <tr>\n",
       "      <th>5f1745000469677f8c1ec930</th>\n",
       "      <td>Don’t wait for a hard landing to set your money matters in order</td>\n",
       "      <td>https://www.moneycontrol.com/news/business/personal-finance/dont-wait-for-a-hard-landing-to-set-your-money-matters-in-order-5217561.html</td>\n",
       "      <td>Infosys could be a multi-bagger for next 10 years: Rajat Sharma</td>\n",
       "      <td>https://economictimes.indiatimes.com/markets/expert-view/infosys-could-be-a-multi-bagger-for-next-10-years-rajat-sharma/articleshow/77087710.cms</td>\n",
       "      <td>0.441567</td>\n",
       "    </tr>\n",
       "    <tr>\n",
       "      <th>5f1744f00469677f8c1ec918</th>\n",
       "      <td>Woman in her 80s asked to pay tax on undisclosed Rs 196 crore in Swiss account: Report</td>\n",
       "      <td>https://www.moneycontrol.com/news/business/woman-asked-to-pay-tax-on-undisclosed-rs-196-crore-in-swiss-account-report-5566061.html</td>\n",
       "      <td>Rahul Bajaj to step down as Bajaj Finance chairman; stock drops 6%</td>\n",
       "      <td>https://economictimes.indiatimes.com/markets/stocks/news/rahul-bajaj-to-step-down-as-bajaj-finance-chairman-stock-drops-6/articleshow/77082037.cms</td>\n",
       "      <td>0.438472</td>\n",
       "    </tr>\n",
       "    <tr>\n",
       "      <th>5f1744fd0469677f8c1ec92b</th>\n",
       "      <td>Gold prices steady at Rs 49,267 per 10 gram, silver slips Rs 110 per kg</td>\n",
       "      <td>https://www.moneycontrol.com/news/business/commodities/gold-prices-steady-at-rs-49267-per-10-gram-silver-slips-rs-110-per-kg-5556691.html</td>\n",
       "      <td>India's Covid-19 fatality rate drops to 2.43% from 3.36% on June 17: Health Ministry</td>\n",
       "      <td>https://economictimes.indiatimes.com/news/politics-and-nation/indias-covid-19-fatality-rate-drops-to-2-43-from-3-36-on-june-17-health-ministry/articleshow/77087897.cms</td>\n",
       "      <td>0.438329</td>\n",
       "    </tr>\n",
       "    <tr>\n",
       "      <th>5f1744e10469677f8c1ec902</th>\n",
       "      <td>Buying a car after August 1? Know the own damage policy changes in store</td>\n",
       "      <td>https://www.moneycontrol.com/news/business/personal-finance/why-a-long-term-own-damage-motor-insurance-policy-is-a-must-have-5559161.html</td>\n",
       "      <td>Can NCB discount be claimed when buying motor insurance policies issued under sandbox regulations?</td>\n",
       "      <td>https://economictimes.indiatimes.com/wealth/insure/motor-insurance/can-ncb-discount-be-claimed-when-buying-motor-insurance-policies-issued-under-sandbox-regulations/articleshow/76970291.cms</td>\n",
       "      <td>0.435374</td>\n",
       "    </tr>\n",
       "    <tr>\n",
       "      <th>5f17450c0469677f8c1ec940</th>\n",
       "      <td>Urban Planning | The potential of moving the national capital</td>\n",
       "      <td>https://www.moneycontrol.com/news/opinion/urban-planning-the-potential-of-moving-the-national-capital-3976361.html</td>\n",
       "      <td>COVID-19 has aggravated pains for deal-making, 2020 to be uncertain year: Report</td>\n",
       "      <td>https://economictimes.indiatimes.com/news/company/corporate-trends/covid-19-has-aggravated-pains-for-deal-making-2020-to-be-uncertain-year-report/articleshow/77086984.cms</td>\n",
       "      <td>0.433799</td>\n",
       "    </tr>\n",
       "    <tr>\n",
       "      <th>5f1744cc0469677f8c1ec8e1</th>\n",
       "      <td>Leaked Samsung Galaxy Note 20 images reveal key specifications</td>\n",
       "      <td>https://www.moneycontrol.com/news/technology/leaked-samsung-galaxy-note-20-images-reveal-key-specifications-5569781.html</td>\n",
       "      <td>How To Make A Great First Impression During A Job Interview Via Video - Remote Interviewing Tips</td>\n",
       "      <td>https://economictimes.indiatimes.com/magazines/panache/how-to-make-a-great-first-impression-during-a-job-interview-via-video/slideshow/76848771.cms</td>\n",
       "      <td>0.427951</td>\n",
       "    </tr>\n",
       "    <tr>\n",
       "      <th>5f1744c10469677f8c1ec8cd</th>\n",
       "      <td>OnePlus Nord: Missing its target audience by a notch</td>\n",
       "      <td>https://www.moneycontrol.com/news/technology/gadgets/oneplus-nord-missing-its-target-audience-by-a-notch-5579271.html</td>\n",
       "      <td>OnePlus Nord launched with 6 cameras at Rs 24,999, to be available on August 4</td>\n",
       "      <td>https://economictimes.indiatimes.com/magazines/panache/oneplus-nord-launched-with-90-hz-fluid-display-6-cameras-and-12gb-ram/articleshow/77089002.cms</td>\n",
       "      <td>0.426467</td>\n",
       "    </tr>\n",
       "    <tr>\n",
       "      <th>5f1744d80469677f8c1ec8f5</th>\n",
       "      <td>BJP plotting to topple governments in Oppn-ruled states using central agencies, money power: Mamata Banerjee</td>\n",
       "      <td>https://www.moneycontrol.com/news/politics/bjp-plotting-to-topple-governments-in-oppn-ruled-states-using-central-agencies-money-power-mamata-banerjee-5576581.html</td>\n",
       "      <td>Bihar situation gone out of control, NDA's good governance claims exposed: Rahul Gandhi</td>\n",
       "      <td>https://economictimes.indiatimes.com/news/politics-and-nation/bihar-situation-gone-out-of-control-ndas-good-governance-claims-exposed-rahul-gandhi/articleshow/77086884.cms</td>\n",
       "      <td>0.425746</td>\n",
       "    </tr>\n",
       "    <tr>\n",
       "      <th>5f1744d30469677f8c1ec8ec</th>\n",
       "      <td>International flights on July 21: Daily updates on arrivals, departures under Vande Bharat Mission</td>\n",
       "      <td>https://www.moneycontrol.com/news/india/international-flights-repatriation-on-july-21-daily-updates-on-arrivals-departures-under-vande-bharat-mission-5574261.html</td>\n",
       "      <td>Karnataka govt in association with Covid India campaign launches maiden plasma bank</td>\n",
       "      <td>https://economictimes.indiatimes.com/news/politics-and-nation/karnataka-govt-in-association-with-covid-india-campaign-launches-maiden-plasma-bank/articleshow/77090255.cms</td>\n",
       "      <td>0.424819</td>\n",
       "    </tr>\n",
       "    <tr>\n",
       "      <th>5f1744be0469677f8c1ec8ca</th>\n",
       "      <td>Indians need to be more firm in saying ‘No’ to Chinese products</td>\n",
       "      <td>https://www.moneycontrol.com/news/opinion/indians-need-to-be-more-firm-in-saying-no-to-chinese-products-5576761.html</td>\n",
       "      <td>OnePlus Nord launched with 6 cameras at Rs 24,999, to be available on August 4</td>\n",
       "      <td>https://economictimes.indiatimes.com/magazines/panache/oneplus-nord-launched-with-90-hz-fluid-display-6-cameras-and-12gb-ram/articleshow/77089002.cms</td>\n",
       "      <td>0.417457</td>\n",
       "    </tr>\n",
       "    <tr>\n",
       "      <th>5f1744d50469677f8c1ec8ef</th>\n",
       "      <td>Trailing in polls, Trump re-election campaign boosts spending in June</td>\n",
       "      <td>https://www.moneycontrol.com/news/world/trailing-in-polls-trump-re-election-campaign-boosts-spending-in-june-5579151.html</td>\n",
       "      <td>Inflation could surge to 12% on second stimulus, says Rabobank</td>\n",
       "      <td>https://economictimes.indiatimes.com/news/economy/indicators/inflation-could-surge-to-12-on-second-stimulus-says-rabobank/articleshow/77082815.cms</td>\n",
       "      <td>0.417079</td>\n",
       "    </tr>\n",
       "    <tr>\n",
       "      <th>5f1744d50469677f8c1ec8f0</th>\n",
       "      <td>Iraq increases oil exports in July, still pumps above OPEC+ target</td>\n",
       "      <td>https://www.moneycontrol.com/news/business/commodities/iraq-increases-oil-exports-in-july-still-pumps-above-opec-target-5578901.html</td>\n",
       "      <td>Inflation could surge to 12% on second stimulus, says Rabobank</td>\n",
       "      <td>https://economictimes.indiatimes.com/news/economy/indicators/inflation-could-surge-to-12-on-second-stimulus-says-rabobank/articleshow/77082815.cms</td>\n",
       "      <td>0.407277</td>\n",
       "    </tr>\n",
       "    <tr>\n",
       "      <th>5f1744c00469677f8c1ec8cb</th>\n",
       "      <td>Legal Matters | Why are there so few women justices in India? Our male-dominated collegiums could hold the answer</td>\n",
       "      <td>https://www.moneycontrol.com/news/opinion/legal-matters-why-are-there-so-few-women-justices-in-india-our-male-dominated-collegiums-could-hold-the-answer-5576101.html</td>\n",
       "      <td>Rahul Bajaj to step down as Bajaj Finance chairman; stock drops 6%</td>\n",
       "      <td>https://economictimes.indiatimes.com/markets/stocks/news/rahul-bajaj-to-step-down-as-bajaj-finance-chairman-stock-drops-6/articleshow/77082037.cms</td>\n",
       "      <td>0.390300</td>\n",
       "    </tr>\n",
       "    <tr>\n",
       "      <th>5f1744c50469677f8c1ec8d7</th>\n",
       "      <td>OnePlus Nord launched with Snapdragon 765G, six cameras, 90Hz AMOLED display, starting at Rs 24,999</td>\n",
       "      <td>https://www.moneycontrol.com/news/technology/oneplus-nord-lauched-with-snapdragon-765g-six-cameras-90hz-amoled-display-starting-at-rs-24999-5578561.html</td>\n",
       "      <td>bharat bond etf: Second tranche of Bharat Bond ETF garners Rs 10,992 cr</td>\n",
       "      <td>https://economictimes.indiatimes.com/mf/mf-news/second-tranche-of-bharat-bond-etf-garners-rs-10992-cr/articleshow/77078000.cms</td>\n",
       "      <td>0.388823</td>\n",
       "    </tr>\n",
       "    <tr>\n",
       "      <th>5f1744ce0469677f8c1ec8e4</th>\n",
       "      <td>Indian-American voters could make huge difference in battleground states: Top Democratic leader</td>\n",
       "      <td>https://www.moneycontrol.com/news/world/indian-american-voters-could-make-huge-difference-in-battleground-states-top-democratic-leader-5566001.html</td>\n",
       "      <td>Infosys could be a multi-bagger for next 10 years: Rajat Sharma</td>\n",
       "      <td>https://economictimes.indiatimes.com/markets/expert-view/infosys-could-be-a-multi-bagger-for-next-10-years-rajat-sharma/articleshow/77087710.cms</td>\n",
       "      <td>0.348480</td>\n",
       "    </tr>\n",
       "  </tbody>\n",
       "</table>"
      ],
      "text/plain": [
       "<IPython.core.display.HTML object>"
      ]
     },
     "metadata": {},
     "output_type": "display_data"
    }
   ],
   "source": [
    "view_d2v_results(bottom=True)"
   ]
  },
  {
   "cell_type": "markdown",
   "metadata": {},
   "source": [
    "## doc2vec Insights"
   ]
  },
  {
   "cell_type": "markdown",
   "metadata": {},
   "source": []
  },
  {
   "cell_type": "markdown",
   "metadata": {},
   "source": [
    "# Bert with Cosine"
   ]
  },
  {
   "cell_type": "code",
   "execution_count": 203,
   "metadata": {},
   "outputs": [],
   "source": [
    "import gc"
   ]
  },
  {
   "cell_type": "code",
   "execution_count": 204,
   "metadata": {},
   "outputs": [
    {
     "data": {
      "text/plain": [
       "14893"
      ]
     },
     "execution_count": 204,
     "metadata": {},
     "output_type": "execute_result"
    }
   ],
   "source": [
    "gc.collect()"
   ]
  },
  {
   "cell_type": "code",
   "execution_count": null,
   "metadata": {},
   "outputs": [],
   "source": []
  }
 ],
 "metadata": {
  "kernelspec": {
   "display_name": "Python 3",
   "language": "python",
   "name": "python3"
  },
  "language_info": {
   "codemirror_mode": {
    "name": "ipython",
    "version": 3
   },
   "file_extension": ".py",
   "mimetype": "text/x-python",
   "name": "python",
   "nbconvert_exporter": "python",
   "pygments_lexer": "ipython3",
   "version": "3.8.3"
  }
 },
 "nbformat": 4,
 "nbformat_minor": 4
}
